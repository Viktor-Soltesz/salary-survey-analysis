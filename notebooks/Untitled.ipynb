{
 "cells": [
  {
   "cell_type": "markdown",
   "id": "04f38266-e5f9-46c0-ad97-41b1c9b9b18a",
   "metadata": {},
   "source": [
    "<font size=\"6.5\"><b>Style sheet</b></font>"
   ]
  },
  {
   "cell_type": "code",
   "execution_count": 10,
   "id": "7f5a2ca5-877d-405e-afc3-10d16c118ff9",
   "metadata": {},
   "outputs": [
    {
     "data": {
      "text/html": [
       "\n",
       "<style>\n",
       "h1 {\n",
       "    background-color: #0e2e3b;\n",
       "    color: white;\n",
       "    font-size: 40px;\n",
       "    font-weight: bold;\n",
       "    padding: 10px;\n",
       "}\n",
       "h2 {\n",
       "    background-color: #07447E;\n",
       "    color: white;\n",
       "    font-size: 30px;\n",
       "    font-weight: bold;\n",
       "    padding: 10px;\n",
       "}\n",
       "h3 {\n",
       "    background-color: #047c98;\n",
       "    color: white;\n",
       "    font-size: 20px;\n",
       "    font-weight: bold;\n",
       "    padding: 10px;\n",
       "}\n",
       "h4 {\n",
       "    background-color: #0AB89E;\n",
       "    color: white;\n",
       "    font-size: 20px;\n",
       "    font-weight: bold;\n",
       "    padding: 5px;\n",
       "}\n",
       "\n",
       "/* Matching comment styles */\n",
       ".h1-comment {\n",
       "    background-color: #0e2e3b;\n",
       "    color: white;\n",
       "    padding: 10px;\n",
       "    font-size: 16px;\n",
       "}\n",
       ".h2-comment {\n",
       "    background-color: #07447E;\n",
       "    color: white;\n",
       "    padding: 10px;\n",
       "    font-size: 14px;\n",
       "}\n",
       ".h3-comment {\n",
       "    background-color: #047c98;\n",
       "    color: white;\n",
       "    padding: 10px;\n",
       "    font-size: 14px;\n",
       "}\n",
       ".h4-comment {\n",
       "    background-color: #0AB89E;\n",
       "    color: white;\n",
       "    padding: 10px;\n",
       "    font-size: 12px;\n",
       "}\n",
       ".conclusion {\n",
       "    background-color: #f7fe9a;\n",
       "    color: black;\n",
       "    padding: 10px;\n",
       "    font-size: 16px;\n",
       "}\n",
       "p {\n",
       "    background-color: #f7fe9a;\n",
       "    color: black;\n",
       "    line-height: 1.5;\n",
       "    margin: 10px 0;\n",
       "    padding: 10px;\n",
       "    font-size: 16px;\n",
       "}\n",
       "</style>\n"
      ],
      "text/plain": [
       "<IPython.core.display.HTML object>"
      ]
     },
     "metadata": {},
     "output_type": "display_data"
    }
   ],
   "source": [
    "from IPython.display import HTML, display\n",
    "\n",
    "styles = \"\"\"\n",
    "<style>\n",
    "h1 {\n",
    "    background-color: #0e2e3b;\n",
    "    color: white;\n",
    "    font-size: 40px;\n",
    "    font-weight: bold;\n",
    "    padding: 10px;\n",
    "}\n",
    "h2 {\n",
    "    background-color: #07447E;\n",
    "    color: white;\n",
    "    font-size: 30px;\n",
    "    font-weight: bold;\n",
    "    padding: 10px;\n",
    "}\n",
    "h3 {\n",
    "    background-color: #047c98;\n",
    "    color: white;\n",
    "    font-size: 20px;\n",
    "    font-weight: bold;\n",
    "    padding: 10px;\n",
    "}\n",
    "h4 {\n",
    "    background-color: #0AB89E;\n",
    "    color: white;\n",
    "    font-size: 20px;\n",
    "    font-weight: bold;\n",
    "    padding: 5px;\n",
    "}\n",
    "\n",
    "/* Matching comment styles */\n",
    ".h1-comment {\n",
    "    background-color: #0e2e3b;\n",
    "    color: white;\n",
    "    padding: 10px;\n",
    "    font-size: 16px;\n",
    "}\n",
    ".h2-comment {\n",
    "    background-color: #07447E;\n",
    "    color: white;\n",
    "    padding: 10px;\n",
    "    font-size: 14px;\n",
    "}\n",
    ".h3-comment {\n",
    "    background-color: #047c98;\n",
    "    color: white;\n",
    "    padding: 10px;\n",
    "    font-size: 14px;\n",
    "}\n",
    ".h4-comment {\n",
    "    background-color: #0AB89E;\n",
    "    color: white;\n",
    "    padding: 10px;\n",
    "    font-size: 12px;\n",
    "}\n",
    ".conclusion {\n",
    "    background-color: #f7fe9a;\n",
    "    color: black;\n",
    "    padding: 10px;\n",
    "    font-size: 16px;\n",
    "}\n",
    "p {\n",
    "    background-color: #f7fe9a;\n",
    "    color: black;\n",
    "    line-height: 1.5;\n",
    "    margin: 10px 0;\n",
    "    padding: 10px;\n",
    "    font-size: 16px;\n",
    "}\n",
    "</style>\n",
    "\"\"\"\n",
    "\n",
    "display(HTML(styles))"
   ]
  },
  {
   "cell_type": "markdown",
   "id": "f2e03fa5-c335-4e22-aca4-a97c3e48a1f2",
   "metadata": {},
   "source": [
    "simple markdown text"
   ]
  },
  {
   "cell_type": "markdown",
   "id": "b01bc662-14bb-4fe2-bc7d-a2608ecefa91",
   "metadata": {},
   "source": [
    "<div class=\"conclusion\">\n",
    "Conclusion:<br>\n",
    "...\n",
    "</div>"
   ]
  },
  {
   "cell_type": "markdown",
   "id": "d8766c79-9c5e-4e0f-b927-947eae22e25c",
   "metadata": {},
   "source": [
    "> This is a blockquote."
   ]
  },
  {
   "cell_type": "markdown",
   "id": "bc2cbeca-5bb2-4995-a48c-3a9a911792ab",
   "metadata": {},
   "source": [
    "---\n",
    "\n",
    "This is text separated by a horizontal rule.\n",
    "\n",
    "***"
   ]
  },
  {
   "cell_type": "markdown",
   "id": "8392762a-db0d-4326-b7c3-fcbbbd9a793b",
   "metadata": {},
   "source": [
    "# H1"
   ]
  },
  {
   "cell_type": "markdown",
   "id": "de9c9139-0203-4e13-be7a-b5f51d8badb5",
   "metadata": {},
   "source": [
    "## H2"
   ]
  },
  {
   "cell_type": "markdown",
   "id": "63afaf88-7db8-42bb-bf24-96194d4cdf07",
   "metadata": {},
   "source": [
    "### H3"
   ]
  },
  {
   "cell_type": "markdown",
   "id": "3cdba8ea-02ef-4bbc-985f-367a426bfb48",
   "metadata": {},
   "source": [
    "#### H4"
   ]
  },
  {
   "cell_type": "code",
   "execution_count": null,
   "id": "dd093ee7-3232-46bd-97c1-d43648b390ce",
   "metadata": {},
   "outputs": [],
   "source": []
  }
 ],
 "metadata": {
  "kernelspec": {
   "display_name": "data_analytics_01",
   "language": "python",
   "name": "data_analytics_01"
  },
  "language_info": {
   "codemirror_mode": {
    "name": "ipython",
    "version": 3
   },
   "file_extension": ".py",
   "mimetype": "text/x-python",
   "name": "python",
   "nbconvert_exporter": "python",
   "pygments_lexer": "ipython3",
   "version": "3.12.4"
  }
 },
 "nbformat": 4,
 "nbformat_minor": 5
}
