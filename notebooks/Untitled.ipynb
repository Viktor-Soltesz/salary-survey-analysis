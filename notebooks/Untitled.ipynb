{
 "cells": [
  {
   "cell_type": "code",
   "execution_count": 1,
   "id": "619cbfc9-6820-4604-9660-75351c234565",
   "metadata": {},
   "outputs": [],
   "source": [
    "import json\n",
    "\n",
    "def count_code_lines(notebook_path):\n",
    "    with open(notebook_path, 'r', encoding='utf-8') as f:\n",
    "        notebook = json.load(f)\n",
    "    \n",
    "    code_lines = 0\n",
    "    for cell in notebook.get('cells', []):\n",
    "        if cell.get('cell_type') == 'code':\n",
    "            code_lines += sum(1 for line in cell.get('source', []) if line.strip())  # Ignore empty lines\n",
    "            \n",
    "    return code_lines"
   ]
  },
  {
   "cell_type": "code",
   "execution_count": 3,
   "id": "afed4329-9c8d-4b9f-9c5a-010809413aff",
   "metadata": {},
   "outputs": [
    {
     "name": "stdout",
     "output_type": "stream",
     "text": [
      "Total lines of code: 1888\n"
     ]
    }
   ],
   "source": [
    "notebook_path = \"Salaries_Preparation.ipynb\"  # Change this to your file path\n",
    "print(f\"Total lines of code: {count_code_lines(notebook_path)}\")"
   ]
  },
  {
   "cell_type": "code",
   "execution_count": 5,
   "id": "72dea3d1-9720-4593-9c50-2b17ca7cdae7",
   "metadata": {},
   "outputs": [
    {
     "name": "stdout",
     "output_type": "stream",
     "text": [
      "Total lines of code: 5472\n"
     ]
    }
   ],
   "source": [
    "notebook_path = \"Salaries_Analysis.ipynb\"  # Change this to your file path\n",
    "print(f\"Total lines of code: {count_code_lines(notebook_path)}\")"
   ]
  },
  {
   "cell_type": "code",
   "execution_count": 7,
   "id": "a78aa425-8946-4fa4-bed7-c6130084347b",
   "metadata": {},
   "outputs": [
    {
     "name": "stdout",
     "output_type": "stream",
     "text": [
      "Total lines of code: 1869\n"
     ]
    }
   ],
   "source": [
    "notebook_path = \"Salaries_Prediction.ipynb\"  # Change this to your file path\n",
    "print(f\"Total lines of code: {count_code_lines(notebook_path)}\")"
   ]
  },
  {
   "cell_type": "code",
   "execution_count": 9,
   "id": "b0d6b58f-e071-456d-8c27-81d4e24918ed",
   "metadata": {},
   "outputs": [
    {
     "name": "stdout",
     "output_type": "stream",
     "text": [
      "Total lines of code: 806\n"
     ]
    }
   ],
   "source": [
    "notebook_path = \"TDD_workbench.ipynb\"  # Change this to your file path\n",
    "print(f\"Total lines of code: {count_code_lines(notebook_path)}\")"
   ]
  },
  {
   "cell_type": "code",
   "execution_count": null,
   "id": "c59dac0b-8221-4272-9328-c9500013aa63",
   "metadata": {},
   "outputs": [],
   "source": []
  }
 ],
 "metadata": {
  "kernelspec": {
   "display_name": "Python 3 (ipykernel)",
   "language": "python",
   "name": "python3"
  },
  "language_info": {
   "codemirror_mode": {
    "name": "ipython",
    "version": 3
   },
   "file_extension": ".py",
   "mimetype": "text/x-python",
   "name": "python",
   "nbconvert_exporter": "python",
   "pygments_lexer": "ipython3",
   "version": "3.12.4"
  }
 },
 "nbformat": 4,
 "nbformat_minor": 5
}
