{
 "cells": [
  {
   "cell_type": "markdown",
   "id": "04f38266-e5f9-46c0-ad97-41b1c9b9b18a",
   "metadata": {},
   "source": [
    "<div style=\"text-align: center;\">\n",
    "    <font size=\"7\"><b>Style sheet</b></font>\n",
    "</div>"
   ]
  },
  {
   "cell_type": "code",
   "execution_count": 2,
   "id": "8b4d7414-90b7-4aac-986b-ac86e487e64a",
   "metadata": {},
   "outputs": [],
   "source": [
    "from IPython.display import HTML, display"
   ]
  },
  {
   "cell_type": "markdown",
   "id": "8d3541a9-0cca-4673-93a3-99f407dce2f6",
   "metadata": {},
   "source": [
    "For Light Theme:"
   ]
  },
  {
   "cell_type": "code",
   "execution_count": 3,
   "id": "7f5a2ca5-877d-405e-afc3-10d16c118ff9",
   "metadata": {},
   "outputs": [],
   "source": [
    "style_light_theme = \"\"\"\n",
    "<style>\n",
    "h1 {\n",
    "    background-color: #0e2e3b;\n",
    "    color: white;\n",
    "    font-size: 40px !important;\n",
    "    font-weight: 700 !important;\n",
    "    padding: 10px;\n",
    "}\n",
    "h2 {\n",
    "    background-color: #07447E;\n",
    "    color: white;\n",
    "    font-size: 35px !important;\n",
    "    font-weight: 700 !important;\n",
    "    padding: 10px;\n",
    "}\n",
    "h3 {\n",
    "    background-color: #047c98;\n",
    "    color: white;\n",
    "    font-size: 30px !important;\n",
    "    font-weight: 700 !important;\n",
    "    padding: 10px;\n",
    "}\n",
    "h4 {\n",
    "    background-color: #0AB89E;\n",
    "    color: white;\n",
    "    font-size: 25px !important;\n",
    "    font-weight: 700 !important;\n",
    "    padding: 5px;\n",
    "}\n",
    "/* ----------------------------------  Conclusion class */\n",
    ".c {\n",
    "    background-color: #f7fe9a;\n",
    "    color: black;\n",
    "    padding: 10px 10px 10px 20px;        /* Top, Right, Bottom, Left */\n",
    "    font-size: 16px;\n",
    "    font-style: italic;\n",
    "}\n",
    "/* ----------------------------------  Note class */\n",
    ".n {\n",
    "    background-color: #f4fcc0;\n",
    "    color: black;\n",
    "    padding: 2px 10px 2px 20px;        /* Top, Right, Bottom, Left */\n",
    "    font-size: 14px;\n",
    "    font-style: italic;\n",
    "}\n",
    "/* ----------------------------------  Inline code */\n",
    "code {\n",
    "    background-color: #f4f4f4;\n",
    "    color: #d6336c;\n",
    "    padding: 2px 4px;\n",
    "    border-radius: 3px;\n",
    "    font-family: \"Courier New\", Courier, monospace;\n",
    "}\n",
    "</style>\n",
    "\"\"\""
   ]
  },
  {
   "cell_type": "code",
   "execution_count": 4,
   "id": "3b4305ec-e65c-47b7-a7f2-afb84a4adb64",
   "metadata": {},
   "outputs": [
    {
     "data": {
      "text/html": [
       "\n",
       "<style>\n",
       "h1 {\n",
       "    background-color: #0e2e3b;\n",
       "    color: white;\n",
       "    font-size: 40px !important;\n",
       "    font-weight: 700 !important;\n",
       "    padding: 10px;\n",
       "}\n",
       "h2 {\n",
       "    background-color: #07447E;\n",
       "    color: white;\n",
       "    font-size: 35px !important;\n",
       "    font-weight: 700 !important;\n",
       "    padding: 10px;\n",
       "}\n",
       "h3 {\n",
       "    background-color: #047c98;\n",
       "    color: white;\n",
       "    font-size: 30px !important;\n",
       "    font-weight: 700 !important;\n",
       "    padding: 10px;\n",
       "}\n",
       "h4 {\n",
       "    background-color: #0AB89E;\n",
       "    color: white;\n",
       "    font-size: 25px !important;\n",
       "    font-weight: 700 !important;\n",
       "    padding: 5px;\n",
       "}\n",
       "/* ----------------------------------  Conclusion class */\n",
       ".c {\n",
       "    background-color: #f7fe9a;\n",
       "    color: black;\n",
       "    padding: 10px 10px 10px 20px;        /* Top, Right, Bottom, Left */\n",
       "    font-size: 16px;\n",
       "    font-style: italic;\n",
       "}\n",
       "/* ----------------------------------  Note class */\n",
       ".n {\n",
       "    background-color: #f4fcc0;\n",
       "    color: black;\n",
       "    padding: 2px 10px 2px 20px;        /* Top, Right, Bottom, Left */\n",
       "    font-size: 14px;\n",
       "    font-style: italic;\n",
       "}\n",
       "/* ----------------------------------  Inline code */\n",
       "code {\n",
       "    background-color: #f4f4f4;\n",
       "    color: #d6336c;\n",
       "    padding: 2px 4px;\n",
       "    border-radius: 3px;\n",
       "    font-family: \"Courier New\", Courier, monospace;\n",
       "}\n",
       "</style>\n"
      ],
      "text/plain": [
       "<IPython.core.display.HTML object>"
      ]
     },
     "metadata": {},
     "output_type": "display_data"
    }
   ],
   "source": [
    "#display(HTML(style_dark_theme))\n",
    "display(HTML(style_light_theme))"
   ]
  },
  {
   "cell_type": "markdown",
   "id": "b01bc662-14bb-4fe2-bc7d-a2608ecefa91",
   "metadata": {},
   "source": [
    "<div class=\"c\">\n",
    "Conclusion:\n",
    "<br>\n",
    "...\n",
    "</div>"
   ]
  },
  {
   "cell_type": "markdown",
   "id": "06845f87-7d3c-4990-8ed8-e2492cd83ab9",
   "metadata": {},
   "source": [
    "<div class=\"n\">\n",
    "Note:\n",
    "<br>\n",
    "...\n",
    "</div>"
   ]
  },
  {
   "cell_type": "markdown",
   "id": "0c72ab4f-0602-4b02-8732-373a17de51e4",
   "metadata": {},
   "source": [
    "For Dark Theme:"
   ]
  },
  {
   "cell_type": "code",
   "execution_count": 130,
   "id": "798c381b-edea-4ed2-98e7-73bdf03f88b7",
   "metadata": {},
   "outputs": [],
   "source": [
    "style_dark_theme = \"\"\"\n",
    "<style>\n",
    "/* ----------------------------------  H1 */\n",
    "h1 {\n",
    "    background-color: #19262e;\n",
    "    color: #adfff3;\n",
    "    font-size: 50px !important;\n",
    "    font-weight: 700 !important;\n",
    "    padding: 10px;\n",
    "}\n",
    "/* ----------------------------------  H2 */\n",
    "h2 {\n",
    "    background-color: #19252b;\n",
    "    color: #9cfff0;\n",
    "    font-size: 40px !important;\n",
    "    font-weight: 700 !important;\n",
    "    padding: 10px;\n",
    "}\n",
    "/* ----------------------------------  H3 */\n",
    "h3 {\n",
    "    background-color: #192329;\n",
    "    color: #72fce8; \n",
    "    font-size: 30px !important;\n",
    "    font-weight: 700 !important;\n",
    "    padding: 10px;\n",
    "}\n",
    "/* ----------------------------------  H4 */\n",
    "h4 {\n",
    "    background-color: #141b1f;\n",
    "    color: #72fce8;\n",
    "    font-size: 25px !important;\n",
    "    font-weight: 700 !important;\n",
    "    padding: 5px;\n",
    "}\n",
    "\n",
    "/* ----------------------------------  Comment class */\n",
    ".c {\n",
    "    background-color: #666940;\n",
    "    color: white;\n",
    "    padding: 10px;\n",
    "    font-size: 16px;\n",
    "    font-style: italic;\n",
    "}\n",
    "</style>\n",
    "\"\"\""
   ]
  },
  {
   "cell_type": "code",
   "execution_count": 11,
   "id": "d5763303-5bde-4c1a-a25e-adab884b5feb",
   "metadata": {},
   "outputs": [],
   "source": [
    "del generate_toc"
   ]
  },
  {
   "cell_type": "markdown",
   "id": "8392762a-db0d-4326-b7c3-fcbbbd9a793b",
   "metadata": {},
   "source": [
    "# Header 1"
   ]
  },
  {
   "cell_type": "markdown",
   "id": "de9c9139-0203-4e13-be7a-b5f51d8badb5",
   "metadata": {},
   "source": [
    "## Header 2"
   ]
  },
  {
   "cell_type": "markdown",
   "id": "63afaf88-7db8-42bb-bf24-96194d4cdf07",
   "metadata": {},
   "source": [
    "### Header 3"
   ]
  },
  {
   "cell_type": "markdown",
   "id": "3cdba8ea-02ef-4bbc-985f-367a426bfb48",
   "metadata": {},
   "source": [
    "#### Header 4"
   ]
  },
  {
   "cell_type": "markdown",
   "id": "f2e03fa5-c335-4e22-aca4-a97c3e48a1f2",
   "metadata": {},
   "source": [
    "Basic paragraph"
   ]
  },
  {
   "cell_type": "markdown",
   "id": "aeb170f3-08a2-4cb1-b7c4-af32a114ac84",
   "metadata": {},
   "source": [
    "Inline code: `print(\"Hello, World!\")`"
   ]
  },
  {
   "cell_type": "markdown",
   "id": "7dad73ba-d2ee-4893-a114-c99b28fff4bf",
   "metadata": {},
   "source": [
    "This how you make a word **bold** <br>\n",
    "This how you make a word *italic* <br>\n",
    "This how you make a word <u>underline</u> <br>\n",
    "This how you make a word ~~strikethrough~~ <br>"
   ]
  },
  {
   "cell_type": "code",
   "execution_count": 138,
   "id": "784f0132-d91a-4957-8b9b-99b8cc31b113",
   "metadata": {},
   "outputs": [],
   "source": [
    "# Miscellaneous styles\n",
    "misc_styles = \"\"\"\n",
    "<style>/* ---------------------------------- Bold */\n",
    "strong {\n",
    "    color: #ff4500;\n",
    "    font-weight: bold;\n",
    "}\n",
    "/* ---------------------------------- Italic */\n",
    "em {\n",
    "    color: #1e90ff;\n",
    "    font-style: italic;\n",
    "}\n",
    "/* ---------------------------------- Underline */\n",
    "del {\n",
    "    color: #d9534f;\n",
    "    text-decoration: line-through;\n",
    "}/* ---------------------------------- Horizontal rule */\n",
    "hr {\n",
    "    border: 0;\n",
    "    height: 3px;\n",
    "    background: balc /*linear-gradient(to right, #ee0979, #f7fe9a)*/;\n",
    "}\n",
    "/* ---------------------------------- Blockquote */\n",
    "blockquote {\n",
    "    background-color: #f9f9f9;\n",
    "    border-left: 5px solid #ccc;\n",
    "    padding: 10px;\n",
    "    font-style: italic;\n",
    "}\n",
    "/* ---------------------------------- Task list */\n",
    "input[type=\"checkbox\"] {\n",
    "    transform: scale(1.5);\n",
    "    margin-right: 10px;\n",
    "}\n",
    "/* ---------------------------------- Anchor (link) */\n",
    "a {\n",
    "    color: #3498db;\n",
    "    text-decoration: underline;\n",
    "}\n",
    "a:hover {\n",
    "    color: #2ecc71;\n",
    "    text-decoration: underline;\n",
    "}\n",
    "/* ----------------------------------  Image */\n",
    "img {\n",
    "    border: 2px solid #ccc;\n",
    "    border-radius: 5px;\n",
    "    max-width: 100%;\n",
    "    height: auto;\n",
    "}\n",
    "\n",
    "</style>\n",
    "\"\"\""
   ]
  },
  {
   "cell_type": "code",
   "execution_count": null,
   "id": "30357f31-3e04-4956-b61b-256876a539dd",
   "metadata": {},
   "outputs": [],
   "source": [
    "# display(HTML(misc_styles))"
   ]
  },
  {
   "cell_type": "markdown",
   "id": "bc2cbeca-5bb2-4995-a48c-3a9a911792ab",
   "metadata": {},
   "source": [
    "---\n",
    "This is text separated by a horizontal rule.\n",
    "***"
   ]
  },
  {
   "cell_type": "markdown",
   "id": "d8766c79-9c5e-4e0f-b927-947eae22e25c",
   "metadata": {},
   "source": [
    "Quoting:\n",
    "> This is a blockquote."
   ]
  },
  {
   "cell_type": "markdown",
   "id": "a6d17b3a-603b-4de4-b579-aac72b0a5442",
   "metadata": {},
   "source": [
    "Task list:\n",
    "- [x] Completed task\n",
    "- [ ] Incomplete task"
   ]
  },
  {
   "cell_type": "markdown",
   "id": "147d5403-2fb8-4cf2-b4b1-a6025952e42f",
   "metadata": {},
   "source": [
    "Creating a table:\n",
    "| Column 1 | Column 2 |\n",
    "|----------|----------|\n",
    "| Value 1  | Value 2  |"
   ]
  },
  {
   "cell_type": "markdown",
   "id": "e48131cc-b2b1-48b3-96e4-806cbaba1564",
   "metadata": {},
   "source": [
    "Links:\\\n",
    "[Visit Google](https://www.google.com)"
   ]
  },
  {
   "cell_type": "markdown",
   "id": "586bab39-c373-4bb4-b235-7ced335c637c",
   "metadata": {},
   "source": [
    "To reset:"
   ]
  },
  {
   "cell_type": "code",
   "execution_count": 225,
   "id": "1632762c-d23d-47c3-bca5-e7c20be4fa14",
   "metadata": {},
   "outputs": [],
   "source": [
    "# reset_styles = \"\"\"\n",
    "# <style>\n",
    "# /* Reset all elements to default styles */\n",
    "# h1, h2, h3, h4 {\n",
    "#     all: unset;\n",
    "# }\n",
    "# </style>\n",
    "# \"\"\"\n",
    "# display(HTML(reset_styles))"
   ]
  },
  {
   "cell_type": "markdown",
   "id": "816e4735-99a5-44af-846e-aef2048b7415",
   "metadata": {},
   "source": [
    "# Plotting"
   ]
  },
  {
   "cell_type": "code",
   "execution_count": 7,
   "id": "60e68358-27d3-414c-bb0c-372fa47a333b",
   "metadata": {},
   "outputs": [],
   "source": [
    "import matplotlib.pyplot as plt\n",
    "import numpy as np"
   ]
  },
  {
   "cell_type": "code",
   "execution_count": 22,
   "id": "d890d77f-d026-49cb-bcce-4a3fa5f51744",
   "metadata": {},
   "outputs": [],
   "source": [
    "# Set global parameters\n",
    "plt.style.use('seaborn-v0_8-whitegrid')  # Start with a base style\n",
    "# plt.rcParams.update({\n",
    "#     'axes.facecolor': '#fffefd',  # Background color of plots\n",
    "#     'figure.facecolor': '#fffefd',  # Overall figure background\n",
    "#     'grid.color': 'gray',          # Gridline color\n",
    "#     'grid.linestyle': '--',        # Gridline style\n",
    "#     'xtick.color': 'black',        # X-axis tick color\n",
    "#     'ytick.color': 'black',        # Y-axis tick color\n",
    "#     'axes.edgecolor': 'black'      # Edge color for the plot area\n",
    "# })"
   ]
  },
  {
   "cell_type": "code",
   "execution_count": 27,
   "id": "fc44b64d-dfa8-46e9-8e8b-c42f21eb5b81",
   "metadata": {},
   "outputs": [
    {
     "data": {
      "image/png": "[encoded data removed]",
      "text/plain": [
       "<Figure size 640x480 with 1 Axes>"
      ]
     },
     "metadata": {},
     "output_type": "display_data"
    }
   ],
   "source": [
    "# Example data\n",
    "x = np.linspace(0, 10, 100)\n",
    "y = np.sin(x)\n",
    "\n",
    "\n",
    "# Create a plot\n",
    "fig, ax = plt.subplots()\n",
    "\n",
    "# Plot the data\n",
    "ax.plot(x, y, label='Sine Wave', color='blue')\n",
    "\n",
    "# Add labels and title\n",
    "ax.set_title('Customized Background with Style')\n",
    "ax.set_xlabel('X-axis')\n",
    "ax.set_ylabel('Y-axis')\n",
    "\n",
    "# Add a legend\n",
    "ax.legend()\n",
    "\n",
    "# Show the plot\n",
    "plt.show()"
   ]
  }
 ],
 "metadata": {
  "kernelspec": {
   "display_name": "data_analytics_01",
   "language": "python",
   "name": "data_analytics_01"
  },
  "language_info": {
   "codemirror_mode": {
    "name": "ipython",
    "version": 3
   },
   "file_extension": ".py",
   "mimetype": "text/x-python",
   "name": "python",
   "nbconvert_exporter": "python",
   "pygments_lexer": "ipython3",
   "version": "3.12.4"
  }
 },
 "nbformat": 4,
 "nbformat_minor": 5
}
