{
 "cells": [
  {
   "cell_type": "markdown",
   "id": "f17150f0-9ccf-42ec-9646-2d7f4c897267",
   "metadata": {
    "tags": []
   },
   "source": [
    "<div style=\"text-align: center;\">\n",
    "    <font size=\"7\"><b>Preparing Salaries Data</b></font>\n",
    "</div>"
   ]
  },
  {
   "cell_type": "markdown",
   "id": "233278f8-0754-4324-b3ae-25df6523da9a",
   "metadata": {},
   "source": [
    "<div class=\"c\">\n",
    "This notebook is for preparing data for Analysis and Prediction. <br>\n",
    "Classical preparation steps are taken here: <br>\n",
    "    - Uniformization of terminology/ columns/ values/ units of measurement. <br>\n",
    "    - Handling missing and mistyped values. <br>\n",
    "    - Detecting outliers. <br>\n",
    "    - Deriving new variables. <br>\n",
    "    - Reporting the data quality metrics.<br>\n",
    "<br>\n",
    "A few words about the sources:<br>\n",
    "Three main sources were used for salary data; which repeated the survey yearly.<br>\n",
    "    1.) Kaggle.com, a central professional social-network for anything that is data-related. <br>\n",
    "&nbsp;&nbsp;&nbsp;&nbsp The data from Kaggle is enormous, and is filled out by individualy coming from a wide variaty of tech discciplines.<br>\n",
    "    2.) AI-Jobs.net, which is also centered around data-professionals, but not exclusively. This is a private recruitment & job-listing company.<br>\n",
    "    3.) Germany IT-Survey, a germany-specific survey targeting tech professionals. This is quite welcome, as I'm specifically interested in germany's IT landscape.\n",
    "</div>"
   ]
  },
  {
   "cell_type": "markdown",
   "id": "bf8d0f04-a5e1-45f1-8f2a-2e4cd39b73e6",
   "metadata": {},
   "source": [
    "<font size=\"6\"><b>Table of Content:</b></font>"
   ]
  },
  {
   "cell_type": "code",
   "execution_count": 5,
   "id": "3a3f58db-a6fe-4386-ba50-81c0f0c25a9f",
   "metadata": {},
   "outputs": [],
   "source": [
    "import sys\n",
    "sys.path.append('../')\n",
    "from scripts.tableofcontent_generator import generate_toc, generate_toc_withanchors\n",
    "notebook_path = '../notebooks/Salaries_Preparation.ipynb'"
   ]
  },
  {
   "cell_type": "code",
   "execution_count": 6,
   "id": "d1129344-5cea-4772-ac5a-365e9a9e6402",
   "metadata": {},
   "outputs": [
    {
     "name": "stdout",
     "output_type": "stream",
     "text": [
      "     1 Import libraries & data, general settings\n",
      "         1.1 Styles\n",
      "         1.2 Basic standardization\n",
      "         1.3 Downcasting data types for better memory usage\n",
      "             1.3.1 Kaggle\n",
      "             1.3.2 Germany IT survey\n",
      "             1.3.3 AI-Jobs.net\n",
      "     2 Comprehending the data. Uniformization.\n",
      "             2.0.1 Importing the Clean_Salary function\n",
      "         2.1 AI-Jobs.net\n",
      "             2.1.1 Exchange rates\n",
      "         2.2 Germany IT survey\n",
      "             2.2.1 Year: 2018\n",
      "             2.2.2 Year: 2019\n",
      "             2.2.3 Year: 2020\n",
      "                 2.2.3.1 Renaming the columns\n",
      "                 2.2.3.2 Checking cleanliness\n",
      "                 2.2.3.3 Converting to USD\n",
      "             2.2.4 Year: 2021\n",
      "                 2.2.4.1 checking cleanliness\n",
      "             2.2.5 Year: 2022\n",
      "             2.2.6 Year: 2023\n",
      "         2.3 Kaggle\n",
      "             2.3.1 Year: 2019\n",
      "             2.3.2 Year: 2020\n",
      "             2.3.3 Year: 2021\n",
      "             2.3.4 Year: 2022\n",
      "         2.4 Final checking uniformity\n",
      "         2.5 Final cleaning report\n",
      "     3 Union of the yearly dataframes\n",
      "         3.1 Germany IT Survey\n",
      "         3.2 Kaggle\n",
      "         3.3 AI-Jobs.net\n",
      "     4 Transformations after union\n",
      "         4.1 Dropping values based on project scope\n",
      "             4.1.1 Employment status\n",
      "                 4.1.1.1 AI-Jobs.net\n",
      "                 4.1.1.2 DE IT-Survey\n",
      "                 4.1.1.3 Kaggle\n",
      "             4.1.2 Country\n",
      "                 4.1.2.1 AI-Jobs\n",
      "                 4.1.2.2 Kaggle\n",
      "                 4.1.2.3 Germany IT-Survey\n",
      "             4.1.3 Seniority_level\n",
      "                 4.1.3.1 Ai-Jobs\n",
      "                 4.1.3.2 Germany IT-Survey\n",
      "                 4.1.3.3 Kaggle\n",
      "             4.1.4 Job-title\n",
      "                 4.1.4.1 AI-jobs.net\n",
      "                 4.1.4.2 Germany IT-Survey\n",
      "                 4.1.4.3 Kaggle\n",
      "         4.2 Uniformization\n",
      "             4.2.1 Country Codes\n",
      "                 4.2.1.1 Kaggle\n",
      "             4.2.2 Seniority level\n",
      "                 4.2.2.1 De-IT\n",
      "                 4.2.2.2 AI-Jobs.net\n",
      "                 4.2.2.3 Kaggle\n",
      "         4.3 Additonal cleaning\n",
      "             4.3.1 Germany-IT\n",
      "                 4.3.1.1 'experience' and 'years_of_experience_in_germany'\n",
      "                 4.3.1.2 City\n",
      "                 4.3.1.3 Language at work\n",
      "                 4.3.1.4 company_size\n",
      "                 4.3.1.5 'company_industry'\n",
      "                 4.3.1.6 company_type\n",
      "             4.3.2 Kaggle\n",
      "                 4.3.2.1 Education level\n",
      "                 4.3.2.2 company_size\n",
      "                 4.3.2.3 experience\n",
      "                 4.3.2.4 industry\n",
      "         4.4 AI-jobs\n",
      "             4.4.1 Company size\n",
      "     5 Deriving new variables\n",
      "         5.1 Country-standardized salary\n",
      "             5.1.1 Approach 2\n",
      "         5.2 Year-Standardized salary\n",
      "         5.3 Categorizing Job-titles\n",
      "             5.3.1 DE IT-Survey\n",
      "             5.3.2 AI-Jobs.net\n",
      "             5.3.3 Kaggle\n",
      "         5.4 Western Countries\n",
      "         5.5 Log-transformed salary\n",
      "     6 Outlier detection\n",
      "         6.1 Based on Normalized, Log-transformed salary\n",
      "             6.1.1 Kaggle\n",
      "             6.1.2 DE-IT\n",
      "             6.1.3 AI-Jobs.net\n",
      "                 6.1.3.1 Final check\n",
      "     7 Data Quality Metrics\n",
      "         7.1 Germany-It Survey\n",
      "         7.2 Kaggle\n",
      "         7.3 AI-Jobs.net\n",
      "         7.4 Plots\n",
      "     8 Exporting the cleaned data\n"
     ]
    }
   ],
   "source": [
    "toc_content = generate_toc(notebook_path)\n",
    "print(toc_content)"
   ]
  },
  {
   "cell_type": "markdown",
   "id": "dea222a8-aa4d-4da3-8e09-9ae1059bfbbe",
   "metadata": {
    "tags": []
   },
   "source": [
    "# Import libraries & data, general settings"
   ]
  },
  {
   "cell_type": "code",
   "execution_count": 8,
   "id": "4d2b68a8-4baf-4a60-9472-8e17ec7591e2",
   "metadata": {
    "tags": []
   },
   "outputs": [],
   "source": [
    "import pandas as pd\n",
    "import numpy as np\n",
    "import seaborn as sns\n",
    "import matplotlib.pyplot as plt\n",
    "import datetime as dt\n",
    "from datetime import datetime\n",
    "import re\n",
    "from IPython.display import HTML, display\n",
    "\n",
    "import statsmodels.api as sm\n",
    "from statsmodels.formula.api import ols\n",
    "import statsmodels.stats.multicomp as mc\n",
    "from scipy.stats import levene, shapiro\n",
    "\n",
    "# If the notebook is opened from the \"notebooks\" folder, we need to append the main directory to the \"python path\" so it sees all subfolders.\n",
    "import sys\n",
    "sys.path.append('../')"
   ]
  },
  {
   "cell_type": "code",
   "execution_count": 9,
   "id": "5aaefcd7-6d72-4e36-bc58-61c6a0b6e54e",
   "metadata": {
    "tags": []
   },
   "outputs": [],
   "source": [
    "df_it18_ini = pd.read_csv('../data/raw/IT_Salary_Survey_EU_2018.csv', low_memory=False)\n",
    "df_it19_ini = pd.read_csv('../data/raw/IT_Salary_Survey_EU_2019.csv', low_memory=False)\n",
    "df_it20_ini = pd.read_csv('../data/raw/IT_Salary_Survey_EU_2020.csv', low_memory=False)\n",
    "df_it21_ini = pd.read_csv('../data/raw/IT_Salary_Survey_EU_2021.csv', low_memory=False)\n",
    "df_it22_ini = pd.read_csv('../data/raw/IT_Salary_Survey_EU_2022.csv', low_memory=False)\n",
    "df_it23_ini = pd.read_csv('../data/raw/IT_Salary_Survey_EU_2023.csv', low_memory=False)\n",
    "\n",
    "df_k19_ini = pd.read_csv('../data/raw/kaggle_survey_2019_responses.csv', low_memory=False)\n",
    "df_k20_ini = pd.read_csv('../data/raw/kaggle_survey_2020_responses.csv', low_memory=False)\n",
    "df_k21_ini = pd.read_csv('../data/raw/kaggle_survey_2021_responses.csv', low_memory=False)\n",
    "df_k22_ini = pd.read_csv('../data/raw/kaggle_survey_2022_responses.csv', low_memory=False)\n",
    "\n",
    "df_ai_ini = pd.read_csv('../data/raw/ai-jobsnet_salaries_2024.csv', low_memory=False)"
   ]
  },
  {
   "cell_type": "code",
   "execution_count": 10,
   "id": "b1a63393-7820-43ca-acb7-47079b35fc5c",
   "metadata": {},
   "outputs": [],
   "source": [
    "country_salary_stats = pd.read_csv('../data/world_economic_indices/country_salary_stats.csv', sep=';', low_memory=False)"
   ]
  },
  {
   "cell_type": "code",
   "execution_count": 11,
   "id": "03b1af71-555f-4fda-b438-610d658e22b9",
   "metadata": {},
   "outputs": [],
   "source": [
    "dfs_ini = [\n",
    "    df_it18_ini,\n",
    "    df_it19_ini,\n",
    "    df_it20_ini,\n",
    "    df_it21_ini,\n",
    "    df_it22_ini,\n",
    "    df_it23_ini,\n",
    "    df_k19_ini,\n",
    "    df_k20_ini,\n",
    "    df_k21_ini,\n",
    "    df_k22_ini,\n",
    "    df_ai_ini,\n",
    "    country_salary_stats]"
   ]
  },
  {
   "cell_type": "code",
   "execution_count": 12,
   "id": "a0d4e67f-e222-4226-8795-4bed21246c55",
   "metadata": {},
   "outputs": [],
   "source": [
    "len_it18_ini = len(df_it18_ini)\n",
    "len_it19_ini = len(df_it19_ini)\n",
    "len_it20_ini = len(df_it20_ini)\n",
    "len_it21_ini = len(df_it21_ini)\n",
    "len_it22_ini = len(df_it22_ini)\n",
    "len_it23_ini = len(df_it23_ini)\n",
    "\n",
    "len_k19_ini = len(df_k19_ini)\n",
    "len_k20_ini = len(df_k20_ini)\n",
    "len_k21_ini = len(df_k21_ini)\n",
    "len_k22_ini = len(df_k22_ini)\n",
    "\n",
    "len_ai_ini = len(df_ai_ini)"
   ]
  },
  {
   "cell_type": "markdown",
   "id": "f5df1e0f-d327-43af-acbf-8301ef5d81e7",
   "metadata": {},
   "source": [
    "## Styles"
   ]
  },
  {
   "cell_type": "code",
   "execution_count": 14,
   "id": "0f096675",
   "metadata": {
    "scrolled": true
   },
   "outputs": [],
   "source": [
    "# General Display settings\n",
    "\n",
    "# Column display is supressed by default\n",
    "pd.set_option('display.max_columns', None)\n",
    "pd.set_option('display.max_rows', 100)\n",
    "\n",
    "#changing the display format\n",
    "pd.set_option('display.float_format', lambda x: '%.2f' % x)\n",
    "\n",
    "# Plotting format\n",
    "#print(plt.style.available)\n",
    "plt.style.use('seaborn-v0_8-whitegrid')"
   ]
  },
  {
   "cell_type": "code",
   "execution_count": 15,
   "id": "7d18fe47-d4ba-416f-b225-4cf90c8945dd",
   "metadata": {},
   "outputs": [],
   "source": [
    "style_light_theme = \"\"\"\n",
    "<style>\n",
    "h1 {\n",
    "    background-color: #0e2e3b;\n",
    "    color: white;\n",
    "    font-size: 40px !important;\n",
    "    font-weight: 700 !important;\n",
    "    padding: 10px;\n",
    "}\n",
    "h2 {\n",
    "    background-color: #07447E;\n",
    "    color: white;\n",
    "    font-size: 35px !important;\n",
    "    font-weight: 700 !important;\n",
    "    padding: 10px;\n",
    "}\n",
    "h3 {\n",
    "    background-color: #047c98;\n",
    "    color: white;\n",
    "    font-size: 30px !important;\n",
    "    font-weight: 700 !important;\n",
    "    padding: 10px;\n",
    "}\n",
    "h4 {\n",
    "    background-color: #0AB89E;\n",
    "    color: white;\n",
    "    font-size: 25px !important;\n",
    "    font-weight: 700 !important;\n",
    "    padding: 5px;\n",
    "}\n",
    "/* ----------------------------------  Conclusion class */\n",
    ".c {\n",
    "    background-color: #f7fe9a;\n",
    "    color: black;\n",
    "    padding: 10px 10px 10px 20px;        /* Top, Right, Bottom, Left */\n",
    "    font-size: 16px;\n",
    "    font-style: italic;\n",
    "}\n",
    "/* ----------------------------------  Note class */\n",
    ".note {\n",
    "    background-color: #f4fcc0;\n",
    "    color: black;\n",
    "    padding: 2px 10px 2px 20px;        /* Top, Right, Bottom, Left */\n",
    "    font-size: 14px;\n",
    "    font-style: italic;\n",
    "}\n",
    "</style>\n",
    "\"\"\""
   ]
  },
  {
   "cell_type": "code",
   "execution_count": 16,
   "id": "5281d99c-1c5e-4219-87b1-fbc0650bb904",
   "metadata": {},
   "outputs": [
    {
     "data": {
      "text/html": [
       "\n",
       "<style>\n",
       "h1 {\n",
       "    background-color: #0e2e3b;\n",
       "    color: white;\n",
       "    font-size: 40px !important;\n",
       "    font-weight: 700 !important;\n",
       "    padding: 10px;\n",
       "}\n",
       "h2 {\n",
       "    background-color: #07447E;\n",
       "    color: white;\n",
       "    font-size: 35px !important;\n",
       "    font-weight: 700 !important;\n",
       "    padding: 10px;\n",
       "}\n",
       "h3 {\n",
       "    background-color: #047c98;\n",
       "    color: white;\n",
       "    font-size: 30px !important;\n",
       "    font-weight: 700 !important;\n",
       "    padding: 10px;\n",
       "}\n",
       "h4 {\n",
       "    background-color: #0AB89E;\n",
       "    color: white;\n",
       "    font-size: 25px !important;\n",
       "    font-weight: 700 !important;\n",
       "    padding: 5px;\n",
       "}\n",
       "/* ----------------------------------  Conclusion class */\n",
       ".c {\n",
       "    background-color: #f7fe9a;\n",
       "    color: black;\n",
       "    padding: 10px 10px 10px 20px;        /* Top, Right, Bottom, Left */\n",
       "    font-size: 16px;\n",
       "    font-style: italic;\n",
       "}\n",
       "/* ----------------------------------  Note class */\n",
       ".note {\n",
       "    background-color: #f4fcc0;\n",
       "    color: black;\n",
       "    padding: 2px 10px 2px 20px;        /* Top, Right, Bottom, Left */\n",
       "    font-size: 14px;\n",
       "    font-style: italic;\n",
       "}\n",
       "</style>\n"
      ],
      "text/plain": [
       "<IPython.core.display.HTML object>"
      ]
     },
     "metadata": {},
     "output_type": "display_data"
    }
   ],
   "source": [
    "#display(HTML(style_dark_theme))\n",
    "display(HTML(style_light_theme))"
   ]
  },
  {
   "cell_type": "markdown",
   "id": "e5cae20d-351a-4b33-abea-03ad8879c37a",
   "metadata": {},
   "source": [
    "## Basic standardization"
   ]
  },
  {
   "cell_type": "code",
   "execution_count": 18,
   "id": "bcc4100b-e0da-49c2-8f6b-021b0dd85c5b",
   "metadata": {},
   "outputs": [],
   "source": [
    "# Column names to lowercase\n",
    "for df in dfs_ini:\n",
    "    df.columns = df.columns.str.lower()\n",
    "\n",
    "## Values to lowercase\n",
    "#for i in range(len(dfs)):\n",
    "#    dfs[i] = dfs[i].applymap(lambda x: x.lower() if isinstance(x, str) else x)\n",
    "\n",
    "# Whitespaces in column names\n",
    "for df in dfs_ini:\n",
    "    df.columns = df.columns.str.replace(' ', '_')"
   ]
  },
  {
   "cell_type": "code",
   "execution_count": 19,
   "id": "42b7322c-f8bc-4acd-b9be-334574a958c5",
   "metadata": {},
   "outputs": [
    {
     "data": {
      "text/html": [
       "<div>\n",
       "<style scoped>\n",
       "    .dataframe tbody tr th:only-of-type {\n",
       "        vertical-align: middle;\n",
       "    }\n",
       "\n",
       "    .dataframe tbody tr th {\n",
       "        vertical-align: top;\n",
       "    }\n",
       "\n",
       "    .dataframe thead th {\n",
       "        text-align: right;\n",
       "    }\n",
       "</style>\n",
       "<table border=\"1\" class=\"dataframe\">\n",
       "  <thead>\n",
       "    <tr style=\"text-align: right;\">\n",
       "      <th></th>\n",
       "      <th>timestamp</th>\n",
       "      <th>age</th>\n",
       "      <th>gender</th>\n",
       "      <th>city</th>\n",
       "      <th>position_</th>\n",
       "      <th>total_years_of_experience</th>\n",
       "      <th>years_of_experience_in_germany</th>\n",
       "      <th>seniority_level</th>\n",
       "      <th>your_main_technology_/_programming_language</th>\n",
       "      <th>other_technologies/programming_languages_you_use_often</th>\n",
       "      <th>yearly_brutto_salary_(without_bonus_and_stocks)_in_eur</th>\n",
       "      <th>yearly_bonus_+_stocks_in_eur</th>\n",
       "      <th>annual_brutto_salary_(without_bonus_and_stocks)_one_year_ago._only_answer_if_staying_in_the_same_country</th>\n",
       "      <th>annual_bonus+stocks_one_year_ago._only_answer_if_staying_in_same_country</th>\n",
       "      <th>number_of_vacation_days</th>\n",
       "      <th>employment_status</th>\n",
       "      <th>сontract_duration</th>\n",
       "      <th>main_language_at_work</th>\n",
       "      <th>company_size</th>\n",
       "      <th>company_type</th>\n",
       "      <th>have_you_lost_your_job_due_to_the_coronavirus_outbreak?</th>\n",
       "      <th>have_you_been_forced_to_have_a_shorter_working_week_(kurzarbeit)?_if_yes,_how_many_hours_per_week</th>\n",
       "      <th>have_you_received_additional_monetary_support_from_your_employer_due_to_work_from_home?_if_yes,_how_much_in_2020_in_eur</th>\n",
       "    </tr>\n",
       "  </thead>\n",
       "  <tbody>\n",
       "    <tr>\n",
       "      <th>0</th>\n",
       "      <td>24/11/2020 11:14:15</td>\n",
       "      <td>26.00</td>\n",
       "      <td>Male</td>\n",
       "      <td>Munich</td>\n",
       "      <td>Software Engineer</td>\n",
       "      <td>5</td>\n",
       "      <td>3</td>\n",
       "      <td>Senior</td>\n",
       "      <td>TypeScript</td>\n",
       "      <td>Kotlin, Javascript / Typescript</td>\n",
       "      <td>80000.00</td>\n",
       "      <td>5000</td>\n",
       "      <td>75000.00</td>\n",
       "      <td>10000</td>\n",
       "      <td>30</td>\n",
       "      <td>Full-time employee</td>\n",
       "      <td>Unlimited contract</td>\n",
       "      <td>English</td>\n",
       "      <td>51-100</td>\n",
       "      <td>Product</td>\n",
       "      <td>No</td>\n",
       "      <td>NaN</td>\n",
       "      <td>NaN</td>\n",
       "    </tr>\n",
       "    <tr>\n",
       "      <th>1</th>\n",
       "      <td>24/11/2020 11:14:16</td>\n",
       "      <td>26.00</td>\n",
       "      <td>Male</td>\n",
       "      <td>Berlin</td>\n",
       "      <td>Backend Developer</td>\n",
       "      <td>7</td>\n",
       "      <td>4</td>\n",
       "      <td>Senior</td>\n",
       "      <td>Ruby</td>\n",
       "      <td>NaN</td>\n",
       "      <td>80000.00</td>\n",
       "      <td>NaN</td>\n",
       "      <td>82000.00</td>\n",
       "      <td>5000</td>\n",
       "      <td>28</td>\n",
       "      <td>Full-time employee</td>\n",
       "      <td>Unlimited contract</td>\n",
       "      <td>English</td>\n",
       "      <td>101-1000</td>\n",
       "      <td>Product</td>\n",
       "      <td>No</td>\n",
       "      <td>NaN</td>\n",
       "      <td>NaN</td>\n",
       "    </tr>\n",
       "  </tbody>\n",
       "</table>\n",
       "</div>"
      ],
      "text/plain": [
       "             timestamp   age gender    city          position_  \\\n",
       "0  24/11/2020 11:14:15 26.00   Male  Munich  Software Engineer   \n",
       "1  24/11/2020 11:14:16 26.00   Male  Berlin  Backend Developer   \n",
       "\n",
       "  total_years_of_experience years_of_experience_in_germany seniority_level  \\\n",
       "0                         5                              3          Senior   \n",
       "1                         7                              4          Senior   \n",
       "\n",
       "  your_main_technology_/_programming_language  \\\n",
       "0                                  TypeScript   \n",
       "1                                        Ruby   \n",
       "\n",
       "  other_technologies/programming_languages_you_use_often  \\\n",
       "0                    Kotlin, Javascript / Typescript       \n",
       "1                                                NaN       \n",
       "\n",
       "   yearly_brutto_salary_(without_bonus_and_stocks)_in_eur  \\\n",
       "0                                           80000.00        \n",
       "1                                           80000.00        \n",
       "\n",
       "  yearly_bonus_+_stocks_in_eur  \\\n",
       "0                         5000   \n",
       "1                          NaN   \n",
       "\n",
       "   annual_brutto_salary_(without_bonus_and_stocks)_one_year_ago._only_answer_if_staying_in_the_same_country  \\\n",
       "0                                           75000.00                                                          \n",
       "1                                           82000.00                                                          \n",
       "\n",
       "  annual_bonus+stocks_one_year_ago._only_answer_if_staying_in_same_country  \\\n",
       "0                                              10000                         \n",
       "1                                               5000                         \n",
       "\n",
       "  number_of_vacation_days   employment_status   сontract_duration  \\\n",
       "0                      30  Full-time employee  Unlimited contract   \n",
       "1                      28  Full-time employee  Unlimited contract   \n",
       "\n",
       "  main_language_at_work company_size company_type  \\\n",
       "0               English       51-100      Product   \n",
       "1               English     101-1000      Product   \n",
       "\n",
       "  have_you_lost_your_job_due_to_the_coronavirus_outbreak?  \\\n",
       "0                                                 No        \n",
       "1                                                 No        \n",
       "\n",
       "   have_you_been_forced_to_have_a_shorter_working_week_(kurzarbeit)?_if_yes,_how_many_hours_per_week  \\\n",
       "0                                                NaN                                                   \n",
       "1                                                NaN                                                   \n",
       "\n",
       "  have_you_received_additional_monetary_support_from_your_employer_due_to_work_from_home?_if_yes,_how_much_in_2020_in_eur  \n",
       "0                                                NaN                                                                       \n",
       "1                                                NaN                                                                       "
      ]
     },
     "execution_count": 19,
     "metadata": {},
     "output_type": "execute_result"
    }
   ],
   "source": [
    "df_it20_ini.head(2)"
   ]
  },
  {
   "cell_type": "code",
   "execution_count": 20,
   "id": "8e0930fb-95fa-46b5-b607-35d6b65fd42b",
   "metadata": {
    "tags": []
   },
   "outputs": [],
   "source": [
    "# # Every datapoints to lowercase\n",
    "# \n",
    "# df_it18_ini =df_it18_ini.applymap(lambda x: x.lower() if isinstance(x, str) else x)\n",
    "# df_it19_ini =df_it19_ini.applymap(lambda x: x.lower() if isinstance(x, str) else x)\n",
    "# df_it20_ini =df_it20_ini.applymap(lambda x: x.lower() if isinstance(x, str) else x)\n",
    "# df_it21_ini =df_it21_ini.applymap(lambda x: x.lower() if isinstance(x, str) else x)\n",
    "# df_it22_ini =df_it22_ini.applymap(lambda x: x.lower() if isinstance(x, str) else x)\n",
    "# df_it23_ini =df_it23_ini.applymap(lambda x: x.lower() if isinstance(x, str) else x)\n",
    "# df_k19_ini = df_k19_ini.applymap(lambda x: x.lower() if isinstance(x, str) else x)\n",
    "# df_k20_ini = df_k20_ini.applymap(lambda x: x.lower() if isinstance(x, str) else x)\n",
    "# df_k21_ini = df_k21_ini.applymap(lambda x: x.lower() if isinstance(x, str) else x)\n",
    "# df_k22_ini = df_k22_ini.applymap(lambda x: x.lower() if isinstance(x, str) else x)\n",
    "# df_ai_ini =df_ai_ini.applymap(lambda x: x.lower() if isinstance(x, str) else x)\n",
    "# country_salary_stats = country_salary_stats.applymap(lambda x: x.lower() if isinstance(x, str) else x)"
   ]
  },
  {
   "cell_type": "code",
   "execution_count": 21,
   "id": "febf619e-ab53-4d0f-8346-2c5a6053ad04",
   "metadata": {},
   "outputs": [],
   "source": [
    "for df in dfs_ini:\n",
    "    str_columns = df.select_dtypes(include=['object']).columns\n",
    "    df[str_columns] = df[str_columns].map(lambda x: x.lower() if isinstance(x, str) else x)"
   ]
  },
  {
   "cell_type": "markdown",
   "id": "65275b64-d2ad-4631-a6c1-d1b07d01b233",
   "metadata": {},
   "source": [
    "## Downcasting data types for better memory usage"
   ]
  },
  {
   "cell_type": "code",
   "execution_count": 23,
   "id": "1df43958-f477-4bb3-bdf5-a54ad6203fb6",
   "metadata": {},
   "outputs": [],
   "source": [
    "from scripts.memory_summary import memory_summary"
   ]
  },
  {
   "cell_type": "code",
   "execution_count": 24,
   "id": "b56de0ae-6bc4-4ff0-af0a-14734a87e6a7",
   "metadata": {},
   "outputs": [
    {
     "data": {
      "text/plain": [
       "\u001b[1;31mSignature:\u001b[0m  \u001b[0mmemory_summary\u001b[0m\u001b[1;33m(\u001b[0m\u001b[0mdf\u001b[0m\u001b[1;33m,\u001b[0m \u001b[0mnum_rows\u001b[0m\u001b[1;33m=\u001b[0m\u001b[1;32mNone\u001b[0m\u001b[1;33m)\u001b[0m\u001b[1;33m\u001b[0m\u001b[1;33m\u001b[0m\u001b[0m\n",
       "\u001b[1;31mSource:\u001b[0m   \n",
       "\u001b[1;32mdef\u001b[0m \u001b[0mmemory_summary\u001b[0m\u001b[1;33m(\u001b[0m\u001b[0mdf\u001b[0m\u001b[1;33m,\u001b[0m \u001b[0mnum_rows\u001b[0m\u001b[1;33m=\u001b[0m\u001b[1;32mNone\u001b[0m\u001b[1;33m)\u001b[0m\u001b[1;33m:\u001b[0m\u001b[1;33m\n",
       "\u001b[0m    \u001b[1;34m\"\"\" A simple function to list out the memory usage of each column.\n",
       "    Inputs: (df, an integer to control how many columns should be printed)\"\"\"\u001b[0m\u001b[1;33m\n",
       "\u001b[0m    \u001b[1;31m# Calculate Total memory usage:\u001b[0m\u001b[1;33m\n",
       "\u001b[0m    \u001b[0mprint\u001b[0m\u001b[1;33m(\u001b[0m\u001b[1;34m\"Total memory Usage:\"\u001b[0m\u001b[1;33m)\u001b[0m\u001b[1;33m\n",
       "\u001b[0m    \u001b[0mprint\u001b[0m\u001b[1;33m(\u001b[0m\u001b[1;33mf\"\u001b[0m\u001b[1;33m\\t\u001b[0m\u001b[1;33m{\u001b[0m\u001b[0mround\u001b[0m\u001b[1;33m(\u001b[0m\u001b[0mdf\u001b[0m\u001b[1;33m.\u001b[0m\u001b[0mmemory_usage\u001b[0m\u001b[1;33m(\u001b[0m\u001b[0mdeep\u001b[0m\u001b[1;33m=\u001b[0m\u001b[1;32mTrue\u001b[0m\u001b[1;33m)\u001b[0m\u001b[1;33m.\u001b[0m\u001b[0msum\u001b[0m\u001b[1;33m(\u001b[0m\u001b[1;33m)\u001b[0m \u001b[1;33m/\u001b[0m \u001b[1;33m(\u001b[0m\u001b[1;36m1024\u001b[0m \u001b[1;33m*\u001b[0m \u001b[1;36m1024\u001b[0m\u001b[1;33m)\u001b[0m\u001b[1;33m,\u001b[0m \u001b[1;36m2\u001b[0m\u001b[1;33m)\u001b[0m\u001b[1;33m}\u001b[0m\u001b[1;33m MB\u001b[0m\u001b[1;33m\"\u001b[0m\u001b[1;33m)\u001b[0m\u001b[1;33m\n",
       "\u001b[0m    \u001b[1;33m\n",
       "\u001b[0m    \u001b[1;31m# Calculate memory usage for each column\u001b[0m\u001b[1;33m\n",
       "\u001b[0m    \u001b[0mmemory_usage_per_column\u001b[0m \u001b[1;33m=\u001b[0m \u001b[1;33m{\u001b[0m\u001b[0mcolumn\u001b[0m\u001b[1;33m:\u001b[0m \u001b[0mround\u001b[0m\u001b[1;33m(\u001b[0m\u001b[0mdf\u001b[0m\u001b[1;33m[\u001b[0m\u001b[0mcolumn\u001b[0m\u001b[1;33m]\u001b[0m\u001b[1;33m.\u001b[0m\u001b[0mmemory_usage\u001b[0m\u001b[1;33m(\u001b[0m\u001b[0mdeep\u001b[0m\u001b[1;33m=\u001b[0m\u001b[1;32mTrue\u001b[0m\u001b[1;33m)\u001b[0m \u001b[1;33m/\u001b[0m \u001b[1;33m(\u001b[0m\u001b[1;36m1024\u001b[0m \u001b[1;33m*\u001b[0m \u001b[1;36m1024\u001b[0m\u001b[1;33m)\u001b[0m\u001b[1;33m,\u001b[0m \u001b[1;36m2\u001b[0m\u001b[1;33m)\u001b[0m \u001b[1;32mfor\u001b[0m \u001b[0mcolumn\u001b[0m \u001b[1;32min\u001b[0m \u001b[0mdf\u001b[0m\u001b[1;33m.\u001b[0m\u001b[0mcolumns\u001b[0m\u001b[1;33m}\u001b[0m\u001b[1;33m\n",
       "\u001b[0m    \u001b[1;31m# Sort columns by memory usage in descending order\u001b[0m\u001b[1;33m\n",
       "\u001b[0m    \u001b[0msorted_columns_by_memory\u001b[0m \u001b[1;33m=\u001b[0m \u001b[0msorted\u001b[0m\u001b[1;33m(\u001b[0m\u001b[0mmemory_usage_per_column\u001b[0m\u001b[1;33m.\u001b[0m\u001b[0mitems\u001b[0m\u001b[1;33m(\u001b[0m\u001b[1;33m)\u001b[0m\u001b[1;33m,\u001b[0m \u001b[0mkey\u001b[0m\u001b[1;33m=\u001b[0m\u001b[1;32mlambda\u001b[0m \u001b[0mx\u001b[0m\u001b[1;33m:\u001b[0m \u001b[0mx\u001b[0m\u001b[1;33m[\u001b[0m\u001b[1;36m1\u001b[0m\u001b[1;33m]\u001b[0m\u001b[1;33m,\u001b[0m \u001b[0mreverse\u001b[0m\u001b[1;33m=\u001b[0m\u001b[1;32mTrue\u001b[0m\u001b[1;33m)\u001b[0m\u001b[1;33m\n",
       "\u001b[0m    \u001b[1;33m\n",
       "\u001b[0m    \u001b[1;31m# Print detailed memory usage in descending order\u001b[0m\u001b[1;33m\n",
       "\u001b[0m    \u001b[0mprint\u001b[0m\u001b[1;33m(\u001b[0m\u001b[1;33mf\"\u001b[0m\u001b[1;33mDetailed memory Usage [\u001b[0m\u001b[1;33m{\u001b[0m\u001b[0mlen\u001b[0m\u001b[1;33m(\u001b[0m\u001b[0msorted_columns_by_memory\u001b[0m\u001b[1;33m)\u001b[0m\u001b[1;33m}\u001b[0m\u001b[1;33m columns] (descending order):\u001b[0m\u001b[1;33m\"\u001b[0m\u001b[1;33m)\u001b[0m\u001b[1;33m\n",
       "\u001b[0m    \u001b[1;32mif\u001b[0m \u001b[0mnum_rows\u001b[0m \u001b[1;32mis\u001b[0m \u001b[1;32mNone\u001b[0m\u001b[1;33m:\u001b[0m\u001b[1;33m\n",
       "\u001b[0m        \u001b[0mnum_rows\u001b[0m \u001b[1;33m=\u001b[0m \u001b[0mlen\u001b[0m\u001b[1;33m(\u001b[0m\u001b[0msorted_columns_by_memory\u001b[0m\u001b[1;33m)\u001b[0m\u001b[1;33m\n",
       "\u001b[0m    \u001b[1;32mfor\u001b[0m \u001b[0mi\u001b[0m \u001b[1;32min\u001b[0m \u001b[0mrange\u001b[0m\u001b[1;33m(\u001b[0m\u001b[0mmin\u001b[0m\u001b[1;33m(\u001b[0m\u001b[0mnum_rows\u001b[0m\u001b[1;33m,\u001b[0m \u001b[0mlen\u001b[0m\u001b[1;33m(\u001b[0m\u001b[0msorted_columns_by_memory\u001b[0m\u001b[1;33m)\u001b[0m\u001b[1;33m)\u001b[0m\u001b[1;33m)\u001b[0m\u001b[1;33m:\u001b[0m\u001b[1;33m\n",
       "\u001b[0m        \u001b[0mcolumn\u001b[0m\u001b[1;33m,\u001b[0m \u001b[0mmemory_usage\u001b[0m \u001b[1;33m=\u001b[0m \u001b[0msorted_columns_by_memory\u001b[0m\u001b[1;33m[\u001b[0m\u001b[0mi\u001b[0m\u001b[1;33m]\u001b[0m\u001b[1;33m\n",
       "\u001b[0m        \u001b[0mprint\u001b[0m\u001b[1;33m(\u001b[0m\u001b[1;33mf\"\u001b[0m\u001b[1;33m\\t\u001b[0m\u001b[1;33m{\u001b[0m\u001b[0mcolumn\u001b[0m\u001b[1;33m}\u001b[0m\u001b[1;33m: \u001b[0m\u001b[1;33m{\u001b[0m\u001b[0mmemory_usage\u001b[0m\u001b[1;33m}\u001b[0m\u001b[1;33m MB\u001b[0m\u001b[1;33m\"\u001b[0m\u001b[1;33m)\u001b[0m\u001b[1;33m\u001b[0m\u001b[1;33m\u001b[0m\u001b[0m\n",
       "\u001b[1;31mFile:\u001b[0m      e:\\_programming\\_dataanalysis\\salary_data_combined\\scripts\\memory_summary.py\n",
       "\u001b[1;31mType:\u001b[0m      function"
      ]
     },
     "metadata": {},
     "output_type": "display_data"
    }
   ],
   "source": [
    "?? memory_summary"
   ]
  },
  {
   "cell_type": "markdown",
   "id": "21392ea2-be2c-46ca-8b97-60924a3a2c7f",
   "metadata": {},
   "source": [
    "### Kaggle "
   ]
  },
  {
   "cell_type": "code",
   "execution_count": 26,
   "id": "79cbb875-f1a4-4264-abe3-dc5b9e26a0df",
   "metadata": {},
   "outputs": [
    {
     "name": "stdout",
     "output_type": "stream",
     "text": [
      "Total memory Usage:\n",
      "\t336.53 MB\n",
      "Detailed memory Usage [369 columns] (descending order):\n",
      "\tq4: 2.47 MB\n",
      "\tq41: 2.11 MB\n",
      "\tq23: 1.96 MB\n",
      "\tq11: 1.64 MB\n",
      "\tq24_part_1: 1.55 MB\n",
      "\tq5: 1.54 MB\n",
      "\tq15: 1.52 MB\n",
      "\tq6: 1.46 MB\n",
      "\tq42_part_6: 1.46 MB\n",
      "\tq3: 1.44 MB\n"
     ]
    }
   ],
   "source": [
    "memory_summary(df_k21_ini, 10)"
   ]
  },
  {
   "cell_type": "code",
   "execution_count": 27,
   "id": "725d01a0-13eb-4b4f-9782-b34fecb0e217",
   "metadata": {},
   "outputs": [],
   "source": [
    "df_k21_ini = df_k21_ini.astype('category')"
   ]
  },
  {
   "cell_type": "code",
   "execution_count": 28,
   "id": "da6c5303-fdac-48b4-acb8-5eee6247e6f1",
   "metadata": {},
   "outputs": [
    {
     "name": "stdout",
     "output_type": "stream",
     "text": [
      "Total memory Usage:\n",
      "\t9.67 MB\n",
      "Detailed memory Usage [369 columns] (descending order):\n",
      "\ttime_from_start_to_finish_(seconds): 0.4 MB\n",
      "\tq1: 0.03 MB\n",
      "\tq2: 0.03 MB\n",
      "\tq3: 0.03 MB\n",
      "\tq4: 0.03 MB\n",
      "\tq5: 0.03 MB\n",
      "\tq6: 0.03 MB\n",
      "\tq7_part_1: 0.03 MB\n",
      "\tq7_part_2: 0.03 MB\n",
      "\tq7_part_3: 0.03 MB\n"
     ]
    }
   ],
   "source": [
    "memory_summary(df_k21_ini, 10)"
   ]
  },
  {
   "cell_type": "markdown",
   "id": "f9c7e094-b98f-4cd6-ac14-395d003e3fce",
   "metadata": {},
   "source": [
    "<div class=\"c\">\n",
    "Categorical conversion made a significant impact on memory usage.<br>\n",
    "It's logical since the survey contained fixed-choice questions.<br>\n",
    "I proceed by converting all the remaining Kaggle datasets.\n",
    "</div>"
   ]
  },
  {
   "cell_type": "code",
   "execution_count": 30,
   "id": "768e1d22-5000-4bbf-9cc1-7cfabe6a4d5b",
   "metadata": {},
   "outputs": [],
   "source": [
    "df_k19_ini = df_k19_ini.astype('category')\n",
    "df_k20_ini = df_k20_ini.astype('category')\n",
    "#df_k21_ini = df_k21_ini.astype('category')\n",
    "df_k22_ini = df_k22_ini.astype('category')"
   ]
  },
  {
   "cell_type": "markdown",
   "id": "07692f05-9b66-46a7-b4b2-faa9edc969f2",
   "metadata": {},
   "source": [
    "### Germany IT survey "
   ]
  },
  {
   "cell_type": "code",
   "execution_count": 32,
   "id": "9c23d5d6-18fb-400b-94df-026f02d7f1bf",
   "metadata": {},
   "outputs": [
    {
     "name": "stdout",
     "output_type": "stream",
     "text": [
      "Total memory Usage:\n",
      "\t1.05 MB\n",
      "Detailed memory Usage [41 columns] (descending order):\n",
      "\tcompany_industry: 0.07 MB\n",
      "\temployment_status: 0.05 MB\n",
      "\tposition: 0.05 MB\n",
      "\tother_technologies/programming_languages_you_use_often: 0.05 MB\n",
      "\tcity: 0.04 MB\n",
      "\tseniority_level: 0.04 MB\n",
      "\tmain_technology_/_programming_language: 0.04 MB\n",
      "\twhat_languages_do_you_speak_and_use_at_work?: 0.04 MB\n",
      "\tcompany_size: 0.04 MB\n",
      "\tcompany_layoffs: 0.04 MB\n"
     ]
    }
   ],
   "source": [
    "memory_summary(df_it23_ini, 10)"
   ]
  },
  {
   "cell_type": "markdown",
   "id": "fdf71154-d15b-4b7c-b83d-cc7e32f545cd",
   "metadata": {},
   "source": [
    "It already requires so little memory usage, that I do not proceed with downcasting"
   ]
  },
  {
   "cell_type": "markdown",
   "id": "ee871672-d6bf-4f14-97bb-a3e1c96ab51b",
   "metadata": {},
   "source": [
    "### AI-Jobs.net "
   ]
  },
  {
   "cell_type": "code",
   "execution_count": 35,
   "id": "43ba47e0-6c2a-436e-9e39-90f70b32b5cf",
   "metadata": {},
   "outputs": [
    {
     "name": "stdout",
     "output_type": "stream",
     "text": [
      "Total memory Usage:\n",
      "\t6.14 MB\n",
      "Detailed memory Usage [11 columns] (descending order):\n",
      "\tjob_title: 0.99 MB\n",
      "\tsalary_currency: 0.79 MB\n",
      "\texperience_level: 0.78 MB\n",
      "\temployment_type: 0.78 MB\n",
      "\temployee_residence: 0.78 MB\n",
      "\tcompany_location: 0.78 MB\n",
      "\tcompany_size: 0.76 MB\n",
      "\twork_year: 0.12 MB\n",
      "\tsalary: 0.12 MB\n",
      "\tsalary_in_usd: 0.12 MB\n"
     ]
    }
   ],
   "source": [
    "memory_summary(df_ai_ini, 10)"
   ]
  },
  {
   "cell_type": "markdown",
   "id": "682ad3f1-c8e7-4da3-82a8-e725823c4cc4",
   "metadata": {},
   "source": [
    "<div class=\"c\">\n",
    "It already uses an insignificant amount of memory, but I proceed with downcasting to have consistent variable types.\n",
    "</div>"
   ]
  },
  {
   "cell_type": "code",
   "execution_count": 37,
   "id": "f1a2c784-1331-47ba-85d0-b51117192d65",
   "metadata": {},
   "outputs": [],
   "source": [
    "df_ai_ini = df_ai_ini.astype('category')"
   ]
  },
  {
   "cell_type": "markdown",
   "id": "a0e087b5-c02c-40f1-af55-970c0b44d963",
   "metadata": {},
   "source": [
    "# Comprehending the data. Uniformization. "
   ]
  },
  {
   "cell_type": "markdown",
   "id": "ccbaf124-d7f7-4d82-b0c8-a77024e578fc",
   "metadata": {},
   "source": [
    "<div class=\"c\">\n",
    "The different surveys store the same data under differently named columns.<br>\n",
    "Furthermore, even the same source, as it repeats the survey yearly, the format is changed up.<br>\n",
    "Uniformization requires now <u>a lot of manual work</u>, as there is no common structure.<br>\n",
    "<br>\n",
    "Uniformization goal:<br>\n",
    "    - \"salary\": Yearly gross salary with bonuses included [int, in USD],<br>\n",
    "    - \"year\": Year in which the datapoint was recorded [int],<br>\n",
    "    - \"job_title\": The title of the job eg.: \"Data Engineer\"[str],<br>\n",
    "    - \"job_group\": An arbitrary grouping of similar job titles: \"Data Engineer\" & \"Database Engineer\" --> \"DA\" [str],<br>\n",
    "</div> "
   ]
  },
  {
   "cell_type": "code",
   "execution_count": 40,
   "id": "d6d34a60-0d46-4690-bdca-753d5fd2dd72",
   "metadata": {},
   "outputs": [],
   "source": [
    "# A simple function to list out the column names and the most frequent values.\n",
    "\n",
    "def top_5_values_per_column(df):\n",
    "    # Create an empty DataFrame to store the result\n",
    "    result_df = pd.DataFrame(columns=['column_name', 'top_5_values'])\n",
    "\n",
    "    # Iterate through each column\n",
    "    for column in df.columns:\n",
    "        # Find the five most common values in the column\n",
    "        top_5_values = df[column].value_counts().head(5).index.tolist()\n",
    "\n",
    "        # Create a DataFrame with the current column name and top 5 values\n",
    "        data_to_append = pd.DataFrame({'column_name': [column], 'top_5_values': [top_5_values]})\n",
    "\n",
    "        # Concatenate the new DataFrame with the result DataFrame\n",
    "        result_df = pd.concat([result_df, data_to_append], ignore_index=True)\n",
    "\n",
    "    return result_df"
   ]
  },
  {
   "cell_type": "markdown",
   "id": "74a33e3c-746b-4741-a45b-9634e1391a14",
   "metadata": {},
   "source": [
    "### Importing the Clean_Salary function"
   ]
  },
  {
   "cell_type": "code",
   "execution_count": 42,
   "id": "d2ecca88-f906-4aea-82b5-081adff6107a",
   "metadata": {},
   "outputs": [],
   "source": [
    "# Reloading a module\n",
    "import importlib\n",
    "import sys\n",
    "import scripts.clean_salary\n",
    "\n",
    "# Add the parent directory of 'scripts' to the module search path\n",
    "sys.path.append('../')\n",
    "\n",
    "# # Reload the module\n",
    "# importlib.reload(scripts.clean_salary)\n",
    "# from scripts.clean_salary import clean_salary_0616\n",
    "# df_report = pd.DataFrame(index=[0])"
   ]
  },
  {
   "cell_type": "code",
   "execution_count": 43,
   "id": "666c2272-fd33-44d7-9c12-c70fe737db9e",
   "metadata": {},
   "outputs": [
    {
     "name": "stdout",
     "output_type": "stream",
     "text": [
      "Object ` clean_salary_0616` not found.\n"
     ]
    }
   ],
   "source": [
    "?? clean_salary_0616"
   ]
  },
  {
   "cell_type": "markdown",
   "id": "e2de8f1d-d5e4-4cc5-87e1-2307abc8e4d7",
   "metadata": {
    "tags": []
   },
   "source": [
    "## AI-Jobs.net"
   ]
  },
  {
   "cell_type": "code",
   "execution_count": 45,
   "id": "b59ba269-2f3e-4120-b044-c7bc579a037b",
   "metadata": {},
   "outputs": [
    {
     "data": {
      "text/html": [
       "<div>\n",
       "<style scoped>\n",
       "    .dataframe tbody tr th:only-of-type {\n",
       "        vertical-align: middle;\n",
       "    }\n",
       "\n",
       "    .dataframe tbody tr th {\n",
       "        vertical-align: top;\n",
       "    }\n",
       "\n",
       "    .dataframe thead th {\n",
       "        text-align: right;\n",
       "    }\n",
       "</style>\n",
       "<table border=\"1\" class=\"dataframe\">\n",
       "  <thead>\n",
       "    <tr style=\"text-align: right;\">\n",
       "      <th></th>\n",
       "      <th>column_name</th>\n",
       "      <th>top_5_values</th>\n",
       "    </tr>\n",
       "  </thead>\n",
       "  <tbody>\n",
       "    <tr>\n",
       "      <th>0</th>\n",
       "      <td>work_year</td>\n",
       "      <td>[2023, 2024, 2022, 2021, 2020]</td>\n",
       "    </tr>\n",
       "    <tr>\n",
       "      <th>1</th>\n",
       "      <td>experience_level</td>\n",
       "      <td>[se, mi, en, ex]</td>\n",
       "    </tr>\n",
       "    <tr>\n",
       "      <th>2</th>\n",
       "      <td>employment_type</td>\n",
       "      <td>[ft, pt, ct, fl]</td>\n",
       "    </tr>\n",
       "    <tr>\n",
       "      <th>3</th>\n",
       "      <td>job_title</td>\n",
       "      <td>[data engineer, data scientist, data analyst, ...</td>\n",
       "    </tr>\n",
       "    <tr>\n",
       "      <th>4</th>\n",
       "      <td>salary</td>\n",
       "      <td>[150000, 100000, 130000, 160000, 120000]</td>\n",
       "    </tr>\n",
       "    <tr>\n",
       "      <th>5</th>\n",
       "      <td>salary_currency</td>\n",
       "      <td>[usd, gbp, eur, inr, cad]</td>\n",
       "    </tr>\n",
       "    <tr>\n",
       "      <th>6</th>\n",
       "      <td>salary_in_usd</td>\n",
       "      <td>[150000, 100000, 130000, 160000, 140000]</td>\n",
       "    </tr>\n",
       "    <tr>\n",
       "      <th>7</th>\n",
       "      <td>employee_residence</td>\n",
       "      <td>[us, gb, ca, es, de]</td>\n",
       "    </tr>\n",
       "    <tr>\n",
       "      <th>8</th>\n",
       "      <td>remote_ratio</td>\n",
       "      <td>[0, 100, 50]</td>\n",
       "    </tr>\n",
       "    <tr>\n",
       "      <th>9</th>\n",
       "      <td>company_location</td>\n",
       "      <td>[us, gb, ca, es, de]</td>\n",
       "    </tr>\n",
       "    <tr>\n",
       "      <th>10</th>\n",
       "      <td>company_size</td>\n",
       "      <td>[m, l, s]</td>\n",
       "    </tr>\n",
       "  </tbody>\n",
       "</table>\n",
       "</div>"
      ],
      "text/plain": [
       "           column_name                                       top_5_values\n",
       "0            work_year                     [2023, 2024, 2022, 2021, 2020]\n",
       "1     experience_level                                   [se, mi, en, ex]\n",
       "2      employment_type                                   [ft, pt, ct, fl]\n",
       "3            job_title  [data engineer, data scientist, data analyst, ...\n",
       "4               salary           [150000, 100000, 130000, 160000, 120000]\n",
       "5      salary_currency                          [usd, gbp, eur, inr, cad]\n",
       "6        salary_in_usd           [150000, 100000, 130000, 160000, 140000]\n",
       "7   employee_residence                               [us, gb, ca, es, de]\n",
       "8         remote_ratio                                       [0, 100, 50]\n",
       "9     company_location                               [us, gb, ca, es, de]\n",
       "10        company_size                                          [m, l, s]"
      ]
     },
     "execution_count": 45,
     "metadata": {},
     "output_type": "execute_result"
    }
   ],
   "source": [
    "top_5_values_per_column(df_ai_ini)"
   ]
  },
  {
   "cell_type": "code",
   "execution_count": 46,
   "id": "58116235-8e81-4f57-a6d1-eb41e4e5b492",
   "metadata": {},
   "outputs": [
    {
     "data": {
      "text/html": [
       "<div>\n",
       "<style scoped>\n",
       "    .dataframe tbody tr th:only-of-type {\n",
       "        vertical-align: middle;\n",
       "    }\n",
       "\n",
       "    .dataframe tbody tr th {\n",
       "        vertical-align: top;\n",
       "    }\n",
       "\n",
       "    .dataframe thead th {\n",
       "        text-align: right;\n",
       "    }\n",
       "</style>\n",
       "<table border=\"1\" class=\"dataframe\">\n",
       "  <thead>\n",
       "    <tr style=\"text-align: right;\">\n",
       "      <th></th>\n",
       "      <th>year</th>\n",
       "      <th>seniority_level</th>\n",
       "      <th>employment_status</th>\n",
       "      <th>job_title</th>\n",
       "      <th>salary_in_currency</th>\n",
       "      <th>salary_currency</th>\n",
       "      <th>salary</th>\n",
       "      <th>country</th>\n",
       "      <th>remote_ratio</th>\n",
       "      <th>company_location</th>\n",
       "      <th>company_size</th>\n",
       "    </tr>\n",
       "  </thead>\n",
       "  <tbody>\n",
       "    <tr>\n",
       "      <th>0</th>\n",
       "      <td>2024</td>\n",
       "      <td>en</td>\n",
       "      <td>ft</td>\n",
       "      <td>data analyst</td>\n",
       "      <td>20000</td>\n",
       "      <td>usd</td>\n",
       "      <td>20000</td>\n",
       "      <td>ke</td>\n",
       "      <td>100</td>\n",
       "      <td>ke</td>\n",
       "      <td>m</td>\n",
       "    </tr>\n",
       "    <tr>\n",
       "      <th>1</th>\n",
       "      <td>2024</td>\n",
       "      <td>se</td>\n",
       "      <td>ft</td>\n",
       "      <td>data analyst</td>\n",
       "      <td>147500</td>\n",
       "      <td>usd</td>\n",
       "      <td>147500</td>\n",
       "      <td>us</td>\n",
       "      <td>0</td>\n",
       "      <td>us</td>\n",
       "      <td>m</td>\n",
       "    </tr>\n",
       "    <tr>\n",
       "      <th>2</th>\n",
       "      <td>2024</td>\n",
       "      <td>se</td>\n",
       "      <td>ft</td>\n",
       "      <td>data analyst</td>\n",
       "      <td>85000</td>\n",
       "      <td>usd</td>\n",
       "      <td>85000</td>\n",
       "      <td>us</td>\n",
       "      <td>0</td>\n",
       "      <td>us</td>\n",
       "      <td>m</td>\n",
       "    </tr>\n",
       "    <tr>\n",
       "      <th>3</th>\n",
       "      <td>2024</td>\n",
       "      <td>se</td>\n",
       "      <td>ft</td>\n",
       "      <td>data architect</td>\n",
       "      <td>175000</td>\n",
       "      <td>usd</td>\n",
       "      <td>175000</td>\n",
       "      <td>us</td>\n",
       "      <td>0</td>\n",
       "      <td>us</td>\n",
       "      <td>m</td>\n",
       "    </tr>\n",
       "    <tr>\n",
       "      <th>4</th>\n",
       "      <td>2024</td>\n",
       "      <td>se</td>\n",
       "      <td>ft</td>\n",
       "      <td>data architect</td>\n",
       "      <td>117000</td>\n",
       "      <td>usd</td>\n",
       "      <td>117000</td>\n",
       "      <td>us</td>\n",
       "      <td>0</td>\n",
       "      <td>us</td>\n",
       "      <td>m</td>\n",
       "    </tr>\n",
       "  </tbody>\n",
       "</table>\n",
       "</div>"
      ],
      "text/plain": [
       "   year seniority_level employment_status       job_title salary_in_currency  \\\n",
       "0  2024              en                ft    data analyst              20000   \n",
       "1  2024              se                ft    data analyst             147500   \n",
       "2  2024              se                ft    data analyst              85000   \n",
       "3  2024              se                ft  data architect             175000   \n",
       "4  2024              se                ft  data architect             117000   \n",
       "\n",
       "  salary_currency  salary country remote_ratio company_location company_size  \n",
       "0             usd   20000      ke          100               ke            m  \n",
       "1             usd  147500      us            0               us            m  \n",
       "2             usd   85000      us            0               us            m  \n",
       "3             usd  175000      us            0               us            m  \n",
       "4             usd  117000      us            0               us            m  "
      ]
     },
     "execution_count": 46,
     "metadata": {},
     "output_type": "execute_result"
    }
   ],
   "source": [
    "# Define column name mappings\n",
    "column_mappings = {\n",
    "    'work_year': 'year',\n",
    "    'experience_level': 'seniority_level',\n",
    "    'employment_type': 'employment_status',\n",
    "    'employee_residence': 'country',\n",
    "    'salary': 'salary_in_currency',\n",
    "    'salary_in_usd': 'salary'\n",
    "}\n",
    "\n",
    "# Rename columns using the mappings\n",
    "df_ai_u = df_ai_ini.rename(columns=column_mappings)\n",
    "df_ai_u.head(5)"
   ]
  },
  {
   "cell_type": "code",
   "execution_count": 47,
   "id": "cf71bac0-b1a2-4da0-a008-5fe20765be63",
   "metadata": {},
   "outputs": [
    {
     "ename": "NameError",
     "evalue": "name 'clean_salary_0616' is not defined",
     "output_type": "error",
     "traceback": [
      "\u001b[1;31m---------------------------------------------------------------------------\u001b[0m",
      "\u001b[1;31mNameError\u001b[0m                                 Traceback (most recent call last)",
      "Cell \u001b[1;32mIn[47], line 1\u001b[0m\n\u001b[1;32m----> 1\u001b[0m df_ai_u[\u001b[38;5;124m'\u001b[39m\u001b[38;5;124msalary\u001b[39m\u001b[38;5;124m'\u001b[39m] \u001b[38;5;241m=\u001b[39m df_ai_u[\u001b[38;5;124m'\u001b[39m\u001b[38;5;124msalary\u001b[39m\u001b[38;5;124m'\u001b[39m]\u001b[38;5;241m.\u001b[39mapply(clean_salary_0616, df_report\u001b[38;5;241m=\u001b[39mdf_report, prefix\u001b[38;5;241m=\u001b[39m\u001b[38;5;124m'\u001b[39m\u001b[38;5;124mdf_ai_salary\u001b[39m\u001b[38;5;124m'\u001b[39m)\n\u001b[0;32m      2\u001b[0m \u001b[38;5;28mprint\u001b[39m(df_report)\n",
      "\u001b[1;31mNameError\u001b[0m: name 'clean_salary_0616' is not defined"
     ]
    }
   ],
   "source": [
    "df_ai_u['salary'] = df_ai_u['salary'].apply(clean_salary_0616, df_report=df_report, prefix='df_ai_salary')\n",
    "print(df_report)"
   ]
  },
  {
   "cell_type": "code",
   "execution_count": null,
   "id": "8ad17301-0f26-42ee-8ba1-0f45c19fcd1b",
   "metadata": {},
   "outputs": [],
   "source": [
    "df_ai_u['salary'].info()"
   ]
  },
  {
   "cell_type": "markdown",
   "id": "a322e07b-9cb1-4f60-8108-81ba05d7e75a",
   "metadata": {},
   "source": [
    "<div class=\"c\">\n",
    "There are no Null values, so we do not need to drop them.\n",
    "</div> "
   ]
  },
  {
   "cell_type": "markdown",
   "id": "fe260536-297d-4579-8032-d783c498153b",
   "metadata": {},
   "source": [
    "### Exchange rates \n",
    "\n",
    "<div class=\"c\">\n",
    "<b>EUR --> USD exchange ratio calculations </b>.\n",
    "I'm using the ratios that AI-Jobs.net used, since I can calculate it reversely and reuse those rates.<br>\n",
    "The rates they used was a fixed rate for the entire year, and aligns with the \"Average\" exchange rates for that year available online.\n",
    "</div> "
   ]
  },
  {
   "cell_type": "code",
   "execution_count": null,
   "id": "327cbe36-13fb-4185-8c66-b69ecb7fd82b",
   "metadata": {},
   "outputs": [],
   "source": [
    "# Converting salary and salary_in_currency back to numeric\n",
    "df_ai_u['salary'] = pd.to_numeric(df_ai_u['salary'], errors='coerce')\n",
    "df_ai_u['salary_in_currency'] = pd.to_numeric(df_ai_u['salary_in_currency'], errors='coerce')\n",
    "\n",
    "# Calculating the ratios\n",
    "df_ai_u['ratio'] = df_ai_u['salary'] / df_ai_u['salary_in_currency']\n",
    "\n",
    "#changing the display format\n",
    "pd.set_option('display.float_format', lambda x: '%.6f' % x)\n",
    "\n",
    "#listing out the calculated ratios. Within each year, they're almost the same, except the rounding error.\n",
    "df_ai_u[(df_ai_u['salary_currency'] == 'eur') & (df_ai_u['year'] == 2020)].value_counts('ratio').head(10)"
   ]
  },
  {
   "cell_type": "markdown",
   "id": "eb810b09-cd4a-4093-a55f-08ba593b028a",
   "metadata": {},
   "source": [
    "<div class=\"c\">\n",
    "Most probably they <b>rounded</b>  the values after conversion, and this resulted in the slightly different ratios above.<br>\n",
    "For methodology's sake I calculate the exchange ratio for USD columns and take their mean.\n",
    "</div> "
   ]
  },
  {
   "cell_type": "code",
   "execution_count": null,
   "id": "d0d74257-b1f8-4eca-b97e-6f2843532906",
   "metadata": {},
   "outputs": [],
   "source": [
    "eur2usd_2020 = df_ai_u[(df_ai_u['salary_currency'] == 'eur') & (df_ai_u['year'] == 2020)]['ratio'].mean()\n",
    "eur2usd_2021 = df_ai_u[(df_ai_u['salary_currency'] == 'eur') & (df_ai_u['year'] == 2021)]['ratio'].mean()\n",
    "eur2usd_2022 = df_ai_u[(df_ai_u['salary_currency'] == 'eur') & (df_ai_u['year'] == 2022)]['ratio'].mean()\n",
    "eur2usd_2023 = df_ai_u[(df_ai_u['salary_currency'] == 'eur') & (df_ai_u['year'] == 2023)]['ratio'].mean()\n",
    "eur2usd_2024 = df_ai_u[(df_ai_u['salary_currency'] == 'eur') & (df_ai_u['year'] == 2024)]['ratio'].mean()\n",
    "\n",
    "# For other years that are not present in the AI-Jobs.net dataset, I use sources available online\n",
    "eur2usd_2019 = 1.1199 # Source: https://www.exchangerates.org.uk/EUR-USD-spot-exchange-rates-history-2019.html\n",
    "eur2usd_2018 = 1.1811 # Source: https://www.exchangerates.org.uk/EUR-USD-spot-exchange-rates-history-2018.html\n",
    "\n",
    "#changing back the display format\n",
    "pd.set_option('display.float_format', lambda x: '%.2f' % x)"
   ]
  },
  {
   "cell_type": "markdown",
   "id": "e9b2e022-68c3-4bfd-983f-617abb4dbf17",
   "metadata": {
    "tags": []
   },
   "source": [
    "## Germany IT survey "
   ]
  },
  {
   "cell_type": "markdown",
   "id": "28cb59b5-1b3b-40ea-a1a7-aa682832b537",
   "metadata": {},
   "source": [
    "### Year: 2018"
   ]
  },
  {
   "cell_type": "code",
   "execution_count": null,
   "id": "93473a5c-7249-49c5-81af-7a6f69fb1e69",
   "metadata": {},
   "outputs": [],
   "source": [
    "top_5_values_per_column(df_it18_ini)"
   ]
  },
  {
   "cell_type": "code",
   "execution_count": null,
   "id": "67934acc-ff08-4065-9513-05a1195afaf6",
   "metadata": {},
   "outputs": [],
   "source": [
    "# Adding year and country\n",
    "df_it18_ini['year'] = 2018\n",
    "df_it18_ini['country'] = \"de\"\n",
    "\n",
    "# Define column name mappings\n",
    "column_mappings = {\n",
    "    'position': 'job_title',\n",
    "    'years_of_experience': 'experience',\n",
    "    'your_level': 'seniority_level',\n",
    "    'current_salary': 'salary_eur',\n",
    "    'main_language_at_work': 'language_at_work'\n",
    "}\n",
    "\n",
    "# Rename columns using the mappings\n",
    "df_it18_u = df_it18_ini.rename(columns=column_mappings)\n",
    "df_it18_u.head(2)"
   ]
  },
  {
   "cell_type": "code",
   "execution_count": null,
   "id": "2e81afaa-98aa-4996-927e-149377db47c0",
   "metadata": {},
   "outputs": [],
   "source": [
    "# Cleaning report\n",
    "df_it18_u['salary_eur'] = df_it18_u['salary_eur'].apply(clean_salary_0616, df_report=df_report, prefix='df_it18_salary')\n",
    "df_report"
   ]
  },
  {
   "cell_type": "code",
   "execution_count": null,
   "id": "7310ad80-1f0c-4b77-893f-cf71c75cd624",
   "metadata": {},
   "outputs": [],
   "source": [
    "len_it18_salarydrop1 = len(df_it18_u) # For data quality report\n",
    "\n",
    "# Comverting to numeric\n",
    "df_it18_u['salary_eur'] = df_it18_u['salary_eur'].apply(pd.to_numeric, errors='raise')\n",
    "# same appraoch: df_it18_u['salary_eur'] = pd.to_numeric(df_it18_u['salary_eur'], errors='raise')\n",
    "\n",
    "# Dropping rows where salary is Null\n",
    "df_it18_u.dropna(subset=['salary_eur'], inplace=True)\n",
    "\n",
    "# Assigning 'int64' datatype. This serves as a self-check\n",
    "df_it18_u['salary_eur'] = df_it18_u['salary_eur'].astype('int64')\n",
    "\n",
    "# Create a new 'salary' column that will represent the salary in USD\n",
    "df_it18_u['salary'] = df_it18_u['salary_eur'] * eur2usd_2018\n",
    "\n",
    "len_it18_salarydrop2 = len(df_it18_u) # For data quality report\n",
    "\n",
    "df_it18_u.head(2)"
   ]
  },
  {
   "cell_type": "code",
   "execution_count": null,
   "id": "daf23519-278f-485a-9741-bb0373eb1b32",
   "metadata": {},
   "outputs": [],
   "source": [
    "df_it18_u[['salary_eur','salary']].info()"
   ]
  },
  {
   "cell_type": "markdown",
   "id": "19eb74b1-ff19-4044-8757-31045be76db6",
   "metadata": {},
   "source": [
    "### Year: 2019"
   ]
  },
  {
   "cell_type": "code",
   "execution_count": null,
   "id": "394d3e3b-fff9-4648-beaa-2119e9ae3077",
   "metadata": {},
   "outputs": [],
   "source": [
    "top_5_values_per_column(df_it19_ini)"
   ]
  },
  {
   "cell_type": "code",
   "execution_count": null,
   "id": "fb718920-37d2-4773-8731-8b97feac913d",
   "metadata": {},
   "outputs": [],
   "source": [
    "# Adding year and country\n",
    "df_it19_ini['year'] = 2019\n",
    "df_it19_ini['country'] = \"de\"\n",
    "\n",
    "# Define column name mappings\n",
    "column_mappings = {\n",
    "    'position_(without_seniority)': 'job_title',\n",
    "    'years_of_experience': 'experience',\n",
    "    'your_main_technology_/_programming_language': 'skills',\n",
    "    'yearly_brutto_salary_(without_bonus_and_stocks)': 'base_salary',\n",
    "    'yearly_bonus': 'bonus',\n",
    "    'yearly_stocks': 'stocks',\n",
    "    'yearly_brutto_salary_(without_bonus_and_stocks)_one_year_ago._only_answer_if_staying_in_same_country': 'salary_1y_ago',\n",
    "    'yearly_bonus_one_year_ago._only_answer_if_staying_in_same_country':'bonus_1y_ago',\n",
    "    'yearly_stocks_one_year_ago._only_answer_if_staying_in_same_country':'stocks_1y_ago',\n",
    "    'main_language_at_work': 'language_at_work'\n",
    "}\n",
    "\n",
    "# Rename columns using the mappings\n",
    "df_it19_u = df_it19_ini.rename(columns=column_mappings)"
   ]
  },
  {
   "cell_type": "code",
   "execution_count": null,
   "id": "bcb3f675-ffed-4be5-9d31-a588cd2907d6",
   "metadata": {
    "tags": []
   },
   "outputs": [],
   "source": [
    "# Cleaning report\n",
    "\n",
    "df_it19_u['base_salary'] = df_it19_u['base_salary'].apply(clean_salary_0616, df_report=df_report, prefix='df_it19_u_salary')\n",
    "df_it19_u['bonus'] = df_it19_u['bonus'].apply(clean_salary_0616, df_report=df_report, prefix='df_it19_u_bonus')\n",
    "df_it19_u['stocks'] = df_it19_u['stocks'].apply(clean_salary_0616, df_report=df_report, prefix='df_it19_u_stocks')\n",
    "df_report"
   ]
  },
  {
   "cell_type": "markdown",
   "id": "91372978-1c91-49f1-b926-b314e3d46ecd",
   "metadata": {},
   "source": [
    "<div class=c>\n",
    "There is a Null value in 'base_salary', that will need to be dropped. The cleaning function itself does not drop Null values, so I drop it separately.<br>\n",
    "There are hundreds of null values in 'bonus' and 'stocks', I'll convert them to zeroes.\n",
    "</div>"
   ]
  },
  {
   "cell_type": "code",
   "execution_count": null,
   "id": "bc2d6c05-920d-42ca-b875-fa996b6b22fd",
   "metadata": {},
   "outputs": [],
   "source": [
    "# Dropping values\n",
    "\n",
    "len_it19_salarydrop1 = len(df_it19_u) # For data quality report\n",
    "\n",
    "df_it19_u = df_it19_u.dropna(subset=['base_salary'])\n",
    "#df_salary_conversion['base_salary'].fillna(0, inplace=True)\n",
    "df_it19_u['bonus'] = df_it19_u['bonus'].fillna(0)\n",
    "df_it19_u['stocks'] = df_it19_u['stocks'].fillna(0)\n",
    "\n",
    "df_it19_u['base_salary'].apply(pd.to_numeric, errors='coerce')\n",
    "df_it19_u['bonus'].apply(pd.to_numeric, errors='coerce')\n",
    "df_it19_u['stocks'].apply(pd.to_numeric, errors='coerce')\n",
    "df_it19_u[['base_salary','bonus','stocks']] = df_it19_u[['base_salary','bonus','stocks']].astype('int64')\n",
    "\n",
    "# Create a new 'salary' column by adding the three columns together\n",
    "df_it19_u['salary_eur'] = df_it19_u['base_salary'] + df_it19_u['bonus'] + df_it19_u['stocks']\n",
    "df_it19_u['salary'] = df_it19_u['salary_eur'] * eur2usd_2019\n",
    "\n",
    "len_it19_salarydrop2 = len(df_it19_u) # For data quality report\n",
    "\n",
    "df_it19_u.head(2)"
   ]
  },
  {
   "cell_type": "code",
   "execution_count": null,
   "id": "f58233dc-43cb-4f6e-82e3-f741952249a5",
   "metadata": {},
   "outputs": [],
   "source": [
    "df_it19_u[['base_salary','bonus','stocks','salary']].info()"
   ]
  },
  {
   "cell_type": "markdown",
   "id": "ea237c03-a493-43d9-ad86-31e4be17f4ac",
   "metadata": {},
   "source": [
    "### Year: 2020"
   ]
  },
  {
   "cell_type": "code",
   "execution_count": null,
   "id": "2d5eabdf-530c-47ac-a3cd-bae2578ea66e",
   "metadata": {},
   "outputs": [],
   "source": [
    "top_5_values_per_column(df_it20_ini)"
   ]
  },
  {
   "cell_type": "markdown",
   "id": "d416c393-bcef-43bb-b07c-74573750d3f4",
   "metadata": {},
   "source": [
    "#### Renaming the columns"
   ]
  },
  {
   "cell_type": "code",
   "execution_count": null,
   "id": "230745ea-a6f5-4782-bbdd-eda14e9fc056",
   "metadata": {},
   "outputs": [],
   "source": [
    "# Adding year and country\n",
    "df_it20_ini['year'] = 2020\n",
    "df_it20_ini['country'] = \"de\"\n",
    "\n",
    "# Define column name mappings\n",
    "column_mappings = {\n",
    "    'position_': 'job_title',\n",
    "    'total_years_of_experience': 'experience',\n",
    "    'your_main_technology_/_programming_language': 'skills',\n",
    "    'other_technologies/programming_languages_you_use_often': 'skills_2',\n",
    "    'yearly_brutto_salary_(without_bonus_and_stocks)_in_eur': 'base_salary',\n",
    "    'yearly_bonus_+_stocks_in_eur': 'bonus',\n",
    "    'annual_brutto_salary_(without_bonus_and_stocks)_one_year_ago._only_answer_if_staying_in_the_same_country': 'salary_1y_ago',\n",
    "    'annual_bonus+stocks_one_year_ago._only_answer_if_staying_in_same_country': 'bonus_1y_ago',\n",
    "    'yearly_stocks_one_year_ago._only_answer_if_staying_in_same_country':'stocks_1y_ago',\n",
    "    'main_language_at_work': 'language_at_work'\n",
    "}\n",
    "\n",
    "# Rename columns using the mappings\n",
    "df_it20_u = df_it20_ini.rename(columns=column_mappings)\n",
    "df_it20_u.head(2)"
   ]
  },
  {
   "cell_type": "markdown",
   "id": "0333ead4-6f00-4831-beb1-4cb89f532159",
   "metadata": {},
   "source": [
    "#### Checking cleanliness"
   ]
  },
  {
   "cell_type": "code",
   "execution_count": null,
   "id": "0dd8b982-1751-444b-bde7-b8158be3dc1b",
   "metadata": {},
   "outputs": [],
   "source": [
    "# Cleaning report\n",
    "\n",
    "df_it20_u['base_salary'] = df_it20_u['base_salary'].apply(clean_salary_0616, df_report=df_report, prefix='df_it20_u_salary')\n",
    "df_it20_u['bonus'] = df_it20_u['bonus'].apply(clean_salary_0616, df_report=df_report, prefix='df_it20_u_bonus')\n",
    "df_report"
   ]
  },
  {
   "cell_type": "markdown",
   "id": "ffcfae0d-b9b8-495d-8334-46a7fd4515d8",
   "metadata": {},
   "source": [
    "#### Converting to USD"
   ]
  },
  {
   "cell_type": "code",
   "execution_count": null,
   "id": "5275278b-308a-4a40-87ee-38f24b5a7dbf",
   "metadata": {},
   "outputs": [],
   "source": [
    "len_it20_salarydrop1 = len(df_it20_u)\n",
    "\n",
    "df_it20_u = df_it20_u.dropna(subset=['base_salary'])\n",
    "df_it20_u['bonus'] = df_it20_u['bonus'].fillna(0)\n",
    "\n",
    "#df_it20_u['bonus'] = df_it20_u['bonus'].str.replace('$', '')\n",
    "#df_it20_u['bonus'] = df_it20_u['bonus'].str.replace('> ', '')\n",
    "\n",
    "df_it20_u['base_salary'] = pd.to_numeric(df_it20_u['base_salary'], errors='coerce')\n",
    "df_it20_u['bonus'] = pd.to_numeric(df_it20_u['bonus'], errors='coerce')\n",
    "\n",
    "df_it20_u['base_salary'] = df_it20_u['base_salary'].fillna(0)\n",
    "df_it20_u['bonus'] = df_it20_u['bonus'].fillna(0)\n",
    "\n",
    "#df_it20_u['base_salary'] = df_it20_u['base_salary'].astype('int64')\n",
    "#df_it20_u['bonus'] = df_it20_u['bonus'].astype('int64')\n",
    "\n",
    "# Create a new 'salary' column by adding the columns together\n",
    "df_it20_u['salary_eur'] = df_it20_u['base_salary'] + df_it20_u['bonus']\n",
    "df_it20_u['salary'] = df_it20_u['salary_eur'] * eur2usd_2020\n",
    "\n",
    "len_it20_salarydrop2 = len(df_it20_u)\n",
    "\n",
    "df_it20_u.head(2)"
   ]
  },
  {
   "cell_type": "code",
   "execution_count": null,
   "id": "46d03e1b-74e6-443b-ac9d-6a838b5a18c8",
   "metadata": {},
   "outputs": [],
   "source": [
    "df_it20_u[['base_salary','bonus','salary']].info()"
   ]
  },
  {
   "cell_type": "markdown",
   "id": "b4d2854c-3001-4cd4-b779-f7e636ed5f6a",
   "metadata": {},
   "source": [
    "### Year: 2021"
   ]
  },
  {
   "cell_type": "code",
   "execution_count": null,
   "id": "926e773a-a84d-468c-adbf-d2f016fec62d",
   "metadata": {},
   "outputs": [],
   "source": [
    "top_5_values_per_column(df_it21_ini)"
   ]
  },
  {
   "cell_type": "code",
   "execution_count": null,
   "id": "d1fb5174-a990-4fde-a173-0a81959e29ee",
   "metadata": {},
   "outputs": [],
   "source": [
    "# In some cases the answer were given only in 'annual_brutto_salary_without_bonus_and_stocks_in_eur', and nothing in 'annual_brutto_salary_with_bonus_and_stocks_in_eur'\n",
    "# Therefore I take the larger of the two\n",
    "df_it21_ini['salary_eur'] = df_it21_ini[['annual_brutto_salary_without_bonus_and_stocks_in_eur', 'annual_brutto_salary_with_bonus_and_stocks_in_eur']].max(axis=1)"
   ]
  },
  {
   "cell_type": "code",
   "execution_count": null,
   "id": "02c098bb-567a-45d8-bb69-b5238172f60d",
   "metadata": {},
   "outputs": [],
   "source": [
    "df_it21_ini['year'] = 2021\n",
    "df_it21_ini['country'] = \"de\"\n",
    "\n",
    "# Define column name mappings\n",
    "column_mappings = {\n",
    "    'position': 'job_title',\n",
    "    'your_position': 'job_title_2',\n",
    "    'total_years_of_experience': 'experience',\n",
    "    'main_technology_/_programming_language': 'skills',\n",
    "    'other_technologies/programming_languages_you_use_often': 'skills_2',\n",
    "    'annual_brutto_salary_without_bonus_and_stocks_in_eur': 'base_salary',\n",
    "    #'annual_brutto_salary_with_bonus_and_stocks_in_eur': 'salary_eur',\n",
    "    'annual_bonus+stocks_one_year_ago.': 'salary_w_bonus_1y_ago',\n",
    "    'what_languages_do_you_speak_and_use_at_work?': 'language_at_work'\n",
    "}\n",
    "\n",
    "# Rename columns using the mappings\n",
    "df_it21_u = df_it21_ini.rename(columns=column_mappings)\n",
    "df_it21_u.head(2)"
   ]
  },
  {
   "cell_type": "markdown",
   "id": "63126419-f8b6-4b2a-a78e-1035bd691120",
   "metadata": {},
   "source": [
    "#### checking cleanliness"
   ]
  },
  {
   "cell_type": "code",
   "execution_count": null,
   "id": "ffba9728-72ed-4e9a-b247-0268ae72410a",
   "metadata": {},
   "outputs": [],
   "source": [
    "df_it21_u['salary_eur'] = df_it21_u['salary_eur'].apply(clean_salary_0616, df_report=df_report, prefix='df_it21_u_salary')\n",
    "df_report"
   ]
  },
  {
   "cell_type": "code",
   "execution_count": null,
   "id": "8377d444-6436-4ab4-92ec-ca24d8bd31fb",
   "metadata": {},
   "outputs": [],
   "source": [
    "len_it21_salarydrop1 = len(df_it21_u)\n",
    "\n",
    "# dropping initial Nones, that wouldn't be converted with pd.to_numeric errors='raise'\n",
    "df_it21_u = df_it21_u.dropna(subset=['salary_eur'])\n",
    "\n",
    "df_it21_u['salary_eur'].apply(pd.to_numeric, errors='raise')\n",
    "\n",
    "# dropping Nones that is the result of pd.to_numeric\n",
    "df_it21_u = df_it21_u.dropna(subset=['salary_eur'])\n",
    "\n",
    "df_it21_u['salary_eur'] = df_it21_u['salary_eur'].astype('int64') # float64 can contain Nones, which is annoying. The data should be convertible to int64 (The only exception is if the answer was given as a float.)\n",
    "\n",
    "# Create a new 'salary' column by adding the columns together\n",
    "df_it21_u['salary'] = df_it21_u['salary_eur'] * eur2usd_2021\n",
    "\n",
    "len_it21_salarydrop2 = len(df_it21_u)\n",
    "\n",
    "df_it21_u.head(2)"
   ]
  },
  {
   "cell_type": "code",
   "execution_count": null,
   "id": "a1e7235c-dbe5-40c0-9c4d-e787f0543fad",
   "metadata": {},
   "outputs": [],
   "source": [
    "df_it21_u[['salary_eur','salary']].info()"
   ]
  },
  {
   "cell_type": "markdown",
   "id": "dd19c78c-f521-4a3d-b552-9e189b276f4c",
   "metadata": {},
   "source": [
    "### Year: 2022 "
   ]
  },
  {
   "cell_type": "code",
   "execution_count": null,
   "id": "24fd1bab-944b-41f8-b2d0-3e9ea1c938c3",
   "metadata": {},
   "outputs": [],
   "source": [
    "top_5_values_per_column(df_it22_ini)"
   ]
  },
  {
   "cell_type": "code",
   "execution_count": null,
   "id": "5ee3020d-44dc-4089-a7f0-a9714f8eaef4",
   "metadata": {},
   "outputs": [],
   "source": [
    "# In some cases the answer were given only in 'annual_brutto_salary_without_bonus_and_stocks_in_eur', and nothing in 'annual_brutto_salary_with_bonus_and_stocks_in_eur'\n",
    "# Therefore I take the larger of the two\n",
    "df_it22_ini['salary_eur'] = df_it22_ini[['annual_gross_salary_without_bonus_and_stocks_in_eur', 'annual_brutto_salary_with_bonus_and_stocks_in_eur']].max(axis=1)"
   ]
  },
  {
   "cell_type": "code",
   "execution_count": null,
   "id": "05ee1d2a-585a-4eac-a288-0fba71194383",
   "metadata": {},
   "outputs": [],
   "source": [
    "df_it22_ini['year'] = 2022\n",
    "df_it22_ini['country'] = \"de\"\n",
    "\n",
    "# Define column name mappings\n",
    "column_mappings = {\n",
    "    'position': 'job_title',\n",
    "    'your_position': 'job_title_2',\n",
    "    'total_years_of_experience': 'experience',\n",
    "    'main_technology_/_programming_language': 'skills',\n",
    "    'other_technologies/programming_languages_you_use_often':'skills_2',\n",
    "    'your_main_technology':'skills_3',\n",
    "    'annual_gross_salary_without_bonus_and_stocks_in_eur': 'base_salary',\n",
    "    'annual_brutto_salary_with_bonus_and_stocks_in_eur': 'salary_w_bonus',\n",
    "    'annual_bonus+stocks_one_year_ago.':'bonus_1y_ago',\n",
    "    'what_languages_do_you_speak_and_use_at_work?': 'language_at_work'\n",
    "}\n",
    "\n",
    "# Rename columns using the mappings\n",
    "df_it22_u = df_it22_ini.rename(columns=column_mappings)"
   ]
  },
  {
   "cell_type": "code",
   "execution_count": null,
   "id": "9f4ac9ce-3a53-4657-8b8f-0cf38e23590b",
   "metadata": {},
   "outputs": [],
   "source": [
    "df_it22_u['salary_eur'] = df_it22_u['salary_eur'].apply(clean_salary_0616, df_report=df_report, prefix='df_it22_u_salary_eur')\n",
    "df_report"
   ]
  },
  {
   "cell_type": "code",
   "execution_count": null,
   "id": "1f52b83f-c16f-4d57-b5cf-6b492b8044e9",
   "metadata": {},
   "outputs": [],
   "source": [
    "# \n",
    "# \n",
    "# df_it22_u = df_it22_u.dropna(subset=['salary_eur'])\n",
    "# df_it22_u['salary_eur'].apply(pd.to_numeric, errors='coerce')\n",
    "# \n",
    "# # Create a new 'salary' column by adding the columns together\n",
    "# df_it22_u['salary'] = df_it22_u['salary_eur'] * eur2usd_2022\n",
    "# df_it22_u.head(2)"
   ]
  },
  {
   "cell_type": "code",
   "execution_count": null,
   "id": "bd6c45d4-4bf8-42d8-8081-0d1bfb0b12d9",
   "metadata": {},
   "outputs": [],
   "source": [
    "len_it22_salarydrop1 = len(df_it22_u)\n",
    "\n",
    "# dropping initial Nones, that wouldn't be converted with pd.to_numeric errors='raise'\n",
    "df_it22_u = df_it22_u.dropna(subset=['salary_eur'])\n",
    "df_it22_u['salary_eur'].apply(pd.to_numeric, errors='raise')\n",
    "\n",
    "# dropping Nones that is the result of pd.to_numeric\n",
    "df_it22_u = df_it22_u.dropna(subset=['salary_eur'])\n",
    "\n",
    "df_it22_u['salary_eur'] = df_it22_u['salary_eur'].astype('int64') # float64 can contain Nones, which is annoying. The data should be convertible to int64 (The only exception is if the answer was given as a float.)\n",
    "\n",
    "# Create a new 'salary' column by adding the columns together\n",
    "df_it22_u['salary'] = df_it22_u['salary_eur'] * eur2usd_2022\n",
    "len_it22_salarydrop2 = len(df_it22_u)\n",
    "\n",
    "df_it22_u.head(2)"
   ]
  },
  {
   "cell_type": "code",
   "execution_count": null,
   "id": "8727da6d-13c9-4671-a7cb-28ac825f08d7",
   "metadata": {},
   "outputs": [],
   "source": [
    "df_it22_u[['salary_eur','salary']].info()"
   ]
  },
  {
   "cell_type": "markdown",
   "id": "857d5001-56da-4332-a19f-0c4934680fbd",
   "metadata": {},
   "source": [
    "### Year: 2023"
   ]
  },
  {
   "cell_type": "code",
   "execution_count": null,
   "id": "03191784-0ad0-4d84-8572-dde7563af444",
   "metadata": {},
   "outputs": [],
   "source": [
    "top_5_values_per_column(df_it23_ini)"
   ]
  },
  {
   "cell_type": "code",
   "execution_count": null,
   "id": "41e69fea-3ce6-409b-8b98-deb1f52091ee",
   "metadata": {},
   "outputs": [],
   "source": [
    "# In some cases the answer were given only in 'annual_brutto_salary_without_bonus_and_stocks_in_eur', and nothing in 'annual_brutto_salary_with_bonus_and_stocks_in_eur'\n",
    "# Therefore I take the larger of the two\n",
    "df_it23_ini['salary_eur'] = df_it23_ini[['annual_gross_salary_without_bonus_and_stocks_in_eur', 'annual_gross_salary_with_bonus_and_stocks_in_eur']].max(axis=1)"
   ]
  },
  {
   "cell_type": "code",
   "execution_count": null,
   "id": "506c7c2d-7bb3-4277-9704-7f0c96c76cc6",
   "metadata": {},
   "outputs": [],
   "source": [
    "df_it23_ini['year'] = 2023\n",
    "df_it23_ini['country'] = \"de\"\n",
    "\n",
    "# Define column name mappings\n",
    "column_mappings = {\n",
    "    'position': 'job_title',\n",
    "    'your_position': 'job_title_2',\n",
    "    'total_years_of_experience': 'experience',\n",
    "    'main_technology_/_programming_language': 'skills',\n",
    "    'other_technologies/programming_languages_you_use_often':'skills_2',\n",
    "    'your_main_technology':'skills_3',\n",
    "    'annual_gross_salary_without_bonus_and_stocks_in_eur': 'base_salary',\n",
    "    'annual_gross_salary_with_bonus_and_stocks_in_eur': 'salary_w_bonus',\n",
    "    'annual_gross_salary+bonus+stocks_one_year_ago.':'salary_w_bonus_1y_ago',\n",
    "    'what_languages_do_you_speak_and_use_at_work?': 'language_at_work'\n",
    "}\n",
    "\n",
    "# Rename columns using the mappings\n",
    "df_it23_u = df_it23_ini.rename(columns=column_mappings)"
   ]
  },
  {
   "cell_type": "code",
   "execution_count": null,
   "id": "f2f30d7b-6cc0-44ff-b4c6-821492d079e9",
   "metadata": {},
   "outputs": [],
   "source": [
    "# Cleaning & report\n",
    "df_it23_u['salary_eur'] = df_it23_u['salary_eur'].apply(clean_salary_0616, df_report=df_report, prefix='df_it23_u_salary_eur')\n",
    "df_report"
   ]
  },
  {
   "cell_type": "code",
   "execution_count": null,
   "id": "5c2ccf8f-9110-4ef4-a2df-3b414959b6e3",
   "metadata": {},
   "outputs": [],
   "source": [
    "len_it23_salarydrop1 = len(df_it23_u)\n",
    "\n",
    "# dropping initial Nones, that wouldn't be converted with pd.to_numeric errors='raise'\n",
    "df_it23_u = df_it23_u.dropna(subset=['salary_eur'])\n",
    "\n",
    "df_it23_u['salary_eur'].apply(pd.to_numeric, errors='raise')\n",
    "\n",
    "# dropping Nones that is the result of pd.to_numeric\n",
    "df_it23_u = df_it23_u.dropna(subset=['salary_eur'])\n",
    "\n",
    "df_it23_u['salary_eur'] = df_it23_u['salary_eur'].astype('int64') # float64 can contain Nones, which is annoying. The data should be convertible to int64 (The only exception is if the answer was given as a float.)\n",
    "\n",
    "# Create a new 'salary' column by adding the columns together\n",
    "df_it23_u['salary'] = df_it23_u['salary_eur'] * eur2usd_2023\n",
    "\n",
    "len_it23_salarydrop2 = len(df_it23_u)\n",
    "\n",
    "df_it23_u.head(2)"
   ]
  },
  {
   "cell_type": "code",
   "execution_count": null,
   "id": "d42d78d2-b104-4a56-8984-1646c0b7c8f4",
   "metadata": {},
   "outputs": [],
   "source": [
    "df_it23_u[['salary_eur','salary']].info()"
   ]
  },
  {
   "cell_type": "markdown",
   "id": "14d89c52-52ba-4ea7-b470-143a820bf829",
   "metadata": {},
   "source": [
    "## Kaggle "
   ]
  },
  {
   "cell_type": "code",
   "execution_count": null,
   "id": "aca02b06-953d-479b-be55-c5bc142a8b54",
   "metadata": {},
   "outputs": [],
   "source": [
    "def kaggle_summary(df):\n",
    "    # Create an empty DataFrame to store the result\n",
    "    result_df = pd.DataFrame(columns=['column_name', 'second_row_values', 'top_5_values'])\n",
    "    \n",
    "    # Iterate through each column\n",
    "    for column in df.columns:\n",
    "        # Find the five most common values in the column\n",
    "        top_5_values = df[column].value_counts().head(5).index.tolist()\n",
    "        \n",
    "        # Get the value of the second row for the current column\n",
    "        second_row_value = df.iloc[0][column]\n",
    "        \n",
    "        # Create a DataFrame with the current column name, top 5 values, and second row value\n",
    "        data_to_append = pd.DataFrame({'column_name': [column],\n",
    "                                       'second_row_values': [second_row_value],\n",
    "                                       'top_5_values': [top_5_values]\n",
    "                                       })\n",
    "        \n",
    "        # Concatenate the new DataFrame with the result DataFrame\n",
    "        result_df = pd.concat([result_df, data_to_append], ignore_index=True)\n",
    "    \n",
    "    return result_df"
   ]
  },
  {
   "cell_type": "markdown",
   "id": "615bfb41-b279-4de7-a53c-33475c64fb42",
   "metadata": {},
   "source": [
    "### Year: 2019 "
   ]
  },
  {
   "cell_type": "code",
   "execution_count": null,
   "id": "69c38bf9-f4b4-4fc6-9fd7-f4c2afef5e97",
   "metadata": {},
   "outputs": [],
   "source": [
    "result_df = kaggle_summary(df_k19_ini)\n",
    "result_df.to_csv('../results/df_k19_structure.txt', sep='\\t', index=True)\n",
    "result_df.head(10)"
   ]
  },
  {
   "cell_type": "code",
   "execution_count": null,
   "id": "e3cd8657-525d-4b31-99a9-a2bbd9b2e6ab",
   "metadata": {},
   "outputs": [],
   "source": [
    "# Select only the relevant columns\n",
    "df_k19_u1 = df_k19_ini[['q1', 'q3', 'q4', 'q5', 'q5_other_text', 'q6', 'q10', 'q15',]]\n",
    "# Drop the first row as it's only an elaboration on the questionnaire.\n",
    "df_k19_u1 = df_k19_u1.drop(df_k19_u1.index[0])\n",
    "\n",
    "# Define column name mappings\n",
    "column_mappings = {\n",
    "    'q1': 'age',\n",
    "    'q3': 'country',\n",
    "    'q4': 'education_level',\n",
    "    'q5': 'job_title',\n",
    "    'q5_other_text': 'job_title_2',\n",
    "    'q6': 'company_size',\n",
    "    'q10': 'salary_range',\n",
    "    'q15': 'experience'\n",
    "}\n",
    "\n",
    "# Rename columns using the mappings\n",
    "df_k19_u = df_k19_u1.rename(columns=column_mappings)\n",
    "#df_k19_u = df_k19_u1.drop(df_k19_u1.index[0])\n",
    "df_k19_u['year'] = 2019\n",
    "df_k19_u.head(3)"
   ]
  },
  {
   "cell_type": "code",
   "execution_count": null,
   "id": "4e89a82d-eed1-466b-be37-16dcc8513dab",
   "metadata": {},
   "outputs": [],
   "source": [
    "len_k19_salarydrop1 = len(df_k19_u)\n",
    "\n",
    "df_k19_u['salary_range'] = df_k19_u['salary_range'].str.replace('$', '', regex=False)\n",
    "df_k19_u['salary_range'] = df_k19_u['salary_range'].str.replace('> ', '', regex=False)\n",
    "\n",
    "# Dropping rows where salary is Null\n",
    "df_k19_u.dropna(subset=['salary_range'], inplace=True)\n",
    "\n",
    "# Split the salary_range column on the dash ('-') and convert to numeric values\n",
    "df_k19_u[['lower_salary', 'upper_salary']] = df_k19_u['salary_range'].str.split('-', expand=True)\n",
    "df_k19_u['lower_salary'] = df_k19_u['lower_salary'].str.replace(',', '').astype(float)\n",
    "df_k19_u['upper_salary'] = df_k19_u['upper_salary'].str.replace(',', '').astype(float)\n",
    "\n",
    "df_k19_u['salary'] = df_k19_u[['lower_salary', 'upper_salary']].mean(axis=1)\n",
    "\n",
    "len_k19_salarydrop2 = len(df_k19_u)\n",
    "df_k19_u.head()"
   ]
  },
  {
   "cell_type": "markdown",
   "id": "e6f5e2df-451f-4d6f-91c3-50f87121e6ac",
   "metadata": {},
   "source": [
    "### Year: 2020 "
   ]
  },
  {
   "cell_type": "code",
   "execution_count": null,
   "id": "c87dfde4-0a1b-4b18-9523-517ead45faa9",
   "metadata": {},
   "outputs": [],
   "source": [
    "result_df = kaggle_summary(df_k20_ini)\n",
    "result_df.to_csv('../results/df_k20_structure.txt', sep='\\t', index=True)\n",
    "result_df.head(10)"
   ]
  },
  {
   "cell_type": "code",
   "execution_count": null,
   "id": "4a326440-201d-47b1-8328-541fdca60900",
   "metadata": {},
   "outputs": [],
   "source": [
    "# Select only the important columns\n",
    "df_k20_u1 = df_k20_ini[['q1', 'q3', 'q4', 'q5', 'q6', 'q20', 'q24']]\n",
    "\n",
    "# Drop the first row as it's only an elaboration on the questionnaire.\n",
    "df_k20_u1 = df_k20_u1.drop(df_k20_u1.index[0])\n",
    "\n",
    "# Define column name mappings\n",
    "column_mappings = {\n",
    "    'q1': 'age',\n",
    "    'q3': 'country',\n",
    "    'q4': 'education_level',\n",
    "    'q5': 'job_title',\n",
    "    'q6': 'experience',\n",
    "    'q20': 'company_size',\n",
    "    'q24': 'salary_range'\n",
    "}\n",
    "\n",
    "# Rename columns using the mappings\n",
    "df_k20_u = df_k20_u1.rename(columns=column_mappings)\n",
    "df_k20_u['year'] = 2020\n",
    "df_k20_u.head(2)"
   ]
  },
  {
   "cell_type": "code",
   "execution_count": null,
   "id": "f6133cc0-2aea-4684-b335-33618e5efc6f",
   "metadata": {},
   "outputs": [],
   "source": [
    "len_k20_salarydrop1 = len(df_k20_u)\n",
    "\n",
    "df_k20_u['salary_range'] = df_k20_u['salary_range'].str.replace('$', '', regex=False)\n",
    "df_k20_u['salary_range'] = df_k20_u['salary_range'].str.replace('> ', '', regex=False)\n",
    "\n",
    "# Dropping rows where salary is Null\n",
    "df_k20_u.dropna(subset=['salary_range'], inplace=True)\n",
    "\n",
    "# Split the salary_range column on the dash ('-') and convert to numeric values\n",
    "df_k20_u[['lower_salary', 'upper_salary']] = df_k20_u['salary_range'].str.split('-', expand=True)\n",
    "df_k20_u['lower_salary'] = df_k20_u['lower_salary'].str.replace(',', '').astype(float)\n",
    "df_k20_u['upper_salary'] = df_k20_u['upper_salary'].str.replace(',', '').astype(float)\n",
    "\n",
    "df_k20_u['salary'] = df_k20_u[['lower_salary', 'upper_salary']].mean(axis=1)\n",
    "\n",
    "len_k20_salarydrop2 = len(df_k20_u)\n",
    "df_k20_u.head(2)"
   ]
  },
  {
   "cell_type": "markdown",
   "id": "a9183c68-b257-406e-b005-9e12c88478c1",
   "metadata": {},
   "source": [
    "### Year: 2021"
   ]
  },
  {
   "cell_type": "code",
   "execution_count": null,
   "id": "455a02c7-3abc-4c46-bec8-81a70796e9d5",
   "metadata": {
    "tags": []
   },
   "outputs": [],
   "source": [
    "result_df = kaggle_summary(df_k21_ini)\n",
    "result_df.to_csv('../results/df_k21_structure.txt', sep='\\t', index=True)\n",
    "result_df.head(10)"
   ]
  },
  {
   "cell_type": "code",
   "execution_count": null,
   "id": "fed90337-8ef1-4ba4-9373-cb953d925c83",
   "metadata": {},
   "outputs": [],
   "source": [
    "# Select only the relevant columns\n",
    "df_k21_u1 = df_k21_ini[['q1', 'q3', 'q4', 'q5', 'q6', 'q20', 'q21', 'q25']]\n",
    "\n",
    "# Drop the first row as it's only an elaboration on the questionnaire.\n",
    "df_k21_u1 = df_k21_u1.drop(df_k21_u1.index[0])\n",
    "\n",
    "# Define column name mappings\n",
    "column_mappings = {\n",
    "    'q1': 'age',\n",
    "    'q3': 'country',\n",
    "    'q4': 'education_level',\n",
    "    'q5': 'job_title',\n",
    "    'q6': 'experience',\n",
    "    'q20': 'industry',\n",
    "    'q21': 'company_size',\n",
    "    'q25': 'salary_range'\n",
    "}\n",
    "\n",
    "# Rename columns using the mappings\n",
    "df_k21_u = df_k21_u1.rename(columns=column_mappings)\n",
    "df_k21_u['year'] = 2021\n",
    "df_k21_u.head(2)"
   ]
  },
  {
   "cell_type": "code",
   "execution_count": null,
   "id": "868f7b15-bf49-4ad8-883a-fa13bc02fbac",
   "metadata": {},
   "outputs": [],
   "source": [
    "len_k21_salarydrop1 = len(df_k21_u)\n",
    "\n",
    "df_k21_u['salary_range'] = df_k21_u['salary_range'].str.replace('$', '', regex=False)\n",
    "df_k21_u['salary_range'] = df_k21_u['salary_range'].str.replace('>', '', regex=False)\n",
    "\n",
    "# Dropping rows where salary is Null\n",
    "df_k21_u.dropna(subset=['salary_range'], inplace=True)\n",
    "\n",
    "# Split the salary_range column on the dash ('-') and convert to numeric values\n",
    "df_k21_u[['lower_salary', 'upper_salary']] = df_k21_u['salary_range'].str.split('-', expand=True)\n",
    "df_k21_u['lower_salary'] = df_k21_u['lower_salary'].str.replace(',', '').astype(float)\n",
    "df_k21_u['upper_salary'] = df_k21_u['upper_salary'].str.replace(',', '').astype(float)\n",
    "\n",
    "df_k21_u['salary'] = df_k21_u[['lower_salary', 'upper_salary']].mean(axis=1)\n",
    "\n",
    "len_k21_salarydrop2 = len(df_k21_u)\n",
    "df_k21_u.head(3)"
   ]
  },
  {
   "cell_type": "markdown",
   "id": "f75a2072-06a8-4b7b-8288-3f797e5059ef",
   "metadata": {},
   "source": [
    "### Year: 2022 "
   ]
  },
  {
   "cell_type": "code",
   "execution_count": null,
   "id": "c14c7621-7d71-4e8e-81fb-f61bdbdcbecd",
   "metadata": {},
   "outputs": [],
   "source": [
    "result_df = kaggle_summary(df_k22_ini)\n",
    "result_df.to_csv('../results/df_k22_structure.txt', sep='\\t', index=True)\n",
    "result_df.head(10)"
   ]
  },
  {
   "cell_type": "code",
   "execution_count": null,
   "id": "83ce161f-6cdb-47ba-8908-93a555b63d44",
   "metadata": {},
   "outputs": [],
   "source": [
    "# Select only the relevant columns\n",
    "df_k22_u1 = df_k22_ini[['q2', 'q4', 'q5', 'q8', 'q11', 'q23', 'q24', 'q25', 'q29']]\n",
    "\n",
    "# Drop the first row as it's only an elaboration on the questionnaire\n",
    "df_k22_u1 = df_k22_u1.drop(df_k22_u1.index[0])\n",
    "\n",
    "# Define column name mappings\n",
    "column_mappings = {\n",
    "    'q2': 'age',\n",
    "    'q4': 'country',\n",
    "    'q5': 'are_you_student',\n",
    "    'q8': 'education_level',\n",
    "    'q11': 'experience',\n",
    "    'q23': 'job_title',\n",
    "    'q24': 'industry',\n",
    "    'q25': 'company_size',\n",
    "    'q29': 'salary_range'\n",
    "}\n",
    "\n",
    "# Rename columns using the mappings\n",
    "df_k22_u = df_k22_u1.rename(columns=column_mappings)\n",
    "df_k22_u['year'] = 2022\n",
    "df_k22_u.head(3)"
   ]
  },
  {
   "cell_type": "code",
   "execution_count": null,
   "id": "7fa13c5b-36aa-4b81-9005-14711a9b1886",
   "metadata": {},
   "outputs": [],
   "source": [
    "len_k22_salarydrop1 = len(df_k22_u)\n",
    "\n",
    "df_k22_u['salary_range'] = df_k22_u['salary_range'].str.replace('$', '', regex=False)\n",
    "df_k22_u['salary_range'] = df_k22_u['salary_range'].str.replace('>', '', regex=False)\n",
    "\n",
    "# Dropping rows where salary is Null\n",
    "df_k22_u.dropna(subset=['salary_range'], inplace=True)\n",
    "\n",
    "# Split the salary_range column on the dash ('-') and convert to numeric values\n",
    "df_k22_u[['lower_salary', 'upper_salary']] = df_k22_u['salary_range'].str.split('-', expand=True)\n",
    "df_k22_u['lower_salary'] = df_k22_u['lower_salary'].str.replace(',', '').astype(float)\n",
    "df_k22_u['upper_salary'] = df_k22_u['upper_salary'].str.replace(',', '').astype(float)\n",
    "\n",
    "df_k22_u['salary'] = df_k22_u[['lower_salary', 'upper_salary']].mean(axis=1)\n",
    "\n",
    "len_k22_salarydrop2 = len(df_k22_u)\n",
    "df_k22_u.head(3)"
   ]
  },
  {
   "cell_type": "markdown",
   "id": "15b52180-34cb-4e1b-9664-4b0d52d140a4",
   "metadata": {},
   "source": [
    "## Final checking uniformity"
   ]
  },
  {
   "cell_type": "code",
   "execution_count": null,
   "id": "02e3adf7-10d4-4d20-afd7-e794b4c445e9",
   "metadata": {},
   "outputs": [],
   "source": [
    "df_ai_u['salary'].info()"
   ]
  },
  {
   "cell_type": "code",
   "execution_count": null,
   "id": "398c4654-85bf-4fcb-8791-abc96e5e1701",
   "metadata": {},
   "outputs": [],
   "source": [
    "df_it18_u['salary'].info()"
   ]
  },
  {
   "cell_type": "code",
   "execution_count": null,
   "id": "21dd707b-d69e-4655-bd79-8f43a89c64fa",
   "metadata": {},
   "outputs": [],
   "source": [
    "df_it19_u['salary'].info()"
   ]
  },
  {
   "cell_type": "code",
   "execution_count": null,
   "id": "d2afdc42-cc11-45cd-a8b8-88353dae4df2",
   "metadata": {},
   "outputs": [],
   "source": [
    "df_it20_u['salary'].info()"
   ]
  },
  {
   "cell_type": "code",
   "execution_count": null,
   "id": "105672e2-9bfc-406e-8d21-13396245e6ea",
   "metadata": {},
   "outputs": [],
   "source": [
    "df_it21_u['salary'].info()"
   ]
  },
  {
   "cell_type": "code",
   "execution_count": null,
   "id": "94cce22c-0676-4333-98c8-90a13afe855d",
   "metadata": {},
   "outputs": [],
   "source": [
    "df_it22_u['salary'].info()"
   ]
  },
  {
   "cell_type": "code",
   "execution_count": null,
   "id": "8a0fe046-fa5f-4149-92cd-5d2d759c8aa4",
   "metadata": {},
   "outputs": [],
   "source": [
    "df_it23_u['salary'].info()"
   ]
  },
  {
   "cell_type": "code",
   "execution_count": null,
   "id": "3aba9f54-a2fc-41d1-aec2-b9cd786ef1ae",
   "metadata": {},
   "outputs": [],
   "source": [
    "df_k19_u['salary'].info()"
   ]
  },
  {
   "cell_type": "code",
   "execution_count": null,
   "id": "109af04f-796e-4f29-9ee4-60e29d071769",
   "metadata": {},
   "outputs": [],
   "source": [
    "df_k20_u['salary'].info()"
   ]
  },
  {
   "cell_type": "code",
   "execution_count": null,
   "id": "c6c43104-689a-46c5-be6d-47364395e7e9",
   "metadata": {},
   "outputs": [],
   "source": [
    "df_k21_u['salary'].info()"
   ]
  },
  {
   "cell_type": "code",
   "execution_count": null,
   "id": "6bd57083-978e-4f89-8ea8-e9a68f10aeef",
   "metadata": {},
   "outputs": [],
   "source": [
    "df_k22_u['salary'].info()"
   ]
  },
  {
   "cell_type": "markdown",
   "id": "d71f195e-dfda-43cf-ae3e-56fe88983448",
   "metadata": {},
   "source": [
    "<div class=\"c\">\n",
    "There are no null values in any of the 'salary' columns in any dataframe.<br>\n",
    "Also, they're all float64, which means that all values are recognized as numbers.<br>\n",
    "\n",
    "Brief note:<br>\n",
    "Python's Dtypes in relation to NaN and mixed values:<br>\n",
    "-> NaN can be contained in everything without the dtype reflecting it.<br>\n",
    "-> When a column contains mixed values (eg.: string and int/float), it is stored as <b>object</b> dtype.\n",
    "</div> "
   ]
  },
  {
   "cell_type": "markdown",
   "id": "b1758a01-ebca-4ac8-bee0-09b09a6607d0",
   "metadata": {},
   "source": [
    "## Final cleaning report"
   ]
  },
  {
   "cell_type": "code",
   "execution_count": null,
   "id": "f3c730d0-edfd-4836-a4d6-20fbb1433617",
   "metadata": {},
   "outputs": [],
   "source": [
    "df_report_t = df_report.T\n",
    "df_report_t.rename(columns={0: 'Occurrence'}, inplace=True)\n",
    "df_report_t.to_csv('../results/Cleaning_report.txt', sep='\\t', index=True)"
   ]
  },
  {
   "cell_type": "code",
   "execution_count": null,
   "id": "8b8ffcfa-31f5-43f5-9a68-55f551fbebc1",
   "metadata": {},
   "outputs": [],
   "source": [
    "len_it18_u = len(df_it18_u)\n",
    "len_it19_u = len(df_it19_u)\n",
    "len_it20_u = len(df_it20_u)\n",
    "len_it21_u = len(df_it21_u)\n",
    "len_it22_u = len(df_it22_u)\n",
    "len_it23_u = len(df_it23_u)\n",
    "\n",
    "len_k19_u = len(df_k19_u)\n",
    "len_k20_u = len(df_k20_u)\n",
    "len_k21_u = len(df_k21_u)\n",
    "len_k22_u = len(df_k22_u)\n",
    "\n",
    "len_ai_u = len(df_ai_u)"
   ]
  },
  {
   "cell_type": "code",
   "execution_count": null,
   "id": "e0bc02f6-bfcf-4a7b-875d-9bf936b270b5",
   "metadata": {},
   "outputs": [],
   "source": [
    "print(len_it18_u / len_it18_ini),\n",
    "print(len_it19_u / len_it19_ini),\n",
    "print(len_it20_u / len_it20_ini),\n",
    "print(len_it21_u / len_it21_ini),\n",
    "print(len_it22_u / len_it22_ini),\n",
    "print(len_it23_u / len_it23_ini),\n",
    "print(len_k19_u  / len_k19_ini ),\n",
    "print(len_k20_u  / len_k20_ini ),\n",
    "print(len_k21_u  / len_k21_ini ),\n",
    "print(len_k22_u  / len_k22_ini ),\n",
    "print(len_ai_u   / len_ai_ini  )"
   ]
  },
  {
   "cell_type": "markdown",
   "id": "402d3080-742d-45cd-9871-da1bac8c09ad",
   "metadata": {},
   "source": [
    "<div class=\"c\">\n",
    "Conclusion:<br>\n",
    "Throghout the cleaning process, the 'clean_salary' function was used, which not only cleaned irregularities in data, <br>\n",
    "but upon encountering those irregularities, a counter increased in a reporting dataframe.<br>\n",
    "Those counters are exported as a <b> cleaning report </b> to the 'results' folder.\n",
    "</div> "
   ]
  },
  {
   "cell_type": "markdown",
   "id": "1a387fac-19ab-42a6-b911-23e354b7fe9c",
   "metadata": {},
   "source": [
    "# Union of the yearly dataframes"
   ]
  },
  {
   "cell_type": "markdown",
   "id": "64b0e2c9-1fe1-4a68-bbc6-5af75bb59a95",
   "metadata": {},
   "source": [
    "<div class=\"c\">\n",
    "The survey data have been cleaned and prepared now for merging.<br>\n",
    "These dataframes may contain many interesting and nuanced questions, but for this project, only the common questions will be kept and merged.<br>\n",
    "Therefore some columns will need to be dropped.<br>\n",
    "</div> "
   ]
  },
  {
   "cell_type": "code",
   "execution_count": null,
   "id": "b0da34a7-6251-4841-9d31-994539e25126",
   "metadata": {},
   "outputs": [],
   "source": [
    "top_5_values_per_column(df_it23_u)"
   ]
  },
  {
   "cell_type": "markdown",
   "id": "d86f3280-ec09-43af-821e-a2e5e23b6c97",
   "metadata": {},
   "source": [
    "## Germany IT Survey"
   ]
  },
  {
   "cell_type": "code",
   "execution_count": null,
   "id": "34cb4a5c-5a52-46a4-800f-3a48f132cb87",
   "metadata": {},
   "outputs": [],
   "source": [
    "df_it18_u = df_it18_u[['age', 'city', 'job_title', 'seniority_level', 'language_at_work', 'company_size', 'company_type', 'salary', 'year', 'country']]\n",
    "\n",
    "df_it19_u = df_it19_u[['age', 'city', 'job_title', 'seniority_level', 'experience', 'language_at_work', 'company_size', 'company_type', 'salary', 'year', 'country'\n",
    "                      , 'skills']]\n",
    "\n",
    "df_it20_u = df_it20_u[['age', 'city', 'job_title', 'seniority_level', 'experience', 'language_at_work', 'company_size', 'company_type', 'salary', 'year', 'country'\n",
    "                      , 'skills', 'skills_2', 'employment_status', 'years_of_experience_in_germany']]\n",
    "\n",
    "df_it21_u = df_it21_u[['city', 'job_title', 'job_title_2', 'seniority_level', 'experience', 'language_at_work', 'company_size', 'salary', 'year', 'country'\n",
    "                      , 'skills', 'skills_2', 'employment_status', 'years_of_experience_in_germany', 'your_seniority_level']]\n",
    "                       \n",
    "df_it22_u = df_it22_u[['city', 'job_title', 'job_title_2', 'seniority_level', 'experience', 'language_at_work', 'company_size', 'salary', 'year', 'country'\n",
    "                      , 'skills', 'skills_2', 'skills_3', 'employment_status', 'years_of_experience_in_germany', 'your_seniority_level']]                       \n",
    "\n",
    "df_it23_u = df_it23_u[['city', 'job_title', 'job_title_2', 'seniority_level', 'experience', 'language_at_work', 'company_size', 'salary', 'year', 'country'\n",
    "                      , 'skills', 'skills_2', 'skills_3', 'employment_status', 'years_of_experience_in_germany', 'your_seniority_level', 'company_industry']]                       "
   ]
  },
  {
   "cell_type": "code",
   "execution_count": null,
   "id": "427fc4d4-9b70-4e20-9fb8-22f314ec1924",
   "metadata": {},
   "outputs": [],
   "source": [
    "df_it_uni = pd.concat([df_it18_u, df_it19_u, df_it20_u, df_it21_u, df_it22_u, df_it23_u])  #concat creates a copy\n",
    "df_it_uni['survey'] = 'it'\n",
    "df_it_uni = df_it_uni.reset_index(drop=True)\n",
    "len_it_uni = len(df_it_uni)"
   ]
  },
  {
   "cell_type": "code",
   "execution_count": null,
   "id": "cf85f24e-cf2c-49dd-afb7-ec564bd6c18d",
   "metadata": {},
   "outputs": [],
   "source": [
    "df_it_uni.head(2)"
   ]
  },
  {
   "cell_type": "markdown",
   "id": "acc78b96-b062-4d49-99c5-1eeeb2494075",
   "metadata": {},
   "source": [
    "## Kaggle"
   ]
  },
  {
   "cell_type": "code",
   "execution_count": null,
   "id": "f5714d81-504b-4b1c-a7cf-e37a09c474db",
   "metadata": {},
   "outputs": [],
   "source": [
    "df_k_uni = pd.concat([df_k19_u, df_k20_u, df_k21_u, df_k22_u]) #concat creates a copy\n",
    "df_k_uni['survey'] = 'k'\n",
    "len_k_uni = len(df_k_uni)"
   ]
  },
  {
   "cell_type": "code",
   "execution_count": null,
   "id": "bd4de3ef-4f32-479a-8a85-70255b41a903",
   "metadata": {},
   "outputs": [],
   "source": [
    "df_k_uni.head(2)"
   ]
  },
  {
   "cell_type": "markdown",
   "id": "e4ffa22d-62ed-489c-92ec-9fbb68559348",
   "metadata": {},
   "source": [
    "## AI-Jobs.net"
   ]
  },
  {
   "cell_type": "code",
   "execution_count": null,
   "id": "0da74096-7552-4cac-a96f-da36fcdacd90",
   "metadata": {},
   "outputs": [],
   "source": [
    "df_ai_uni = df_ai_u.copy() #For naming convention's sake, I create a copy, since for the previous surveys I needed a concat method, which also created copies.\n",
    "df_ai_uni['survey'] = 'ai'\n",
    "len_ai_uni = len(df_ai_uni)"
   ]
  },
  {
   "cell_type": "markdown",
   "id": "e36989f0-c067-4e1b-a04d-e5609bf73923",
   "metadata": {},
   "source": [
    "# Transformations after union"
   ]
  },
  {
   "cell_type": "markdown",
   "id": "43642efd-715d-4b9c-a192-7b580647f274",
   "metadata": {},
   "source": [
    "## Dropping values based on project scope"
   ]
  },
  {
   "cell_type": "markdown",
   "id": "2611c844-898e-484a-95f5-47ff9d3ae89d",
   "metadata": {},
   "source": [
    "<div class=\"c\">\n",
    "Uknown salary values were dropped already. <br>\n",
    "But furthermore, we need to know the <b>Country, Seniority, Job title</b>. If any of those is missing, I'll drop the row from further investigation.\n",
    "</div> "
   ]
  },
  {
   "cell_type": "markdown",
   "id": "0e905be7-9316-483f-bb13-c3ba5c285e3f",
   "metadata": {},
   "source": [
    "### Employment status"
   ]
  },
  {
   "cell_type": "markdown",
   "id": "9f368e48-be94-404e-bce1-8e6589537e2a",
   "metadata": {},
   "source": [
    "#### AI-Jobs.net"
   ]
  },
  {
   "cell_type": "code",
   "execution_count": null,
   "id": "086a742e-0411-4574-afc7-710040c96911",
   "metadata": {},
   "outputs": [],
   "source": [
    "df_ai_uni['employment_status'].unique()"
   ]
  },
  {
   "cell_type": "code",
   "execution_count": null,
   "id": "bb830804-69e4-4329-9154-a1d4841c1d5a",
   "metadata": {},
   "outputs": [],
   "source": [
    "len_ai_employmentdrop1 = len(df_ai_uni)\n",
    "df_ai_uni = df_ai_uni[df_ai_uni['employment_status'] == 'ft']\n",
    "len_ai_employmentdrop2 = len(df_ai_uni)"
   ]
  },
  {
   "cell_type": "markdown",
   "id": "dea8420e-367f-43ab-92ae-7b979e015e85",
   "metadata": {},
   "source": [
    "There are no students in this dataset, therefore I set the dropped student counter to 0."
   ]
  },
  {
   "cell_type": "code",
   "execution_count": null,
   "id": "ddb6b63b-e39d-46a2-be6b-5acc20d0d87b",
   "metadata": {},
   "outputs": [],
   "source": [
    "len_ai_studentdrop1 = 0\n",
    "len_ai_studentdrop2 = 0"
   ]
  },
  {
   "cell_type": "markdown",
   "id": "da89ad9a-bf24-4ae1-9f68-959b40d27764",
   "metadata": {},
   "source": [
    "#### DE IT-Survey"
   ]
  },
  {
   "cell_type": "markdown",
   "id": "ed80c249-c764-48a1-907c-c2ec29b9785c",
   "metadata": {},
   "source": [
    "<div class=\"c\">\n",
    "Dropping Nulls\n",
    "</div> "
   ]
  },
  {
   "cell_type": "code",
   "execution_count": null,
   "id": "3c1a7374-7d49-42bc-8136-d445e5287423",
   "metadata": {},
   "outputs": [],
   "source": [
    "df_it_uni['employment_status'][df_it_uni['year'] == 2020].unique()"
   ]
  },
  {
   "cell_type": "code",
   "execution_count": null,
   "id": "18b5944f-67b8-4fea-8c8e-0d3f35ff2f70",
   "metadata": {},
   "outputs": [],
   "source": [
    "len_it_employmentdrop1 = len(df_it_uni)\n",
    "\n",
    "# Define the years to filter\n",
    "years_to_filter = [2020, 2021, 2022, 2023]\n",
    "\n",
    "# Separate the rows where the year is in the specified range\n",
    "df_filtered_years = df_it_uni[df_it_uni['year'].isin(years_to_filter)]\n",
    "\n",
    "# Drop rows with NaN employment_status in the filtered subset\n",
    "df_filtered_years = df_filtered_years.dropna(subset=['employment_status'])\n",
    "\n",
    "# Combine back the filtered rows with the rest of the DataFrame\n",
    "df_it_uni = pd.concat([df_filtered_years, df_it_uni[~df_it_uni['year'].isin(years_to_filter)]], ignore_index=True)\n",
    "\n",
    "len_it_employmentdrop2 = len(df_it_uni)"
   ]
  },
  {
   "cell_type": "code",
   "execution_count": null,
   "id": "96e6bf23-86d3-4280-88d9-0f39c5c474e4",
   "metadata": {},
   "outputs": [],
   "source": [
    "df_it_uni['employment_status'][df_it_uni['year'] == 2020].unique()"
   ]
  },
  {
   "cell_type": "markdown",
   "id": "e54ffba3-6f73-4bb3-a646-689c11d0935f",
   "metadata": {},
   "source": [
    "<div class=\"c\">\n",
    "Dropping freelance, parttime, student\n",
    "</div> "
   ]
  },
  {
   "cell_type": "code",
   "execution_count": null,
   "id": "9d176b4b-af9d-4158-a480-2f9650885740",
   "metadata": {},
   "outputs": [],
   "source": [
    "df_it_uni['employment_status'].unique()"
   ]
  },
  {
   "cell_type": "code",
   "execution_count": null,
   "id": "cf12e31a-7bc9-43b5-a038-d3e0981464ce",
   "metadata": {},
   "outputs": [],
   "source": [
    "df_it_uni = df_it_uni.reset_index(drop=True)"
   ]
  },
  {
   "cell_type": "code",
   "execution_count": null,
   "id": "f602ac27-d1bf-4b20-a7ed-1769b7b12ddb",
   "metadata": {},
   "outputs": [],
   "source": [
    "len_it_studentdrop1 = len(df_it_uni)\n",
    "df_it_uni = df_it_uni[df_it_uni['employment_status'].isin(['full-time employee', 'founder', 'full-time position, part-time position, & self-employed (freelancing, tutoring)', 'full/part-time employee']) | df_it_uni['employment_status'].isna()]\n",
    "len_it_studentdrop2 = len(df_it_uni)"
   ]
  },
  {
   "cell_type": "code",
   "execution_count": null,
   "id": "ebba2732-8963-4ab1-9e1a-1dfd22c85c77",
   "metadata": {},
   "outputs": [],
   "source": [
    "df_it_uni['employment_status'].unique()"
   ]
  },
  {
   "cell_type": "markdown",
   "id": "1083e151-3a42-4742-a3b2-7c76eae122b3",
   "metadata": {},
   "source": [
    "#### Kaggle"
   ]
  },
  {
   "cell_type": "code",
   "execution_count": null,
   "id": "3f00d5c9-d2ca-4ce3-90d5-0e0bf70f63ea",
   "metadata": {},
   "outputs": [],
   "source": [
    "df_k_uni['are_you_student'].unique()"
   ]
  },
  {
   "cell_type": "code",
   "execution_count": null,
   "id": "41d88ed9-8ed7-4939-96a3-5f3eca164007",
   "metadata": {},
   "outputs": [],
   "source": [
    "#df_k_uni[ (df_k_uni['are_you_student'].notna()) & (df_k_uni['are_you_student'] != 'no') ].head()"
   ]
  },
  {
   "cell_type": "code",
   "execution_count": null,
   "id": "303d98b8-cf35-4add-9349-4d3e08e2552f",
   "metadata": {},
   "outputs": [],
   "source": [
    "# This drops row number 70k --> 10k !\n",
    "# df_k_uni = df_k_uni[(df_k_uni['are_you_student'] == 'no')]\n",
    "\n",
    "# By manual inspection it seems that many people left it unanswered. It's better to just filter out the explicit 'yes'."
   ]
  },
  {
   "cell_type": "code",
   "execution_count": null,
   "id": "f7f52f7d-5c02-49d6-90db-a4ad88b2e9da",
   "metadata": {},
   "outputs": [],
   "source": [
    "df_k_uni[df_k_uni['are_you_student'] == 'yes'].head()"
   ]
  },
  {
   "cell_type": "markdown",
   "id": "df2c02d4-f64b-4971-a608-38310ecf5ec4",
   "metadata": {},
   "source": [
    "<div class=\"c\">\n",
    "The dedicated 'are_you_student' column is **not** filled properly, therefore I omit this counter.<br>\n",
    "Furthermore, there is no dedicated employment status category, therefore I also omit this counter.\n",
    "</div>"
   ]
  },
  {
   "cell_type": "code",
   "execution_count": null,
   "id": "5b1008be-a680-466e-900d-64c90b2c7102",
   "metadata": {},
   "outputs": [],
   "source": [
    "#len_k_studentdrop1 = \n",
    "#df_k_uni = df_k_uni[df_k_uni['are_you_student'].isin(['yes'])]\n",
    "#len_k_studentdrop2 = "
   ]
  },
  {
   "cell_type": "markdown",
   "id": "d88d0db6-ba64-48e5-8de9-17037ffb7e17",
   "metadata": {},
   "source": [
    "<div class=\"c\">\n",
    "Dropping from 'experience' column\n",
    "</div> "
   ]
  },
  {
   "cell_type": "code",
   "execution_count": null,
   "id": "24315363-2aa7-458c-b8a9-74fb9de8397d",
   "metadata": {},
   "outputs": [],
   "source": [
    "df_k_uni['experience'].unique()"
   ]
  },
  {
   "cell_type": "code",
   "execution_count": null,
   "id": "6aa74b5a-b99b-43c4-8291-8b473e98d9de",
   "metadata": {},
   "outputs": [],
   "source": [
    "len_k_noncoderdrop1 = len(df_k_uni)\n",
    "df_k_uni = df_k_uni[df_k_uni['experience'] != 'i have never written code']\n",
    "len_k_noncoderdrop2 = len(df_k_uni)"
   ]
  },
  {
   "cell_type": "markdown",
   "id": "62639726-92b9-4002-8a1a-496eb8c4e3ef",
   "metadata": {},
   "source": [
    "### Country"
   ]
  },
  {
   "cell_type": "markdown",
   "id": "93f299b9-64e7-40e5-9f7d-4d35876a53ab",
   "metadata": {},
   "source": [
    "#### AI-Jobs"
   ]
  },
  {
   "cell_type": "code",
   "execution_count": null,
   "id": "77dc62a6-02c0-4aa9-b606-ed53e22fed45",
   "metadata": {},
   "outputs": [],
   "source": [
    "df_ai_uni['country'].sort_values().unique()"
   ]
  },
  {
   "cell_type": "code",
   "execution_count": null,
   "id": "1a9fda21-3273-485c-932b-a1bfd92954f8",
   "metadata": {},
   "outputs": [],
   "source": [
    "len_ai_countrydrop1 = len(df_ai_uni)\n",
    "df_ai_uni.dropna(subset=['country'], inplace=True)\n",
    "len_ai_countrydrop2 = len(df_ai_uni)"
   ]
  },
  {
   "cell_type": "markdown",
   "id": "779f3fb4-2c29-4783-b13b-8878e86c7363",
   "metadata": {},
   "source": [
    "#### Kaggle"
   ]
  },
  {
   "cell_type": "code",
   "execution_count": null,
   "id": "2629aea7-76d4-4885-8e49-b8db9d8aa24f",
   "metadata": {},
   "outputs": [],
   "source": [
    "df_k_uni['country'].sort_values().unique()"
   ]
  },
  {
   "cell_type": "code",
   "execution_count": null,
   "id": "a20e831c-43e7-431e-99b6-c3a4780c3404",
   "metadata": {},
   "outputs": [],
   "source": [
    "len_k_countrydrop1 = len(df_k_uni)\n",
    "df_k_uni = df_k_uni[df_k_uni['country'] != 'i do not wish to disclose my location']\n",
    "df_k_uni = df_k_uni[df_k_uni['country'] != 'other']\n",
    "len_k_countrydrop2 = len(df_k_uni)"
   ]
  },
  {
   "cell_type": "markdown",
   "id": "d4a14da4-0ead-4a57-ad27-308baac0a210",
   "metadata": {},
   "source": [
    "#### Germany IT-Survey"
   ]
  },
  {
   "cell_type": "markdown",
   "id": "cf7ffa7e-58a3-4be7-b7d4-b2013094efad",
   "metadata": {},
   "source": [
    "This is a germany-specific survey, therefore I just set the counter to 0."
   ]
  },
  {
   "cell_type": "code",
   "execution_count": null,
   "id": "9c5ee1d2-2d6f-4f78-aa10-c75daf79fb3d",
   "metadata": {},
   "outputs": [],
   "source": [
    "len_it_countrydrop1 = 0\n",
    "len_it_countrydrop2 = 0"
   ]
  },
  {
   "cell_type": "markdown",
   "id": "3640bbe3-0280-4db1-97f6-d92b3119aa4a",
   "metadata": {},
   "source": [
    "### Seniority_level"
   ]
  },
  {
   "cell_type": "markdown",
   "id": "dd616cbb-d605-452a-9880-08e3e0032ca4",
   "metadata": {},
   "source": [
    "#### Ai-Jobs"
   ]
  },
  {
   "cell_type": "code",
   "execution_count": null,
   "id": "28b20221-4b15-4f99-beda-6853484cf533",
   "metadata": {},
   "outputs": [],
   "source": [
    "len_ai_senioritydrop1 = len(df_ai_uni)\n",
    "df_ai_uni.dropna(subset=['seniority_level'], inplace=True)\n",
    "len_ai_senioritydrop2 = len(df_ai_uni)"
   ]
  },
  {
   "cell_type": "markdown",
   "id": "728e1a50-75a5-4657-b6ca-6476bd6bfff0",
   "metadata": {},
   "source": [
    "#### Germany IT-Survey"
   ]
  },
  {
   "cell_type": "code",
   "execution_count": null,
   "id": "dd32ebe3-848e-47fc-a811-6a43521f6bbd",
   "metadata": {},
   "outputs": [],
   "source": [
    "len_it_senioritydrop1 = len(df_it_uni)\n",
    "df_it_uni.dropna(subset=['seniority_level'], inplace=True)\n",
    "len_it_senioritydrop2 = len(df_it_uni)"
   ]
  },
  {
   "cell_type": "markdown",
   "id": "2c8cdfe3-a1cb-4f8d-a966-dfb4e442336d",
   "metadata": {},
   "source": [
    "#### Kaggle"
   ]
  },
  {
   "cell_type": "markdown",
   "id": "6925c9eb-4f8b-47fe-aec4-c725fb79f9b7",
   "metadata": {},
   "source": [
    "I'll later transform 'experience' into seniority, therefore, for the counter I add this to the senioritydrop"
   ]
  },
  {
   "cell_type": "code",
   "execution_count": null,
   "id": "e38a960a-9132-4cf7-9af8-56b7e0ff9173",
   "metadata": {},
   "outputs": [],
   "source": [
    "len_k_senioritydrop1 = len(df_k_uni)\n",
    "df_k_uni.dropna(subset=['experience'], inplace=True)\n",
    "len_k_senioritydrop2 = len(df_k_uni)"
   ]
  },
  {
   "cell_type": "markdown",
   "id": "02015239-ee2f-41d0-90b4-0d0acbb4e870",
   "metadata": {},
   "source": [
    "### Job-title"
   ]
  },
  {
   "cell_type": "markdown",
   "id": "9494a1ca-07b8-455d-b112-a69364306b5b",
   "metadata": {},
   "source": [
    "#### AI-jobs.net"
   ]
  },
  {
   "cell_type": "code",
   "execution_count": null,
   "id": "d613be21-3705-4b32-8a71-ff574ae52137",
   "metadata": {},
   "outputs": [],
   "source": [
    "len_ai_jobtitledrop1 = len(df_ai_uni)\n",
    "df_ai_uni.dropna(subset=['job_title'], inplace=True)\n",
    "len_ai_jobtitledrop2 = len(df_ai_uni)"
   ]
  },
  {
   "cell_type": "markdown",
   "id": "230d71cf-4c17-4fa9-b6bc-5d01c98041c3",
   "metadata": {},
   "source": [
    "#### Germany IT-Survey"
   ]
  },
  {
   "cell_type": "code",
   "execution_count": null,
   "id": "c3f22a5b-35a2-47b2-88c5-e56205fa7cbe",
   "metadata": {},
   "outputs": [],
   "source": [
    "len_it_jobtitledrop1 = len(df_it_uni)\n",
    "df_it_uni.dropna(subset=['job_title'], inplace=True)\n",
    "len_it_jobtitledrop2 = len(df_it_uni)"
   ]
  },
  {
   "cell_type": "markdown",
   "id": "7bcff005-9008-49f0-8749-77685871aeb6",
   "metadata": {},
   "source": [
    "#### Kaggle"
   ]
  },
  {
   "cell_type": "code",
   "execution_count": null,
   "id": "2d917cfe-dcc1-4630-bcd6-b25154f1929a",
   "metadata": {},
   "outputs": [],
   "source": [
    "len_k_jobtitledrop1 = len(df_k_uni)\n",
    "df_k_uni.dropna(subset=['job_title'], inplace=True)\n",
    "len_k_jobtitledrop2 = len(df_k_uni)"
   ]
  },
  {
   "cell_type": "markdown",
   "id": "b86c9c03-217e-49a9-b64c-183e614d4aa9",
   "metadata": {},
   "source": [
    "## Uniformization"
   ]
  },
  {
   "cell_type": "markdown",
   "id": "a3c3622d-529c-4daa-9d8c-0058593d6884",
   "metadata": {
    "tags": []
   },
   "source": [
    "### Country Codes"
   ]
  },
  {
   "cell_type": "markdown",
   "id": "b4414fde-11d0-4d8e-899a-2b0324750989",
   "metadata": {},
   "source": [
    "#### Kaggle"
   ]
  },
  {
   "cell_type": "code",
   "execution_count": null,
   "id": "38162359-87fa-4800-bfbe-f4d3480549c6",
   "metadata": {},
   "outputs": [],
   "source": [
    "df_k_uni['country'].sort_values().unique()"
   ]
  },
  {
   "cell_type": "code",
   "execution_count": null,
   "id": "b0f0249d-fd5e-4a0e-a059-db0bbf1c4a45",
   "metadata": {},
   "outputs": [],
   "source": [
    "# Dictionary to map country names to 2-letter country codes\n",
    "country_to_code = {\n",
    "    'france': 'fr',\n",
    "    'india': 'in',\n",
    "    'indonesia': 'id',\n",
    "    'united states of america': 'us',\n",
    "    'australia': 'au',\n",
    "    'mexico': 'mx',\n",
    "    'germany': 'de',\n",
    "    'turkey': 'tr',\n",
    "    'netherlands': 'nl',\n",
    "    'nigeria': 'ng',\n",
    "    'canada': 'ca',\n",
    "    'greece': 'gr',\n",
    "    'belgium': 'be',\n",
    "    'singapore': 'sg',\n",
    "    'italy': 'it',\n",
    "    'ireland': 'ie',\n",
    "    'taiwan': 'tw',\n",
    "    'russia': 'ru',\n",
    "    'brazil': 'br',\n",
    "    'south africa': 'za',\n",
    "    'poland': 'pl',\n",
    "    'iran, islamic republic of...': 'ir',\n",
    "    'ukraine': 'ua',\n",
    "    'pakistan': 'pk',\n",
    "    'chile': 'cl',\n",
    "    'japan': 'jp',\n",
    "    'egypt': 'eg',\n",
    "    'south korea': 'kr',\n",
    "    'belarus': 'by',\n",
    "    'viet nam': 'vn',\n",
    "    'colombia': 'co',\n",
    "    'israel': 'il',\n",
    "    'china': 'cn',\n",
    "    'united kingdom of great britain and northern ireland': 'gb',\n",
    "    'sweden': 'se',\n",
    "    'bangladesh': 'bd',\n",
    "    'portugal': 'pt',\n",
    "    'tunisia': 'tn',\n",
    "    'argentina': 'ar',\n",
    "    'czech republic': 'cz',\n",
    "    'spain': 'es',\n",
    "    'hong kong (s.a.r.)': 'hk',\n",
    "    'cameroon': 'cm',\n",
    "    'saudi arabia': 'sa',\n",
    "    'austria': 'at',\n",
    "    'kenya': 'ke',\n",
    "    'morocco': 'ma',\n",
    "    'romania': 'ro',\n",
    "    'hungary': 'hu',\n",
    "    'republic of korea': 'kr',\n",
    "    'norway': 'no',\n",
    "    'ethiopia': 'et',\n",
    "    'philippines': 'ph',\n",
    "    'thailand': 'th',\n",
    "    'denmark': 'dk',\n",
    "    'switzerland': 'ch',\n",
    "    'peru': 'pe',\n",
    "    'sri lanka': 'lk',\n",
    "    'ghana': 'gh',\n",
    "    'malaysia': 'my',\n",
    "    'united arab emirates': 'ae',\n",
    "    'nepal': 'np',\n",
    "    'iraq': 'iq',\n",
    "    'new zealand': 'nz',\n",
    "    'algeria': 'dz',\n",
    "    'ecuador': 'ec',\n",
    "    'uganda': 'ug',\n",
    "    'kazakhstan': 'kz',\n",
    "    'zimbabwe': 'zw',\n",
    "    'latvia': 'lv'\n",
    "}"
   ]
  },
  {
   "cell_type": "code",
   "execution_count": null,
   "id": "6fae42ff-a276-4767-af15-71975f35b867",
   "metadata": {},
   "outputs": [],
   "source": [
    "# Transform country names to 2-letter country codes\n",
    "df_k_uni['country'] = df_k_uni['country'].map(country_to_code)\n",
    "df_k_uni['country'].unique()"
   ]
  },
  {
   "cell_type": "markdown",
   "id": "f56283e4-78ac-4a00-ae9b-02af8b09001a",
   "metadata": {},
   "source": [
    "### Seniority level"
   ]
  },
  {
   "cell_type": "markdown",
   "id": "860b3159-8ce1-4c46-82e1-368aca5f2baf",
   "metadata": {},
   "source": [
    "#### De-IT"
   ]
  },
  {
   "cell_type": "code",
   "execution_count": null,
   "id": "b5040367-bdd0-4be1-bfa3-65d164b3c485",
   "metadata": {},
   "outputs": [],
   "source": [
    "df_it_uni['seniority_level'].unique()"
   ]
  },
  {
   "cell_type": "code",
   "execution_count": null,
   "id": "e0d511eb-5a2e-4597-9947-12b1beec2e54",
   "metadata": {},
   "outputs": [],
   "source": [
    "# Define the mapping dictionary\n",
    "seniority_mapping_it = {\n",
    "    'head / principal': 'executive',\n",
    "    'lead / staff': 'executive',\n",
    "    'c-level executive manager': 'executive',\n",
    "    'head': 'executive',\n",
    "    'lead': 'executive',\n",
    "    'director': 'executive',\n",
    "    'manager': 'executive',\n",
    "    'vp': 'executive',\n",
    "    'c-level executive manager':'executive',\n",
    "    'cto': 'executive',  # direCTOr\n",
    "    'principal': 'executive',\n",
    "    'c-level': 'executive',\n",
    "    'middle': 'medior',\n",
    "    'entry level': 'junior',\n",
    "    'intern': 'other',\n",
    "    'working student': 'other',\n",
    "    'student': 'other',\n",
    "    '800': 'other',\n",
    "    'key': 'other',\n",
    "    'no idea, there are no ranges in the firm ': 'other',\n",
    "    'self employed': 'other',\n",
    "    'work center executive': 'other',\n",
    "    'no level ': 'other',\n",
    "    'no level': 'other',\n",
    "    'work center manager':'other'\n",
    "}"
   ]
  },
  {
   "cell_type": "code",
   "execution_count": null,
   "id": "c0142344-49f9-4209-8a6a-231173be6c1c",
   "metadata": {},
   "outputs": [],
   "source": [
    "# Replace the seniority levels using the mapping dictionary\n",
    "df_it_uni['seniority_level'] = df_it_uni['seniority_level'].replace(seniority_mapping_it)\n",
    "df_it_uni['seniority_level'].unique()"
   ]
  },
  {
   "cell_type": "markdown",
   "id": "06cdd72e-8941-4ece-aa10-3e6bf8a63634",
   "metadata": {},
   "source": [
    "#### AI-Jobs.net"
   ]
  },
  {
   "cell_type": "code",
   "execution_count": null,
   "id": "4940cd9d-5841-4f79-8a09-f152050e20eb",
   "metadata": {},
   "outputs": [],
   "source": [
    "df_ai_uni['seniority_level'].unique()"
   ]
  },
  {
   "cell_type": "code",
   "execution_count": null,
   "id": "81c0d925-9e12-45b3-8efc-6beeca406440",
   "metadata": {},
   "outputs": [],
   "source": [
    "# Define the mapping dictionary\n",
    "seniority_mapping_ai = {\n",
    "    'mi':'medior',\n",
    "    'en': 'junior',\n",
    "    'se': 'senior',\n",
    "    'ex': 'executive'\n",
    "}"
   ]
  },
  {
   "cell_type": "code",
   "execution_count": null,
   "id": "194c7762-41b7-4d9b-9800-3329d61003be",
   "metadata": {},
   "outputs": [],
   "source": [
    "# Replace the seniority levels using the mapping dictionary\n",
    "df_ai_uni['seniority_level'] = df_ai_uni['seniority_level'].replace(seniority_mapping_ai)\n",
    "#df_ai_uni['seniority_level'] = df_ai_uni['seniority_level'].cat.rename_categories(seniority_mapping_ai)\n",
    "df_ai_uni['seniority_level'].unique()"
   ]
  },
  {
   "cell_type": "markdown",
   "id": "1dfd812e-fbad-4d88-88c4-cf31b6fccfd7",
   "metadata": {},
   "source": [
    "#### Kaggle"
   ]
  },
  {
   "cell_type": "code",
   "execution_count": null,
   "id": "2f1c006b-7aac-4a39-88e8-fe86deb59c7c",
   "metadata": {},
   "outputs": [],
   "source": [
    "df_k_uni['experience'].unique()"
   ]
  },
  {
   "cell_type": "code",
   "execution_count": null,
   "id": "3e954ea1-ead7-4fb6-bced-69fc6541c848",
   "metadata": {},
   "outputs": [],
   "source": [
    "# Mapping of experience intervals to seniority levels\n",
    "experience_to_seniority = {\n",
    "    '< 1 years': 'junior',\n",
    "    '1-2 years': 'junior',\n",
    "    '1-3 years': 'junior',\n",
    "    '3-5 years': 'medior',\n",
    "    '5-10 years': 'senior',\n",
    "    '10-20 years': 'senior',\n",
    "    '20+ years': 'executive'\n",
    "}"
   ]
  },
  {
   "cell_type": "code",
   "execution_count": null,
   "id": "bbbcdcc6-7da5-4ec3-80ae-8ffde690f80d",
   "metadata": {},
   "outputs": [],
   "source": [
    "# Create the seniority_level column\n",
    "df_k_uni['seniority_level'] = df_k_uni['experience'].map(experience_to_seniority)\n",
    "df_k_uni.head()"
   ]
  },
  {
   "cell_type": "markdown",
   "id": "151002e3-c6e3-4c74-ba71-c67cfd608968",
   "metadata": {},
   "source": [
    "## Additonal cleaning"
   ]
  },
  {
   "cell_type": "markdown",
   "id": "f209e8f4-7986-459b-971a-03134b07a770",
   "metadata": {},
   "source": [
    "### Germany-IT"
   ]
  },
  {
   "cell_type": "code",
   "execution_count": null,
   "id": "6fd389c5-65c2-49be-a82e-dd888e842c15",
   "metadata": {},
   "outputs": [],
   "source": [
    "df_it_uni.head(1)"
   ]
  },
  {
   "cell_type": "markdown",
   "id": "387193a2-2ef3-4935-a678-4d95c76dc6b3",
   "metadata": {},
   "source": [
    "#### 'experience' and 'years_of_experience_in_germany'"
   ]
  },
  {
   "cell_type": "markdown",
   "id": "1bdd7772-db5a-47b6-9922-ff033ae22907",
   "metadata": {},
   "source": [
    "<div class=\"c\">\n",
    "'experience' and 'years_of_experience_in_germany' columns are filled with unclean answers\n",
    "</div> "
   ]
  },
  {
   "cell_type": "code",
   "execution_count": null,
   "id": "37e9cd4f-7e46-40cd-ad44-5a85d2085cb7",
   "metadata": {},
   "outputs": [],
   "source": [
    "df_it_uni['experience'].unique()"
   ]
  },
  {
   "cell_type": "code",
   "execution_count": null,
   "id": "3922dfa3-359d-4054-80df-98a1eb934e1b",
   "metadata": {},
   "outputs": [],
   "source": [
    "df_it_uni['years_of_experience_in_germany'].unique()"
   ]
  },
  {
   "cell_type": "code",
   "execution_count": null,
   "id": "d3959386-0bb7-4b98-b190-3987c6c96fd1",
   "metadata": {},
   "outputs": [],
   "source": [
    "df_report_additional = pd.DataFrame(index=[0])"
   ]
  },
  {
   "cell_type": "code",
   "execution_count": null,
   "id": "fbe8fef8-73ef-48e6-aad9-6068c1fdd716",
   "metadata": {},
   "outputs": [],
   "source": [
    "df_it_uni['experience'] = df_it_uni['experience'].apply(clean_salary_0616, df_report=df_report_additional, prefix='experience')\n",
    "df_report_additional"
   ]
  },
  {
   "cell_type": "code",
   "execution_count": null,
   "id": "15050730-886e-4829-acec-a1e753067877",
   "metadata": {},
   "outputs": [],
   "source": [
    "df_it_uni['experience'] = df_it_uni['experience'].apply(pd.to_numeric, errors='coerce')\n",
    "df_it_uni['experience'] = df_it_uni['experience'][(df_it_uni['experience'] <= 100)]"
   ]
  },
  {
   "cell_type": "code",
   "execution_count": null,
   "id": "3439d852-1c0a-40ba-8146-7f8d1e65c4bd",
   "metadata": {},
   "outputs": [],
   "source": [
    "df_it_uni['years_of_experience_in_germany'] = df_it_uni['years_of_experience_in_germany'].apply(clean_salary_0616, df_report=df_report_additional, prefix='experience_in_de')\n",
    "df_report_additional"
   ]
  },
  {
   "cell_type": "code",
   "execution_count": null,
   "id": "efa10496-84ae-439e-9dcd-904f7b0610ef",
   "metadata": {},
   "outputs": [],
   "source": [
    "df_it_uni['years_of_experience_in_germany'] = df_it_uni['years_of_experience_in_germany'].apply(pd.to_numeric, errors='coerce')\n",
    "df_it_uni['years_of_experience_in_germany'] = df_it_uni['years_of_experience_in_germany'][(df_it_uni['years_of_experience_in_germany'] <= 100)]"
   ]
  },
  {
   "cell_type": "code",
   "execution_count": null,
   "id": "3c6cf8c4-f893-43b4-a47f-79bab4fbc151",
   "metadata": {},
   "outputs": [],
   "source": [
    "df_it_uni['experience'].describe()"
   ]
  },
  {
   "cell_type": "markdown",
   "id": "f56c0abd-4be1-42a3-a016-1abbe8a0d6e1",
   "metadata": {},
   "source": [
    "#### City"
   ]
  },
  {
   "cell_type": "code",
   "execution_count": null,
   "id": "28c17eec-916b-4e93-916d-59318560672f",
   "metadata": {},
   "outputs": [],
   "source": [
    "df_it_uni.groupby('city')['salary'].count().sort_values(ascending=False).head(6)"
   ]
  },
  {
   "cell_type": "code",
   "execution_count": null,
   "id": "64ba1c39-93c2-4393-8c60-e5668d04aba2",
   "metadata": {},
   "outputs": [],
   "source": [
    "df_it_uni.loc[df_it_uni['city'] == 'münchen', 'city'] = 'munich'"
   ]
  },
  {
   "cell_type": "code",
   "execution_count": null,
   "id": "2015ca5c-47fe-47bb-8451-0e093f4eb9fe",
   "metadata": {},
   "outputs": [],
   "source": [
    "df_it_uni.groupby('city')['salary'].count().sort_values(ascending=False).head(6)"
   ]
  },
  {
   "cell_type": "code",
   "execution_count": null,
   "id": "2d0d1f6e-4ea7-495b-abed-c6ad257fec95",
   "metadata": {},
   "outputs": [],
   "source": [
    "# Define the major cities to keep\n",
    "major_cities = ['berlin', 'munich', 'frankfurt', 'hamburg', 'stuttgart']\n",
    "\n",
    "# Create the 'city_category' column\n",
    "df_it_uni['city_category'] = df_it_uni['city'].apply(lambda x: x if x in major_cities else 'other')"
   ]
  },
  {
   "cell_type": "markdown",
   "id": "a68b8932-4acd-41ee-bcae-439522b67435",
   "metadata": {},
   "source": [
    "#### Language at work"
   ]
  },
  {
   "cell_type": "code",
   "execution_count": null,
   "id": "bfab0e44-1e28-4b15-a9b0-647f87495309",
   "metadata": {},
   "outputs": [],
   "source": [
    "df_it_uni['language_at_work'].unique()"
   ]
  },
  {
   "cell_type": "code",
   "execution_count": null,
   "id": "57c79da8-586b-4690-9459-508abb52914f",
   "metadata": {},
   "outputs": [],
   "source": [
    "def categorize_language(language_entry, categories):\n",
    "    language_entry = str(language_entry).lower()  # Convert language_entry to lower case string\n",
    "    for category, keywords in categories.items():\n",
    "        for keyword in keywords:\n",
    "            pattern = re.escape(keyword.lower())  # Create regex pattern for keyword\n",
    "            if re.search(pattern, language_entry):\n",
    "                return category\n",
    "    return 'Only other languages'  # For entries that don't match any category"
   ]
  },
  {
   "cell_type": "code",
   "execution_count": null,
   "id": "ad239af4-6891-4921-87cf-9c308f95a621",
   "metadata": {},
   "outputs": [],
   "source": [
    "language_categories = {\n",
    "    'German-speaking': ['german', 'deutsch'],\n",
    "    'English-speaking (but not german)': ['english']\n",
    "}\n",
    "\n",
    "df_it_uni['language_category'] = df_it_uni['language_at_work'].apply(lambda x: categorize_language(x, language_categories))"
   ]
  },
  {
   "cell_type": "code",
   "execution_count": null,
   "id": "ed9eee32-506f-4885-ab64-7bf06bbc7290",
   "metadata": {},
   "outputs": [],
   "source": [
    "df_it_uni['language_category'].unique()"
   ]
  },
  {
   "cell_type": "code",
   "execution_count": null,
   "id": "c585e978-b902-4ba9-878b-e8328bb8fde3",
   "metadata": {},
   "outputs": [],
   "source": [
    "df_it_uni.groupby('language_category')['salary'].count().sort_values(ascending=False).head(6)"
   ]
  },
  {
   "cell_type": "markdown",
   "id": "f58da061-f1b4-4724-ad3b-7823f58965df",
   "metadata": {},
   "source": [
    "#### company_size"
   ]
  },
  {
   "cell_type": "code",
   "execution_count": null,
   "id": "7f87d8d8-c226-4e02-8a04-e8f2fee6e821",
   "metadata": {},
   "outputs": [],
   "source": [
    "df_it_uni.groupby('company_size')['salary'].count().sort_values(ascending=False)"
   ]
  },
  {
   "cell_type": "code",
   "execution_count": null,
   "id": "1d1358bf-103b-480d-b65c-3c0d1bccae4f",
   "metadata": {},
   "outputs": [],
   "source": [
    "df_it_uni['company_size'] = df_it_uni['company_size'].replace({'10-50': '11-50'})\n",
    "df_it_uni['company_size'] = df_it_uni['company_size'].replace({'50-100': '51-100'})\n",
    "df_it_uni['company_size'] = df_it_uni['company_size'].replace({'100-1000': '101-1000'})"
   ]
  },
  {
   "cell_type": "code",
   "execution_count": null,
   "id": "84cf6193-a8a3-4e1c-85e5-026a6c7a9ba9",
   "metadata": {},
   "outputs": [],
   "source": [
    "df_it_uni.groupby('company_size')['salary'].count().sort_values(ascending=False)"
   ]
  },
  {
   "cell_type": "code",
   "execution_count": null,
   "id": "0765b95f-de25-40a4-a023-a5cca03f6c14",
   "metadata": {},
   "outputs": [],
   "source": [
    "def categorize_company_size(size):\n",
    "    \"\"\"\n",
    "    Categorize company size into small (s), medium (m), or large (l).\n",
    "    Handles NaN values and unknown categories.\n",
    "    \n",
    "    Parameters:\n",
    "    size: Company size value (string or NaN)\n",
    "    \n",
    "    Returns:\n",
    "    string: 's', 'm', 'l', or 'unknown'\n",
    "    \"\"\"\n",
    "    # Handle NaN values first using pandas.isna()\n",
    "    if pd.isna(size):\n",
    "        return 'unknown'\n",
    "        \n",
    "    # Convert to string to handle any numeric inputs\n",
    "    size = str(size).lower().strip()\n",
    "    \n",
    "    # Direct mapping for known categories\n",
    "    if size in ['s', 'm', 'l']:\n",
    "        return size\n",
    "        \n",
    "    # Large companies\n",
    "    elif size in ['1000+', '1000-9,999 employees', '10,000 or more employees', \n",
    "                 '> 10,000 employees', '>1000', '1000 or more employees']:\n",
    "        return 'l'\n",
    "        \n",
    "    # Medium companies\n",
    "    elif size in ['101-1000', '250-999 employees', '50-249 employees', '51-100',\n",
    "                 '100-999', '51-1000']:\n",
    "        return 'm'\n",
    "        \n",
    "    # Small companies\n",
    "    elif size in ['11-50', 'up to 10', '0-49 employees', '<50', '1-50',\n",
    "                 '0-50', 'under 50 employees']:\n",
    "        return 's'\n",
    "        \n",
    "    # Any other value is considered unknown\n",
    "    return 'unknown'"
   ]
  },
  {
   "cell_type": "code",
   "execution_count": null,
   "id": "1778928b-589a-4765-bc97-c146af260ee1",
   "metadata": {},
   "outputs": [],
   "source": [
    "# Apply the function to both DataFrames\n",
    "df_it_uni['company_size_category'] = df_it_uni['company_size'].apply(categorize_company_size)\n",
    "df_it_uni['company_size_category'].unique()"
   ]
  },
  {
   "cell_type": "markdown",
   "id": "b8ac3664-2b74-4d26-adde-fa5a5a1539aa",
   "metadata": {},
   "source": [
    "#### 'company_industry'"
   ]
  },
  {
   "cell_type": "code",
   "execution_count": null,
   "id": "cdece6da-2dad-4d02-a10d-db5b23b07af1",
   "metadata": {
    "scrolled": true
   },
   "outputs": [],
   "source": [
    "df_it_uni.groupby('company_industry')['salary'].count().sort_values(ascending=False)"
   ]
  },
  {
   "cell_type": "code",
   "execution_count": null,
   "id": "29c7598b-2a76-497f-ae63-75fc8215b282",
   "metadata": {},
   "outputs": [],
   "source": [
    "# Define the function to categorize industries\n",
    "def categorize_industry(industry):\n",
    "    if industry in ['information services, it, software development, or other technology']:\n",
    "        return 'information technology'\n",
    "    elif industry in ['financial services', 'insurance']:\n",
    "        return 'financial services'\n",
    "    elif industry == 'retail and consumer services':\n",
    "        return 'retail and consumer services'\n",
    "    elif industry == 'manufacturing, transportation, or supply chain':\n",
    "        return 'manufacturing, transportation, or supply chain'\n",
    "    elif industry == 'healthcare':\n",
    "        return 'healthcare'\n",
    "    else:\n",
    "        return 'other'\n",
    "\n",
    "# Create the 'industry_category' column\n",
    "df_it_uni['industry_category'] = df_it_uni['company_industry'].apply(categorize_industry)"
   ]
  },
  {
   "cell_type": "markdown",
   "id": "387e649c-e7ab-4978-bbc4-0ee70f7907b4",
   "metadata": {},
   "source": [
    "#### company_type"
   ]
  },
  {
   "cell_type": "code",
   "execution_count": null,
   "id": "a888370c-c621-4d5f-be06-629c7e7c969f",
   "metadata": {},
   "outputs": [],
   "source": [
    "len(df_it_uni['company_type'].unique())"
   ]
  },
  {
   "cell_type": "markdown",
   "id": "5fe3038c-38c8-4e5d-a7a6-1b8f184de08b",
   "metadata": {},
   "source": [
    "<div class=\"c\">\n",
    "This is a free-string cell. I will not try to make sense of it; <br>\n",
    "Feel free to look inside... the required effort for this is out of scope now.\n",
    "</div> "
   ]
  },
  {
   "cell_type": "markdown",
   "id": "b0fe8012-eddc-4972-8454-d369fd0cc406",
   "metadata": {},
   "source": [
    "### Kaggle"
   ]
  },
  {
   "cell_type": "code",
   "execution_count": null,
   "id": "0c523a95-6be6-4c8b-94ec-22c1ed78dc13",
   "metadata": {},
   "outputs": [],
   "source": [
    "df_k_uni.head(1)"
   ]
  },
  {
   "cell_type": "markdown",
   "id": "b03734df-8dbd-4e05-9e5e-06f6a54ee440",
   "metadata": {},
   "source": [
    "#### Education level"
   ]
  },
  {
   "cell_type": "code",
   "execution_count": null,
   "id": "73ec21ac-e277-4db8-9ed9-81d1dc823549",
   "metadata": {},
   "outputs": [],
   "source": [
    "df_k_uni['education_level'].unique()"
   ]
  },
  {
   "cell_type": "code",
   "execution_count": null,
   "id": "fdd52866-f677-46ba-9649-125246f9ff38",
   "metadata": {},
   "outputs": [],
   "source": [
    "df_k_uni['education_level'] = df_k_uni['education_level'].str.replace('no formal education past high school','no degree')\n",
    "df_k_uni['education_level'] = df_k_uni['education_level'].str.replace('some college/university study without earning a bachelor’s degree','no degree')\n",
    "df_k_uni = df_k_uni[(df_k_uni['education_level'] == 'bachelor’s degree') | (df_k_uni['education_level'] == 'master’s degree') | (df_k_uni['education_level'] == 'doctoral degree') | (df_k_uni['education_level'] == 'no degree')]"
   ]
  },
  {
   "cell_type": "markdown",
   "id": "af4728db-11eb-4996-aeeb-fc866d3f8eb6",
   "metadata": {},
   "source": [
    "#### company_size"
   ]
  },
  {
   "cell_type": "code",
   "execution_count": null,
   "id": "a5050d84-94a1-4451-a1de-4ed53330f41a",
   "metadata": {},
   "outputs": [],
   "source": [
    "df_k_uni.groupby('company_size')['salary'].count().sort_values(ascending=False)"
   ]
  },
  {
   "cell_type": "code",
   "execution_count": null,
   "id": "0c8e81ca-e828-4469-ab8e-6693e186309a",
   "metadata": {},
   "outputs": [],
   "source": [
    "df_k_uni['company_size_category'] = df_k_uni['company_size'].apply(categorize_company_size)\n",
    "df_k_uni['company_size_category'].unique()"
   ]
  },
  {
   "cell_type": "markdown",
   "id": "277b86f9-b816-4035-83dd-37366354d940",
   "metadata": {},
   "source": [
    "#### experience"
   ]
  },
  {
   "cell_type": "code",
   "execution_count": null,
   "id": "5a650ec4-a0f0-48d1-bda6-dd5d1de63390",
   "metadata": {},
   "outputs": [],
   "source": [
    "df_k_uni.groupby('experience')['salary'].count().sort_values(ascending=False)"
   ]
  },
  {
   "cell_type": "code",
   "execution_count": null,
   "id": "7fdeffa8-ceb9-43c9-99bf-b18f09dd2972",
   "metadata": {},
   "outputs": [],
   "source": [
    "df_k_uni['experience'] = df_k_uni['experience'].replace({'1-2 years': '1-3 years'})"
   ]
  },
  {
   "cell_type": "markdown",
   "id": "743ba0be-bf81-42ee-83fb-b67bab97b750",
   "metadata": {},
   "source": [
    "#### industry"
   ]
  },
  {
   "cell_type": "code",
   "execution_count": null,
   "id": "9e3ea04d-b2ac-4f6e-8fcd-5d69d1a52afc",
   "metadata": {},
   "outputs": [],
   "source": [
    "df_k_uni.groupby('industry')['salary'].count().sort_values(ascending=False)"
   ]
  },
  {
   "cell_type": "markdown",
   "id": "c7304486-15e7-4c2a-bd28-cb1574742e96",
   "metadata": {},
   "source": [
    "## AI-jobs"
   ]
  },
  {
   "cell_type": "markdown",
   "id": "55eaa476-314f-4089-a9bc-27a32b939154",
   "metadata": {},
   "source": [
    "### Company size"
   ]
  },
  {
   "cell_type": "code",
   "execution_count": null,
   "id": "88fb24ab-b74f-43a4-b046-f7d0c217c453",
   "metadata": {},
   "outputs": [],
   "source": [
    "# Remove rows where all columns are NaN\n",
    "df_ai_uni = df_ai_uni.dropna(how='all')"
   ]
  },
  {
   "cell_type": "code",
   "execution_count": null,
   "id": "0e987da3-c19e-440d-bd00-1dd37fb52d76",
   "metadata": {},
   "outputs": [],
   "source": [
    "df_ai_uni['company_size_category'] = df_ai_uni['company_size'].apply(categorize_company_size)\n",
    "df_ai_uni['company_size_category'].unique()"
   ]
  },
  {
   "cell_type": "code",
   "execution_count": null,
   "id": "f6aa9990-6852-452d-8903-1b89343de031",
   "metadata": {},
   "outputs": [],
   "source": [
    "df_ai_uni[df_ai_uni['company_size'].isna()].head()"
   ]
  },
  {
   "cell_type": "markdown",
   "id": "00ebe008-ba6e-487b-8fd5-86400bf339a6",
   "metadata": {
    "tags": []
   },
   "source": [
    "# Deriving new variables"
   ]
  },
  {
   "cell_type": "markdown",
   "id": "04c60c49-7793-46bc-a9fb-2f53d3db16be",
   "metadata": {},
   "source": [
    "<div class=\"c\">\n",
    "I create new categories to simplify the analysis later.<br>\n",
    "For example, the country-standardization by GDP-per-capita might flatten out the huge variance when it comes to country dependencies. <br>\n",
    "This is all in hope that I might be able to drop the country parameter.<br>\n",
    "The idea for this chapter, chronologically was born deep in the analysis/ prediction phase. But was inserted here for the sake of project flow.\n",
    "\n",
    "</div> "
   ]
  },
  {
   "cell_type": "markdown",
   "id": "cf9ee432-e608-4f89-a177-5d0616d2e9c2",
   "metadata": {
    "tags": []
   },
   "source": [
    "## Country-standardized salary"
   ]
  },
  {
   "cell_type": "code",
   "execution_count": null,
   "id": "96b80d95-4241-4626-96ed-2589a94bf843",
   "metadata": {},
   "outputs": [],
   "source": [
    "# GDP per capita data (in USD)\n",
    "gdp_per_capita = {\n",
    "    'fr': 40886, 'in': 2016, 'au': 65099, 'us': 76329, 'nl': 57025, \n",
    "    'de': 48717, 'ie': 87947, 'ru': 15270, 'gr': 19829, 'ua': 4533, \n",
    "    'pk': 1491, 'jp': 40066, 'br': 8697, 'kr': 31961, \n",
    "    'by': 7888, 'ng': 2229, 'gb': 46125, 'se': 53755, 'mx': 10657, \n",
    "    'ca': 54917, 'pt': 23758, 'pl': 17939, 'id': 4289, 'it': 34776, \n",
    "    'cz': 23906, 'es': 31688, 'cl': 14938, 'hk': 46544, 'za': 6001, \n",
    "    'ar': 10461, 'tr': 10674, 'il': 44162, 'tw': 34166, 'eg': 3801, \n",
    "    'ma': 3585, 'hu': 18390, 'co': 6214, 'no': 89111, 'th': 7775, \n",
    "    'ch': 93259, 'vn': 3704, 'sg': 59806, 'bd': 1964, 'ir': 2273, \n",
    "    'pe': 7002, 'ke': 2066, 'ro': 15786, 'cn': 12710, 'be': 50126, \n",
    "    'at': 52084, 'dz': 4094, 'nz': 45380, 'tn': 3840, 'ph': 3593, \n",
    "    'my': 11109, 'dk': 61612, 'sa': 20619, 'ae': 43103, 'np': 1192, \n",
    "    'lk': 3841, 'gh': 2396, 'et': 936, 'iq': 4922, 'ec': 6245, \n",
    "    'kz': 10153, 'ug': 817, 'cm': 1500, 'zw': 1098, \n",
    "    'lv': 21779, 'ge': 4804, 'lt': 25064, 'fi': 53012, 'hr': 15647, 'om': 25056, 'ba': 7568, 'ee': 28247, \n",
    "    'mt': 34127, 'lb': 4136, 'si': 28439, 'mu': 10256, 'am': 7018, 'qa': 87661, 'ad': 41992, 'md': 5714,\n",
    "    'uz': 2255, 'cf': 427, 'kw': 41079, 'cy': 32048, 'as': 19673, 'cr': 13365, 'pr': 35208, 'bo': 3600,\n",
    "    'do': 8793, 'hn': 2736, 'bg': 12623, 'je': 55820, 'rs': 9260,  'lu': 125006\n",
    "}"
   ]
  },
  {
   "cell_type": "code",
   "execution_count": null,
   "id": "27b58e13-fb85-4de2-abd6-f6fd6610cc0d",
   "metadata": {},
   "outputs": [],
   "source": [
    "country_salary_stats"
   ]
  },
  {
   "cell_type": "code",
   "execution_count": null,
   "id": "cc247088-8645-427a-9df1-b0525d18967d",
   "metadata": {},
   "outputs": [],
   "source": [
    "#df_ai_uni.drop(['country_code', 'median_income_2020_usd', 'mean_income_2020_usd', 'gdp_ppp_usd', 'glassdoor_software_engineer_usd','salary_normmed','salary_normmean','salary_normgdp','salary_normse'], axis=1, inplace=True)"
   ]
  },
  {
   "cell_type": "code",
   "execution_count": null,
   "id": "4c8e3a9d-73f2-40b6-b592-1935b22c53f5",
   "metadata": {},
   "outputs": [],
   "source": [
    "#df_k_uni.drop(['country_code', 'median_income_2020_usd', 'mean_income_2020_usd', 'gdp_ppp_usd', 'glassdoor_software_engineer_usd','salary_normmed','salary_normmean','salary_normgdp','salary_normse'], axis=1, inplace=True)"
   ]
  },
  {
   "cell_type": "code",
   "execution_count": null,
   "id": "0af9ff34-a844-4abc-962f-f2405f1b71cc",
   "metadata": {},
   "outputs": [],
   "source": [
    "#df_it_uni.drop(['country_code', 'median_income_2020_usd', 'mean_income_2020_usd', 'gdp_ppp_usd', 'glassdoor_software_engineer_usd','salary_normmed','salary_normmean','salary_normgdp','salary_normse'], axis=1, inplace=True)"
   ]
  },
  {
   "cell_type": "code",
   "execution_count": null,
   "id": "7cc1065c-0c42-4978-98a9-0de0e22f051a",
   "metadata": {},
   "outputs": [],
   "source": [
    "df_name = df_ai_uni\n",
    "\n",
    "# Merge df with country_salary_stats to get the median income for each country\n",
    "df_name = df_name.merge(\n",
    "    country_salary_stats[['country_code', 'median_income_2020_usd', 'mean_income_2020_usd', 'gdp_ppp_usd', 'glassdoor_software_engineer_usd']],\n",
    "    left_on='country',\n",
    "    right_on='country_code',\n",
    "    how='left'\n",
    ")\n",
    "\n",
    "# Calculate the normalized salaries\n",
    "df_name['salary_normmed'] = df_name['salary'] / df_name['median_income_2020_usd']\n",
    "df_name['salary_normmean'] = df_name['salary'] / df_name['mean_income_2020_usd']\n",
    "df_name['salary_normgdp'] = df_name['salary'] / df_name['gdp_ppp_usd']\n",
    "df_name['salary_normse'] = df_name['salary'] / df_name['glassdoor_software_engineer_usd']\n",
    "\n",
    "df_ai_uni = df_name"
   ]
  },
  {
   "cell_type": "code",
   "execution_count": null,
   "id": "b651302e-0e9c-4d12-9ee5-834f2c074823",
   "metadata": {},
   "outputs": [],
   "source": [
    "df_name = df_k_uni\n",
    "\n",
    "# Merge df with country_salary_stats to get the median income for each country\n",
    "df_name = df_name.merge(\n",
    "    country_salary_stats[['country_code', 'median_income_2020_usd', 'mean_income_2020_usd', 'gdp_ppp_usd', 'glassdoor_software_engineer_usd']],\n",
    "    left_on='country',\n",
    "    right_on='country_code',\n",
    "    how='left'\n",
    ")\n",
    "\n",
    "# Calculate the normalized salaries\n",
    "df_name['salary_normmed'] = df_name['salary'] / df_name['median_income_2020_usd']\n",
    "df_name['salary_normmean'] = df_name['salary'] / df_name['mean_income_2020_usd']\n",
    "df_name['salary_normgdp'] = df_name['salary'] / df_name['gdp_ppp_usd']\n",
    "df_name['salary_normse'] = df_name['salary'] / df_name['glassdoor_software_engineer_usd']\n",
    "\n",
    "df_k_uni = df_name"
   ]
  },
  {
   "cell_type": "code",
   "execution_count": null,
   "id": "f8803406-bcf8-486d-a6ab-7caa88a37166",
   "metadata": {},
   "outputs": [],
   "source": [
    "df_name = df_it_uni\n",
    "\n",
    "# Merge df with country_salary_stats to get the median income for each country\n",
    "df_name = df_name.merge(\n",
    "    country_salary_stats[['country_code', 'median_income_2020_usd', 'mean_income_2020_usd', 'gdp_ppp_usd', 'glassdoor_software_engineer_usd']],\n",
    "    left_on='country',\n",
    "    right_on='country_code',\n",
    "    how='left'\n",
    ")\n",
    "\n",
    "# Calculate the normalized salaries\n",
    "df_name['salary_normmed'] = df_name['salary'] / df_name['median_income_2020_usd']\n",
    "df_name['salary_normmean'] = df_name['salary'] / df_name['mean_income_2020_usd']\n",
    "df_name['salary_normgdp'] = df_name['salary'] / df_name['gdp_ppp_usd']\n",
    "df_name['salary_normse'] = df_name['salary'] / df_name['glassdoor_software_engineer_usd']\n",
    "\n",
    "df_it_uni = df_name"
   ]
  },
  {
   "cell_type": "markdown",
   "id": "8a30ae1e-339c-4728-acc0-c59d762f5786",
   "metadata": {},
   "source": [
    "### Approach 2"
   ]
  },
  {
   "cell_type": "code",
   "execution_count": null,
   "id": "d1e46d89-b346-4437-9f4f-84feb9514871",
   "metadata": {},
   "outputs": [],
   "source": [
    "df_ai_uni['country'][~(df_ai_uni['country'].isin(gdp_per_capita))].unique()"
   ]
  },
  {
   "cell_type": "code",
   "execution_count": null,
   "id": "2caad717-db80-43cc-b94f-2f015f98c53c",
   "metadata": {},
   "outputs": [],
   "source": [
    "# Normalize the salary - Kaggle\n",
    "df_k_uni['salary_norm'] = df_k_uni.apply(lambda x: x['salary'] / gdp_per_capita[x['country']], axis=1)\n",
    "df_k_uni.head(2)"
   ]
  },
  {
   "cell_type": "code",
   "execution_count": null,
   "id": "4bf75378-bc47-4507-af43-6b27a5980899",
   "metadata": {
    "tags": []
   },
   "outputs": [],
   "source": [
    "# Normalize the salary - AI-Jobs.net\n",
    "df_ai_uni['salary_norm'] = df_ai_uni.apply(lambda x: x['salary'] / gdp_per_capita[x['country']], axis=1)\n",
    "df_ai_uni.head()"
   ]
  },
  {
   "cell_type": "code",
   "execution_count": null,
   "id": "7bc0ff77-bf3b-4345-a3b5-b0b5ce3c6e46",
   "metadata": {},
   "outputs": [],
   "source": [
    "# Normalize the salary - Germany IT-Survey\n",
    "df_it_uni['salary_norm'] = df_it_uni.apply(lambda x: x['salary'] / gdp_per_capita[x['country']], axis=1)\n",
    "df_it_uni.head()"
   ]
  },
  {
   "cell_type": "markdown",
   "id": "15bb4be1-adcc-4738-86f1-2c7e1018cb25",
   "metadata": {},
   "source": [
    "## Year-Standardized salary"
   ]
  },
  {
   "cell_type": "code",
   "execution_count": null,
   "id": "5ee495e5-fb15-4709-8f96-3207500467dd",
   "metadata": {},
   "outputs": [],
   "source": [
    "inflation_rates = {\n",
    "    2018: 1.019,  # USD inflation from 2018 to 2019 (22.66% increase from 2018 to 2024)\n",
    "    2019: 1.018,  # USD inflation from 2019 to 2020 (20.37% increase from 2019 to 2024)\n",
    "    2020: 1.012,  # USD inflation from 2020 to 2021 (18.25% increase from 2020 to 2024)\n",
    "    2021: 1.040,  # USD inflation from 2021 to 2022 (16.84% increase from 2021 to 2024)\n",
    "    2022: 1.070,  # USD inflation from 2022 to 2023 (12.35% increase from 2022 to 2024)\n",
    "    2023: 1.050,  # USD inflation from 2023 to 2024 (5.00% increase from 2023 to 2024)\n",
    "    2024: 1.000   # base year, no inflation adjustment for 2024, \n",
    "}\n",
    "\n",
    "# Calculate cumulative inflation adjustment factor\n",
    "def calculate_cumulative_inflation(start_year, end_year=2024):\n",
    "    if start_year >= end_year:\n",
    "        return 1.0\n",
    "    inflation_factors = [inflation_rates[year] for year in range(start_year, end_year)]\n",
    "    cumulative_inflation = 1.0\n",
    "    for factor in inflation_factors:\n",
    "        cumulative_inflation *= factor\n",
    "    return cumulative_inflation\n",
    "\n",
    "# Apply inflation adjustment to the salary column\n",
    "def salary_to_2024(row):\n",
    "    return row['salary'] * calculate_cumulative_inflation(row['year'])\n",
    "\n",
    "# Apply inflation adjustment to the salary column\n",
    "def salarynorm_to_2024(row):\n",
    "    return row['salary_norm'] * calculate_cumulative_inflation(row['year'])"
   ]
  },
  {
   "cell_type": "code",
   "execution_count": null,
   "id": "8acb3df5-223a-46f2-9ee9-cebba7305057",
   "metadata": {},
   "outputs": [],
   "source": [
    "# Apply inflation adjustment directly to the 'salary' and 'salary_norm' columns\n",
    "df_it_uni['salary_2024'] = df_it_uni.apply(lambda row: row['salary'] * calculate_cumulative_inflation(row['year']), axis=1)\n",
    "df_it_uni['salary_norm_2024'] = df_it_uni.apply(lambda row: row['salary_norm'] * calculate_cumulative_inflation(row['year']), axis=1)\n",
    "df_it_uni['salary_normmed_2024'] = df_it_uni.apply(lambda row: row['salary_normmed'] * calculate_cumulative_inflation(row['year']), axis=1)\n",
    "df_it_uni['salary_normmean_2024'] = df_it_uni.apply(lambda row: row['salary_normmean'] * calculate_cumulative_inflation(row['year']), axis=1)\n",
    "df_it_uni['salary_normgdp_2024'] = df_it_uni.apply(lambda row: row['salary_normgdp'] * calculate_cumulative_inflation(row['year']), axis=1)\n",
    "df_it_uni['salary_normse_2024'] = df_it_uni.apply(lambda row: row['salary_normse'] * calculate_cumulative_inflation(row['year']), axis=1)\n",
    "\n",
    "#df_it_uni['salary_2024'] = df_it_uni.apply(salary_to_2024, axis=1)\n",
    "#df_it_uni['salary_norm_2024'] = df_it_uni.apply(salarynorm_to_2024, axis=1)\n",
    "#df_it_uni['salary_normmed_2024'] = df_it_uni.apply(salarynorm_to_2024, axis=1)\n",
    "#df_it_uni['salary_normmean_2024'] = df_it_uni.apply(salarynorm_to_2024, axis=1)\n",
    "#df_it_uni['salary_normgdp_2024'] = df_it_uni.apply(salarynorm_to_2024, axis=1)\n",
    "#df_it_uni['salary_normse_2024'] = df_it_uni.apply(salarynorm_to_2024, axis=1)\n",
    "\n",
    "# Display the updated dataframe\n",
    "df_it_uni[['year', 'salary', 'salary_2024', 'salary_norm', 'salary_norm_2024', 'salary_normmed_2024', 'salary_normmean_2024', 'salary_normgdp_2024', 'salary_normse_2024']].head()"
   ]
  },
  {
   "cell_type": "code",
   "execution_count": null,
   "id": "ef5daf0d-35d4-4b82-8eb3-070604ef5dec",
   "metadata": {},
   "outputs": [],
   "source": [
    "# Apply inflation adjustment directly to the 'salary' and 'salary_norm' columns\n",
    "df_k_uni['salary_2024'] = df_k_uni.apply(lambda row: row['salary'] * calculate_cumulative_inflation(row['year']), axis=1)\n",
    "df_k_uni['salary_norm_2024'] = df_k_uni.apply(lambda row: row['salary_norm'] * calculate_cumulative_inflation(row['year']), axis=1)\n",
    "df_k_uni['salary_normmed_2024'] = df_k_uni.apply(lambda row: row['salary_normmed'] * calculate_cumulative_inflation(row['year']), axis=1)\n",
    "df_k_uni['salary_normmean_2024'] = df_k_uni.apply(lambda row: row['salary_normmean'] * calculate_cumulative_inflation(row['year']), axis=1)\n",
    "df_k_uni['salary_normgdp_2024'] = df_k_uni.apply(lambda row: row['salary_normgdp'] * calculate_cumulative_inflation(row['year']), axis=1)\n",
    "df_k_uni['salary_normse_2024'] = df_k_uni.apply(lambda row: row['salary_normse'] * calculate_cumulative_inflation(row['year']), axis=1)\n",
    "\n",
    "# Display the updated dataframe\n",
    "df_k_uni[['year', 'salary', 'salary_2024', 'salary_norm', 'salary_norm_2024', 'salary_normmed_2024', 'salary_normmean_2024', 'salary_normgdp_2024', 'salary_normse_2024']].head()"
   ]
  },
  {
   "cell_type": "code",
   "execution_count": null,
   "id": "22dcdcca-0ef9-49be-83ad-0555b5e73220",
   "metadata": {},
   "outputs": [],
   "source": [
    "df_ai_uni.dropna(subset=['year'], inplace=True)"
   ]
  },
  {
   "cell_type": "code",
   "execution_count": null,
   "id": "c549ba9c-3673-4885-9e20-90ee00968be4",
   "metadata": {},
   "outputs": [],
   "source": [
    "df_ai_uni['year'] = df_ai_uni['year'].astype('int64')"
   ]
  },
  {
   "cell_type": "code",
   "execution_count": null,
   "id": "1ff62083-ca87-4d32-843a-4ef8a708ceaa",
   "metadata": {},
   "outputs": [],
   "source": [
    "# Apply inflation adjustment directly to the 'salary' and 'salary_norm' columns\n",
    "df_ai_uni['salary_2024'] = df_ai_uni.apply(lambda row: row['salary'] * calculate_cumulative_inflation(row['year']), axis=1)\n",
    "df_ai_uni['salary_norm_2024'] = df_ai_uni.apply(lambda row: row['salary_norm'] * calculate_cumulative_inflation(row['year']), axis=1)\n",
    "df_ai_uni['salary_normmed_2024'] = df_ai_uni.apply(lambda row: row['salary_normmed'] * calculate_cumulative_inflation(row['year']), axis=1)\n",
    "df_ai_uni['salary_normmean_2024'] = df_ai_uni.apply(lambda row: row['salary_normmean'] * calculate_cumulative_inflation(row['year']), axis=1)\n",
    "df_ai_uni['salary_normgdp_2024'] = df_ai_uni.apply(lambda row: row['salary_normgdp'] * calculate_cumulative_inflation(row['year']), axis=1)\n",
    "df_ai_uni['salary_normse_2024'] = df_ai_uni.apply(lambda row: row['salary_normse'] * calculate_cumulative_inflation(row['year']), axis=1)\n",
    "\n",
    "# Display the updated dataframe\n",
    "df_ai_uni[['year', 'salary', 'salary_2024', 'salary_norm', 'salary_norm_2024', 'salary_normmed_2024', 'salary_normmean_2024', 'salary_normgdp_2024', 'salary_normse_2024']].head()"
   ]
  },
  {
   "cell_type": "markdown",
   "id": "b6e385de-1b22-4923-8130-1f07af5c5b9f",
   "metadata": {},
   "source": [
    "## Categorizing Job-titles"
   ]
  },
  {
   "cell_type": "code",
   "execution_count": null,
   "id": "bcef120b-ac8d-4b56-8c46-3d9733a42886",
   "metadata": {},
   "outputs": [],
   "source": [
    "#df_it['job_category_kw'] = df_it['job_title'].apply(categorize_by_keywords, category_keywords)\n",
    "## df_it['job_category_kw'] = df_it['job_title'].apply(lambda x: categorize_by_keywords_1627(x, category_keywords))\n",
    "#df_it['job_category'] = df_it['job_title'].apply(lambda x: categorize_job_title(x, categories))"
   ]
  },
  {
   "cell_type": "code",
   "execution_count": null,
   "id": "e177cac5-c2e5-4585-8a9d-0a49a2ccd6b4",
   "metadata": {},
   "outputs": [],
   "source": [
    "# Function to categorize job titles based on keyword match\n",
    "def categorize_job_title_1945(job_title, categories):\n",
    "    job_title = str(job_title).lower()  # Convert job_title to lower case string\n",
    "    for category, keywords in categories.items():\n",
    "        for keyword in keywords:\n",
    "            pattern = re.escape(keyword.lower())  # Create regex pattern for keyword\n",
    "            if re.search(pattern, job_title):\n",
    "                return category\n",
    "    return 'Uncategorized'  # For job titles that don't match any category"
   ]
  },
  {
   "cell_type": "code",
   "execution_count": null,
   "id": "c2fefc50-46af-47d8-a683-fe6f33178815",
   "metadata": {},
   "outputs": [],
   "source": [
    "job_categories = {\n",
    "    'Project managers': [\n",
    "        'project manager', 'pm' , 'program manager', 'project manager ', 'projectingenieur', 'project manager (pm)', 'program/project manager', 'technical lead', \n",
    "        'project manager & scrum master', 'technical project manager', 'digital project manager', 'it project manager', \n",
    "        'scrum master', 'scrum master / agile coach', 'sr project manager', 'senior project manager', 'senior program manager', 'engineering project manager', \n",
    "        'agile project manager', 'project leader', 'director of engineering', 'director of project management', 'director of technology', 'director of operations', \n",
    "        'project consultant', 'project coordinator', 'project supervisor', 'project assistant', 'project administrator', 'project management officer', \n",
    "        'program manager (technical)', 'construction project manager', 'it program manager', 'it project coordinator', 'it project management consultant', \n",
    "        'it project manager ', 'associate project manager', 'project portfolio manager', 'project office manager', 'product manager', \n",
    "        'technical program manager', 'digital transformation project manager', 'technical program manager (tpm)', 'digital project lead', 'delivery manager', \n",
    "        'global project manager', 'global program manager', 'business program manager', 'service delivery manager', 'it delivery manager', 'operations project manager', \n",
    "        'customer project manager', 'implementation project manager', 'senior delivery manager', 'business development manager operations', 'project & operations manager', \n",
    "        'it operations manager', 'manager (program, project, operations, executive-level, etc)', 'project & operations manager', 'technical project lead'\n",
    "    ],\n",
    "    'Team leaders': ['team lead', 'team leader'],\n",
    "    'Leaders': ['head of', 'lead', 'principal', 'staff', 'vp', 'cto'],\n",
    "    'Other managers': ['manager'],\n",
    "    'Full Stack Developers': ['full stack', 'full-stack', 'fullstack'],\n",
    "    'Architects': ['architect', 'data modeler', 'architekt'],\n",
    "    'Cloud': ['cloud engineer', 'cloud consulting', 'cloud platform engineer', 'cloud infrastructure engineer', 'cloud automation engineer'],\n",
    "    \n",
    "    'PHP Developers': ['php'],\n",
    "    'SAP Specialists': ['sap'],\n",
    "    'NET Developers': ['.net', 'c#'],\n",
    "    'C++ Developers': ['c++'],\n",
    "    'Mobile': ['ios','mobile', 'android','application'],\n",
    "    'Java/Scala Developers': ['java', 'scala','javascript','js', 'angular'],\n",
    "    'Other languages': ['python', 'ruby', 'oracle', 'erlang', 'go', 'golang', 'pyhon'],\n",
    "    \n",
    "    'Embedded Engineers': ['embedded'],\n",
    "    'Front End': ['front end', 'front-end','frontend','frontent'],\n",
    "    'Back End': ['back end','back-end', 'backend'],\n",
    "    'Web developer': ['web developer', 'webdev', 'web-entwickler'],\n",
    "    'Game': ['unreal','game','unity','unity3d'],\n",
    "    'Hardware':['hardware'],\n",
    "    'Security':['security'],\n",
    "    'Database Dev & Admin':['dba', 'database developer', 'database engineer', 'database administrator', 'database manager', 'databengineer', 'data administrator'],\n",
    "    'System admin': ['sys admin', 'sysadmin', 'system administrator', 'systems administrator', 'it administration', 'it admin', 'network administrator'],\n",
    "    'Statisticians': ['statistician'],\n",
    "    'Consultant': ['consultant', 'berater', 'consulter', 'consulting'],\n",
    "    \n",
    "    'Researcher': ['researcher'],\n",
    "    'Prompt Engineer': ['prompt'],\n",
    "    'Bioinformatics': ['bioinformatics', 'biostatistics', 'computational biologist'],\n",
    "    \n",
    "    'Business Analyst': [\n",
    "        'business analyst', 'business intelligence analyst', 'bi analyst', 'bi specialist',\n",
    "        'business insights analyst', 'financial data analyst', 'compliance data analyst', 'product data analyst', 'marketing data analyst', 'business data analyst', \n",
    "        'data analyst (business, marketing, financial, quantitative, etc)', 'business intelligence manager', 'business intelligence engineer', 'business intelligence specialist', \n",
    "        'business intelligence data analyst', 'business analyst/re', 'business analyst ', 'business analyst / business development manager operations', \n",
    "        'business development manager operations'\n",
    "    ],\n",
    "    \n",
    "    'Data Analyst': [\n",
    "        'data analyst', 'business intelligence developer', 'bi developer', 'research analyst', 'analytics engineer', 'data management analyst', 'data visualization',\n",
    "        'data strategist',\n",
    "        'data analytics associate', 'product analyst', 'marketing analyst', 'dana analyst', 'data reporting analyst', 'data quality analyst', 'finance data analyst', \n",
    "        'compliance data analyst', 'product data analyst', 'marketing data analyst', 'financial data analyst', 'data analytics consultant', 'data integration analyst', \n",
    "        'insight analyst', 'data analyst (business, marketing, financial, quantitative, etc)', 'business data analyst', 'data modeller', 'data analytics manager', \n",
    "        'data operations analyst', 'data quality manager', 'data science analyst', 'data specialist', 'data strategy manager', 'data management consultant', \n",
    "        'data analytics lead', 'data analytics specialist', 'data operations manager', 'data product analyst', 'data product owner', 'data quality engineer',\n",
    "        'data visualization analyst', 'data visualization specialist'\n",
    "    ],\n",
    "    \n",
    "    'Business Analyst': [\n",
    "        'business intelligence',\n",
    "    ],\n",
    "    \n",
    "    'Data Engineer': [\n",
    "        'ml ops engineer', 'data engineer', 'database engineer', 'big data engineer', 'etl developer', 'etl engineer', 'big data developer', 'data operations',\n",
    "        'machine learning operations engineer','machine learning infrastructure engineer', 'machine learning developer',\n",
    "        'data integration', 'data processing', 'data developer', 'data integration engineer', 'data pipeline engineer', 'cloud data engineer', 'data infrastructure engineer', \n",
    "        'data warehouse engineer', 'data migration engineer', 'etl/data engineer', 'data platform engineer', 'data ops engineer', 'data services engineer', \n",
    "        'data solutions engineer', 'data systems engineer', 'data automation engineer', 'data engineering manager', 'data engineer lead', 'data engineering consultant', \n",
    "        'data operations engineer', 'data modeling engineer', 'data engineering analyst', 'data warehouse developer', 'data engineer/scientist', 'data quality engineer', \n",
    "        'data mining engineer', 'data software engineer', 'data engineering specialist'\n",
    "    ],\n",
    "    \n",
    "    'Data Scientist/ ML Engineer': [\n",
    "        'ai developer', 'deep learning engineer', 'data science', 'data scientist', 'machine learning engineer', 'ai engineer', 'ml engineer', 'research scientist', 'deep learning engineer', \n",
    "        'machine learning specialist', 'ai programmer', 'ai scientist', 'decision scientist',\n",
    "        'nlp engineer', 'computer vision engineer', 'applied scientist', 'ai/ml engineer', 'data scientist/analyst', 'data science engineer', 'data science analyst', \n",
    "        'data science manager', 'machine learning scientist', 'applied ml engineer', 'ai/ml scientist', 'research engineer', 'mlops engineer', 'data scientist lead', \n",
    "        'data scientist manager', 'senior data scientist', 'principal data scientist', 'staff machine learning engineer', 'staff data scientist', 'machine learning software engineer',\n",
    "        'machine learning manager', 'machine learning ops engineer', 'principal machine learning engineer', 'applied machine learning engineer', 'ml engineer/analyst', \n",
    "        'data & applied scientist', 'machine learning research engineer', 'machine learning modeler', 'ai/ml researcher', 'mlops/data scientist', 'ai/ ml research engineer',\n",
    "        'ml engineer/research scientist', 'ai/ml engineer/researcher', 'machine learning engineet'\n",
    "    ],\n",
    "    \n",
    "    'Data Governance & Compliance': [\n",
    "        'data governance specialist', 'data governance manager', 'compliance data analyst', 'data quality manager', 'data quality analyst', 'data quality engineer', 'data management analyst', 'data management consultant', 'data management specialist', 'data privacy officer', 'data protection officer', 'data security officer', 'data compliance manager', 'risk and compliance analyst', 'risk and compliance manager', 'compliance officer', 'data stewardship specialist', 'data steward', 'regulatory compliance analyst', 'regulatory compliance manager', 'information governance specialist', 'information governance manager', 'data governance consultant'\n",
    "    ],\n",
    "    \n",
    "    'Software Engineer':[\n",
    "        'software engineer', 'software developer'\n",
    "    ],\n",
    "    \n",
    "    'DevOps Engineer': [\n",
    "        'devops engineer', 'devops', 'devops engineer ',\n",
    "        'software engineer (devops)', 'system engineer', 'system administrator', 'systems engineer', \n",
    "        'it infrastructure consultant', 'it consultant', 'solution engineer', 'lead devops', 'lead devops engineer', 'technical lead devops', \n",
    "        'sr. devops', 'sr. engineer', 'sre', 'sre engineer', 'site reliability engineer', 'site reliability engineer '\n",
    "    ],\n",
    "    \n",
    "    'UI/UX Designers': [\n",
    "        'ux designer', 'ui designer', 'ux/ui designer', 'designer (ui, ux)', 'designer (ui/ux)', 'product designer', 'interaction designer', 'user experience designer', 'visual designer', 'frontend designer', 'creative designer', 'web designer', 'graphic designer', 'mobile designer', 'user interface designer', 'design lead', 'design researcher', 'ui/ux specialist', 'ux/ui lead', 'digital designer', 'ui/ux consultant'\n",
    "    ],\n",
    "    \n",
    "    'QA/Test Engineers': [\n",
    "        'qa', 'testing', 'tester', 'test', 'qa test engineer', 'qa engineer', 'qa automation engineer', 'automation qa', 'test automation engineer', 'manual qa', \n",
    "        'qa automation', 'qa consultant', 'qa analyst', 'software test engineer', 'quality engineer', 'test engineer', 'test manager', 'testautomation', \n",
    "        'automation test engineer', 'quality assurance', 'quality assurance engineer', 'qa specialist', 'qa automation specialist', 'qa automation'\n",
    "    ],\n",
    "    \n",
    "    'Other Engineers': [\n",
    "        'platform engineer', 'engineer (non-software)', 'network engineer', 'support engineer', 'electrical engineer', 'firmware engineer', 'robotics engineer', 'it engineer', 'reporting engineer', 'ta engineer', 'cisco engineer'     \n",
    "    ],\n",
    "    \n",
    "    'Other Developers': [\n",
    "        'web developer', 'sw developer', 'softwaredeveloper', 'xr', 'crypto', 'rpa developer', 'sharepoint developer', 'nav developer', 'dwh developer', 'web deleloper', 'erp developer'\n",
    "    ],\n",
    "    \n",
    "    'Out of scope': [\n",
    "        'teacher', 'professor', 'lawyer', 'sales', 'pcb designer', 'coach', 'producer', 'recruiter', 'agile', 'banker', 'quant'\n",
    "    ],\n",
    "    'System...': [\n",
    "        'system'\n",
    "    ],\n",
    "    'Advocacy':['developer advocate', 'developer relations/advocacy', ],\n",
    "    \n",
    "    'Too vague answers': [\n",
    "        'engineer', 'developer', 'designer', 'support', 'operations', 'analyst', 'spezialist', 'specialist'\n",
    "    ],\n",
    "    '\"Other\"': ['other']\n",
    "    \n",
    "}"
   ]
  },
  {
   "cell_type": "markdown",
   "id": "0c8d69ab-acf4-415f-94a6-6253ec546e5f",
   "metadata": {},
   "source": [
    "### DE IT-Survey"
   ]
  },
  {
   "cell_type": "code",
   "execution_count": null,
   "id": "48a169fd-a3d9-4395-8e28-fc631081ac21",
   "metadata": {
    "tags": []
   },
   "outputs": [],
   "source": [
    "df_it_uni['job_title'] = df_it_uni['job_title'].str.replace('senior', '', case=False, regex=False)\n",
    "df_it_uni['job_title'] = df_it_uni['job_title'].str.replace('sr.', '', case=False, regex=False)\n",
    "df_it_uni['job_title'] = df_it_uni['job_title'].str.strip()"
   ]
  },
  {
   "cell_type": "code",
   "execution_count": null,
   "id": "eef3658c-5c9f-4088-98de-12ee320b5a50",
   "metadata": {},
   "outputs": [],
   "source": [
    "df_it_uni['job_category'] = df_it_uni['job_title'].apply(lambda x: categorize_job_title_1945(x, job_categories))"
   ]
  },
  {
   "cell_type": "code",
   "execution_count": null,
   "id": "9351e59b-9b80-46c5-a900-33e719bb042c",
   "metadata": {},
   "outputs": [],
   "source": [
    "# Plot histogram for the 'job_category' column\n",
    "plt.figure(figsize=(8, 3))\n",
    "df_it_uni['job_category'].value_counts().plot(kind='bar')\n",
    "plt.title('Histogram of Job Categories')\n",
    "plt.xlabel('Job Category')\n",
    "plt.ylabel('Frequency')\n",
    "plt.xticks(rotation=90)\n",
    "plt.show()"
   ]
  },
  {
   "cell_type": "code",
   "execution_count": null,
   "id": "e4eec642-7aba-4e61-8961-841d1e034418",
   "metadata": {},
   "outputs": [],
   "source": [
    "df_it_uni['job_title'][df_it_uni['job_category'] == 'Uncategorized'].tail(50)\n",
    "#df_it_uni['job_title'][df_it_uni['job_category'] == 'Too vague answers'].tail(50)"
   ]
  },
  {
   "cell_type": "code",
   "execution_count": null,
   "id": "fc51e184-c924-411b-8873-a70347001a42",
   "metadata": {},
   "outputs": [],
   "source": [
    "df_it_uni['job_title'][df_it_uni['job_category'] == 'Database Development/ Admininistration'].head(50)"
   ]
  },
  {
   "cell_type": "markdown",
   "id": "251ccfde-63f5-497d-af7a-578a5ccc29df",
   "metadata": {},
   "source": [
    "### AI-Jobs.net"
   ]
  },
  {
   "cell_type": "code",
   "execution_count": null,
   "id": "ef67bcb2-4f65-4c3a-a38c-b1a3fb2307f6",
   "metadata": {},
   "outputs": [],
   "source": [
    "df_ai_uni['job_title'] = df_ai_uni['job_title'].str.replace('senior', '', case=False, regex=False)\n",
    "df_ai_uni['job_title'] = df_ai_uni['job_title'].str.replace('sr.', '', case=False, regex=False)\n",
    "df_ai_uni['job_title'] = df_ai_uni['job_title'].str.strip()"
   ]
  },
  {
   "cell_type": "code",
   "execution_count": null,
   "id": "f8e0da12-00d8-4746-8ded-c85c12d01f21",
   "metadata": {},
   "outputs": [],
   "source": [
    "df_ai_uni['job_category'] = df_ai_uni['job_title'].apply(lambda x: categorize_job_title_1945(x, job_categories))"
   ]
  },
  {
   "cell_type": "code",
   "execution_count": null,
   "id": "ec739eee-2b40-4e7c-b52a-c300fd0a9fdc",
   "metadata": {},
   "outputs": [],
   "source": [
    "# Plot histogram for the 'job_category' column\n",
    "plt.figure(figsize=(8, 3))\n",
    "df_ai_uni['job_category'].value_counts().plot(kind='bar')\n",
    "plt.title('Histogram of Job Categories')\n",
    "plt.xlabel('Job Category')\n",
    "plt.ylabel('Frequency')\n",
    "plt.xticks(rotation=90)\n",
    "plt.show()"
   ]
  },
  {
   "cell_type": "code",
   "execution_count": null,
   "id": "7ecaf7c3-62ef-408c-85b1-5b886cecfdc7",
   "metadata": {},
   "outputs": [],
   "source": [
    "df_ai_uni['job_title'][df_ai_uni['job_category'] == 'Uncategorized'].head(50)\n",
    "#df_ai_uni['job_title'][df_ai_uni['job_category'] == 'Too vague answers'].tail(50)"
   ]
  },
  {
   "cell_type": "markdown",
   "id": "dd8004e6-8f17-4a83-b56a-ea96cbac8c29",
   "metadata": {},
   "source": [
    "### Kaggle"
   ]
  },
  {
   "cell_type": "code",
   "execution_count": null,
   "id": "fe25b68e-1de8-4faa-8578-ef8a1b6f0050",
   "metadata": {},
   "outputs": [],
   "source": [
    "df_k_uni['job_title'] = df_k_uni['job_title'].str.replace('senior', '', case=False, regex=False)\n",
    "df_k_uni['job_title'] = df_k_uni['job_title'].str.replace('sr.', '', case=False, regex=False)\n",
    "df_k_uni['job_title'] = df_k_uni['job_title'].str.strip()"
   ]
  },
  {
   "cell_type": "code",
   "execution_count": null,
   "id": "97880ae0-5dce-45a8-9e7d-6a0032c996bf",
   "metadata": {},
   "outputs": [],
   "source": [
    "df_k_uni['job_category'] = df_k_uni['job_title'].apply(lambda x: categorize_job_title_1945(x, job_categories))"
   ]
  },
  {
   "cell_type": "code",
   "execution_count": null,
   "id": "b742c349-7ce9-45d6-8ced-4879e6cdb722",
   "metadata": {},
   "outputs": [],
   "source": [
    "# Plot histogram for the 'job_category' column\n",
    "plt.figure(figsize=(8, 3))\n",
    "df_k_uni['job_category'].value_counts().plot(kind='bar')\n",
    "plt.title('Histogram of Job Categories')\n",
    "plt.xlabel('Job Category')\n",
    "plt.ylabel('Frequency')\n",
    "plt.xticks(rotation=90)\n",
    "plt.show()"
   ]
  },
  {
   "cell_type": "code",
   "execution_count": null,
   "id": "4238379d-a63d-4b37-91a9-b23ccb6b58fb",
   "metadata": {},
   "outputs": [],
   "source": [
    "df_k_uni['job_title'][df_k_uni['job_category'] == 'Uncategorized'].tail(50)\n",
    "#df_k_uni['job_title'][df_k_uni['job_category'] == 'Too vague answers'].head(50)"
   ]
  },
  {
   "cell_type": "markdown",
   "id": "928cf5dd-a0c3-4d78-9961-1d27d0ac4b7b",
   "metadata": {},
   "source": [
    "Optional: Check how these categories got populated actually"
   ]
  },
  {
   "cell_type": "code",
   "execution_count": null,
   "id": "45f7563a-0399-4f30-9029-0c6983a77c62",
   "metadata": {},
   "outputs": [],
   "source": [
    "#for category in job_categories:\n",
    "#    unique_titles = df_it_uni['job_title'][df_it_uni['job_category'] == category].unique()\n",
    "#    print(f\"{category}: {unique_titles}\")"
   ]
  },
  {
   "cell_type": "code",
   "execution_count": null,
   "id": "af5d0407-3d49-4701-bf79-50adeb177b7d",
   "metadata": {},
   "outputs": [],
   "source": [
    "#for category in job_categories:\n",
    "#    unique_titles = df_ai_uni['job_title'][df_ai_uni['job_category'] == category].unique()\n",
    "#    print(f\"{category}: {unique_titles}\")"
   ]
  },
  {
   "cell_type": "code",
   "execution_count": null,
   "id": "6af01a2e-dca4-486c-88a8-11c67a13c700",
   "metadata": {},
   "outputs": [],
   "source": [
    "#for category in job_categories:\n",
    "#    unique_titles = df_k_uni['job_title'][df_k_uni['job_category'] == category].unique()\n",
    "#    print(f\"{category}: {unique_titles}\")"
   ]
  },
  {
   "cell_type": "markdown",
   "id": "57ec0ec3-a4f4-44d6-8c35-2d46323b2183",
   "metadata": {
    "tags": []
   },
   "source": [
    "## Western Countries"
   ]
  },
  {
   "cell_type": "code",
   "execution_count": null,
   "id": "27afa60c-d08b-4113-9f71-be9201a9cafd",
   "metadata": {},
   "outputs": [],
   "source": [
    "western_countries = [\n",
    "    'al', 'ad', 'am', 'at', 'az', 'by', 'be', 'ba', 'bg', 'hr',\n",
    "    'cy', 'cz', 'dk', 'ee', 'fi', 'fr', 'ge', 'de', 'gr', 'hu',\n",
    "    'is', 'ie', 'it', 'kz', 'xk', 'lv', 'li', 'lt', 'lu', 'mt',\n",
    "    'md', 'mc', 'me', 'nl', 'mk', 'no', 'pl', 'pt', 'ro', 'ru',\n",
    "    'sm', 'rs', 'sk', 'si', 'es', 'se', 'ch', 'tr', 'ua', 'gb',\n",
    "    'va', 'ca', 'au', 'us'\n",
    "]"
   ]
  },
  {
   "cell_type": "code",
   "execution_count": null,
   "id": "7df42623-4599-44ad-b5fd-3e4ee17c4baf",
   "metadata": {},
   "outputs": [],
   "source": [
    "developed_countries = ['de', 'gb', 'nl', 'se', 'dk', 'be', 'fi', 'at', 'ch', 'ie', 'ca', 'au', 'us']"
   ]
  },
  {
   "cell_type": "markdown",
   "id": "c0d2f0a6-8028-47a9-acf5-a7e7dd257399",
   "metadata": {},
   "source": [
    "## Log-transformed salary"
   ]
  },
  {
   "cell_type": "markdown",
   "id": "672334e0-1490-4a05-b6d2-77ac5a8dbed1",
   "metadata": {},
   "source": [
    "The reasonability of this step was assessed later, in the Analysis part, and iteratively added back to here."
   ]
  },
  {
   "cell_type": "code",
   "execution_count": null,
   "id": "68c70255-efb9-4b2e-9054-51a2adede6b2",
   "metadata": {},
   "outputs": [],
   "source": [
    "dataframes = [df_k_uni, df_it_uni, df_ai_uni]\n",
    "columns_to_transform = ['salary', 'salary_2024', 'salary_norm', 'salary_norm_2024', 'salary_normmed_2024', 'salary_normmean_2024', 'salary_normgdp_2024', 'salary_normse_2024']\n",
    "\n",
    "for df in dataframes:\n",
    "    for col in columns_to_transform:\n",
    "        df[f'{col}_log'] = np.log(df[col])"
   ]
  },
  {
   "cell_type": "markdown",
   "id": "ac77e2b1-158f-4cfc-a0b2-6eac6414b8e1",
   "metadata": {},
   "source": [
    "<div class=\"c\">\n",
    "Log-transformation was later discovered to be a not just a <u>practical</u> but also a <b>necessary</b> step.<br>\n",
    "But of course, this realization was born later, and the transformation step inserted here to give the project a more logically followable structure.\n",
    "</div> "
   ]
  },
  {
   "cell_type": "markdown",
   "id": "c23eea8b-ecb9-4066-bc18-34c115832196",
   "metadata": {
    "tags": []
   },
   "source": [
    "# Outlier detection"
   ]
  },
  {
   "cell_type": "markdown",
   "id": "80653563-634f-4845-a2fc-38f61cd4ec51",
   "metadata": {},
   "source": [
    "<div class=\"c\">\n",
    "To detect outliers, besides Z-score, the literature often advises the use of modified Z-score, which is basically its nonparameteric counterpart, operating with medians instead of means.<br>\n",
    "Furthermore, a signed-modified-Z-score is also calculated, as the modified-Z-score loses the sign-dependence (will not distinguish between outliers that are too-low or too-high). <br>\n",
    "Another popular approach can be the 1.5 IQR interval. Using Z-scores was a design choice.\n",
    "</div> "
   ]
  },
  {
   "cell_type": "code",
   "execution_count": null,
   "id": "6c7921b6-ab63-4b8b-8917-fa8de79bbe44",
   "metadata": {},
   "outputs": [],
   "source": [
    "def add_z_scores(data, numerical_column):\n",
    "    # Calculate Z-scores\n",
    "    mean = data[numerical_column].mean()\n",
    "    std = data[numerical_column].std()\n",
    "    z_scores = (data[numerical_column] - mean) / std\n",
    "    data['z_score'] = z_scores\n",
    "    \n",
    "    # Calculate modified Z-scores\n",
    "    # 0.6745 * (xi - median)/MAD, where xi is the actual row that the Z-score will be calculated to. MAD is the median absolute deviation.\n",
    "    median = data[numerical_column].median()\n",
    "    mad = np.median(np.abs(data[numerical_column] - median))\n",
    "    modif_z_scores = 0.6745 * np.abs(data[numerical_column] - median) / mad\n",
    "    data['modif_z_score'] = modif_z_scores\n",
    "\n",
    "    # Calculate modified Z-scores-signed\n",
    "    modif_z_scores_signed = 0.6745 * (data[numerical_column] - median) / mad\n",
    "    data['modif_z_score_signed'] = modif_z_scores_signed\n",
    "    \n",
    "    return data"
   ]
  },
  {
   "cell_type": "code",
   "execution_count": null,
   "id": "9144bec2-e37e-4e31-a73f-005fdce77dac",
   "metadata": {
    "tags": []
   },
   "outputs": [],
   "source": [
    "def detect_outliers(data):\n",
    "    threshold = 10  # Adjust threshold as needed\n",
    "    median = data.median()\n",
    "    median_absolute_deviation = np.median(np.abs(data - median))\n",
    "    modified_z_scores = 0.6745 * np.abs(data - median) / median_absolute_deviation\n",
    "    return modified_z_scores > threshold"
   ]
  },
  {
   "cell_type": "code",
   "execution_count": null,
   "id": "141c424b-5cbc-40b7-94d6-0df33d63b7ba",
   "metadata": {},
   "outputs": [],
   "source": [
    "def detect_outliers_1006_2035(data, numerical_column, lower_threshold=-3, upper_threshold=10):\n",
    "    median = data[numerical_column].median()\n",
    "    mad = np.median(np.abs(data[numerical_column] - median))\n",
    "    modif_z_scores_signed = 0.6745 * (data[numerical_column] - median) / mad\n",
    "    outliers = data[(modif_z_scores_signed < lower_threshold) | (modif_z_scores_signed > upper_threshold)]\n",
    "    return outliers"
   ]
  },
  {
   "cell_type": "markdown",
   "id": "1051b40e-d6b2-4791-8c83-95e620fdc12c",
   "metadata": {},
   "source": [
    "## Based on Normalized, Log-transformed salary"
   ]
  },
  {
   "cell_type": "markdown",
   "id": "86d001a1-059c-4bba-9c51-83172972f007",
   "metadata": {},
   "source": [
    "### Kaggle"
   ]
  },
  {
   "cell_type": "code",
   "execution_count": null,
   "id": "63afa650-068e-4dfd-91c6-d4562739f5d4",
   "metadata": {},
   "outputs": [],
   "source": [
    "df_k_uni_copy = df_k_uni.copy()\n",
    "df_ai_uni_copy = df_ai_uni.copy()\n",
    "df_it_uni_copy = df_it_uni.copy()"
   ]
  },
  {
   "cell_type": "code",
   "execution_count": null,
   "id": "88a93925-67c9-4a2f-b83a-4679104d78a3",
   "metadata": {},
   "outputs": [],
   "source": [
    "# grouped DF\n",
    "df_k_g = df_k_uni.groupby(['experience'])\n",
    "\n",
    "# adding Z-scores\n",
    "df_k_gz = df_k_g.apply(lambda x: add_z_scores(x, 'salary_normmed_2024_log'), include_groups=False).reset_index(drop=True)\n",
    "\n",
    "# outputting with descending Modified-Z-score order\n",
    "df_k_gz.sort_values('modif_z_score_signed', ascending=True).head(5)"
   ]
  },
  {
   "cell_type": "code",
   "execution_count": null,
   "id": "cfadc625-28f2-4d88-9de5-97d654f4ac15",
   "metadata": {},
   "outputs": [],
   "source": [
    "# Sorting the dataframes for plotting\n",
    "df_k_gzs = df_k_gz['z_score'].sort_values(ascending=False).reset_index(drop=True)\n",
    "df_k_gmzs = df_k_gz['modif_z_score'].sort_values(ascending=False).reset_index(drop=True)\n",
    "df_k_gmzs_signed = df_k_gz['modif_z_score_signed'].sort_values(ascending=False).reset_index(drop=True)\n",
    "\n",
    "# Plotting\n",
    "plt.figure(figsize=(20, 5))\n",
    "\n",
    "plt.subplot(1, 3, 1)\n",
    "plt.plot(df_k_gzs, marker='.', linestyle='-', color='b')\n",
    "plt.title('Sorted Z-scores')\n",
    "plt.xlabel('Index')\n",
    "plt.ylabel('Z-score')\n",
    "\n",
    "plt.subplot(1, 3, 2)\n",
    "plt.plot(df_k_gmzs, marker='.', linestyle='-', color='r')\n",
    "plt.title('Sorted Modified Z-scores (Absolute)')\n",
    "plt.xlabel('Index')\n",
    "plt.ylabel('Modified Z-score')\n",
    "\n",
    "plt.subplot(1, 3, 3)\n",
    "plt.plot(df_k_gmzs_signed, marker='.', linestyle='-', color='g')\n",
    "plt.title('Sorted Modified Z-scores (Signed)')\n",
    "plt.xlabel('Index')\n",
    "plt.ylabel('Modified Z-score (Signed)')\n",
    "\n",
    "plt.tight_layout()\n",
    "plt.show()"
   ]
  },
  {
   "cell_type": "code",
   "execution_count": null,
   "id": "9349e72d-4f9a-41f3-b1e6-dab550a91639",
   "metadata": {},
   "outputs": [],
   "source": [
    "# Start with the initial DataFrame\n",
    "len_k_initial = len(df_k_gz)\n",
    "\n",
    "# Define thresholds\n",
    "lower_threshold = -0.5\n",
    "upper_threshold = 3.0\n",
    "\n",
    "# Boolean masks for outliers\n",
    "mask_k_small = df_k_gz['modif_z_score_signed'] < lower_threshold\n",
    "mask_k_large = df_k_gz['modif_z_score_signed'] > upper_threshold\n",
    "\n",
    "# Count outliers\n",
    "len_k_outlierdrop_small = mask_k_small.sum()\n",
    "len_k_outlierdrop_large = mask_k_large.sum()\n",
    "\n",
    "# Remove outliers\n",
    "df_k = df_k_gz[~(mask_k_small | mask_k_large)].copy()\n",
    "\n",
    "# Print results\n",
    "print(f\"{len_k_outlierdrop_small + len_k_outlierdrop_large} outliers removed out of {len_k_initial} rows:\")\n",
    "print(f\" - Too small: {len_k_outlierdrop_small} rows removed\")\n",
    "print(f\" - Too large: {len_k_outlierdrop_large} rows removed\")\n",
    "\n",
    "# Display the top rows sorted by 'modif_z_score'\n",
    "df_k.sort_values('modif_z_score', ascending=False).head(2)"
   ]
  },
  {
   "cell_type": "code",
   "execution_count": null,
   "id": "048d7a86-5625-4d27-97f4-928df516f4c7",
   "metadata": {},
   "outputs": [],
   "source": [
    "df_k[df_k['country'].isin(developed_countries)].sort_values('modif_z_score_signed', ascending=True).head(10)"
   ]
  },
  {
   "cell_type": "markdown",
   "id": "a387f2fb-8d80-4042-a145-22ba7d737177",
   "metadata": {},
   "source": [
    "### DE-IT"
   ]
  },
  {
   "cell_type": "code",
   "execution_count": null,
   "id": "e55c79b8-ba37-4d2f-ab9e-76e417ca9ebf",
   "metadata": {},
   "outputs": [],
   "source": [
    "# grouped DF\n",
    "df_it_g = df_it_uni.groupby(['seniority_level'])\n",
    "\n",
    "# adding Z-scores\n",
    "df_it_gz = df_it_g.apply(lambda x: add_z_scores(x, 'salary_normmed_2024_log'), include_groups=False).reset_index()\n",
    "\n",
    "# outputting with descending Modified-Z-score order\n",
    "df_it_gz.sort_values('modif_z_score', ascending=False).head()"
   ]
  },
  {
   "cell_type": "code",
   "execution_count": null,
   "id": "c86793da-2711-40be-8cbf-25d1a55c358a",
   "metadata": {},
   "outputs": [],
   "source": [
    "# Sorting the dataframes for plotting\n",
    "df_it_gzs = df_it_gz['z_score'].sort_values(ascending=False).reset_index(drop=True)\n",
    "df_it_gmzs = df_it_gz['modif_z_score'].sort_values(ascending=False).reset_index(drop=True)\n",
    "df_it_gmzs_signed = df_it_gz['modif_z_score_signed'].sort_values(ascending=False).reset_index(drop=True)\n",
    "\n",
    "# Plotting\n",
    "plt.figure(figsize=(20, 5))\n",
    "\n",
    "plt.subplot(1, 3, 1)\n",
    "plt.plot(df_it_gzs, marker='.', linestyle='-', color='b')\n",
    "plt.title('Sorted Z-scores')\n",
    "plt.xlabel('Index')\n",
    "plt.ylabel('Z-score')\n",
    "\n",
    "plt.subplot(1, 3, 2)\n",
    "plt.plot(df_it_gmzs, marker='.', linestyle='-', color='r')\n",
    "plt.title('Sorted Modified Z-scores (Absolute)')\n",
    "plt.xlabel('Index')\n",
    "plt.ylabel('Modified Z-score')\n",
    "\n",
    "plt.subplot(1, 3, 3)\n",
    "plt.plot(df_it_gmzs_signed, marker='.', linestyle='-', color='g')\n",
    "plt.title('Sorted Modified Z-scores (Signed)')\n",
    "plt.xlabel('Index')\n",
    "plt.ylabel('Modified Z-score (Signed)')\n",
    "\n",
    "plt.tight_layout()\n",
    "plt.show()"
   ]
  },
  {
   "cell_type": "code",
   "execution_count": null,
   "id": "19c492de-0a2b-4628-b752-c4f2dabc3944",
   "metadata": {},
   "outputs": [],
   "source": [
    "# Start with the initial DataFrame\n",
    "len_it_initial = len(df_it_gz)\n",
    "\n",
    "# Define thresholds\n",
    "lower_threshold = -3.0\n",
    "upper_threshold = 3.0\n",
    "\n",
    "# Boolean masks for outliers\n",
    "mask_it_small = df_it_gz['modif_z_score_signed'] < lower_threshold\n",
    "mask_it_large = df_it_gz['modif_z_score_signed'] > upper_threshold\n",
    "\n",
    "# Count outliers\n",
    "len_it_outlierdrop_small = mask_it_small.sum()\n",
    "len_it_outlierdrop_large = mask_it_large.sum()\n",
    "\n",
    "# Remove outliers\n",
    "df_it = df_it_gz[~(mask_it_small | mask_it_large)].copy()\n",
    "\n",
    "# Print results\n",
    "print(f\"{len_it_outlierdrop_small + len_it_outlierdrop_large} outliers removed out of {len_it_initial} rows:\")\n",
    "print(f\" - Too small: {len_it_outlierdrop_small} rows removed\")\n",
    "print(f\" - Too large: {len_it_outlierdrop_large} rows removed\")\n",
    "\n",
    "# Display the top 2 rows sorted by 'modif_z_score'\n",
    "df_it.sort_values('modif_z_score', ascending=False).head(2)"
   ]
  },
  {
   "cell_type": "markdown",
   "id": "02291e84-e848-45a8-a076-1c2bb5ab1434",
   "metadata": {},
   "source": [
    "### AI-Jobs.net"
   ]
  },
  {
   "cell_type": "code",
   "execution_count": null,
   "id": "f0bc10aa-e4ff-4a18-92ad-ed3cd7de161a",
   "metadata": {},
   "outputs": [],
   "source": [
    "# grouped DF\n",
    "df_ai_g = df_ai_uni.groupby(['seniority_level'], observed=False)\n",
    "\n",
    "# adding Z-scores\n",
    "df_ai_gz = df_ai_g.apply(lambda x: add_z_scores(x, 'salary_normmed_2024_log'), include_groups=False).reset_index()\n",
    "\n",
    "# outputting with descending Modified-Z-score order\n",
    "df_ai_gz.sort_values('modif_z_score_signed', ascending=True).head()"
   ]
  },
  {
   "cell_type": "code",
   "execution_count": null,
   "id": "2dbf97b4-eb85-47aa-a92a-8d3007762696",
   "metadata": {},
   "outputs": [],
   "source": [
    "# Sorting the dataframes for plotting\n",
    "df_ai_gzs = df_ai_gz['z_score'].sort_values(ascending=False).reset_index(drop=True)\n",
    "df_ai_gmzs = df_ai_gz['modif_z_score'].sort_values(ascending=False).reset_index(drop=True)\n",
    "df_ai_gmzs_signed = df_ai_gz['modif_z_score_signed'].sort_values(ascending=False).reset_index(drop=True)\n",
    "\n",
    "# Plotting\n",
    "plt.figure(figsize=(20, 5))\n",
    "\n",
    "plt.subplot(1, 3, 1)\n",
    "plt.plot(df_ai_gzs, marker='.', linestyle='-', color='b')\n",
    "plt.title('Sorted Z-scores')\n",
    "plt.xlabel('Index')\n",
    "plt.ylabel('Z-score')\n",
    "\n",
    "plt.subplot(1, 3, 2)\n",
    "plt.plot(df_ai_gmzs, marker='.', linestyle='-', color='r')\n",
    "plt.title('Sorted Modified Z-scores (Absolute)')\n",
    "plt.xlabel('Index')\n",
    "plt.ylabel('Modified Z-score')\n",
    "\n",
    "plt.subplot(1, 3, 3)\n",
    "plt.plot(df_ai_gmzs_signed, marker='.', linestyle='-', color='g')\n",
    "plt.title('Sorted Modified Z-scores (Signed)')\n",
    "plt.xlabel('Index')\n",
    "plt.ylabel('Modified Z-score (Signed)')\n",
    "\n",
    "plt.tight_layout()\n",
    "plt.show()"
   ]
  },
  {
   "cell_type": "code",
   "execution_count": null,
   "id": "c7a87a8f-3909-4956-aedb-b20f34e5eaa4",
   "metadata": {},
   "outputs": [],
   "source": [
    "# Start with the initial DataFrame\n",
    "len_ai_initial = len(df_ai_gz)\n",
    "\n",
    "# Define thresholds\n",
    "lower_threshold = -3.0\n",
    "upper_threshold = 3.0\n",
    "\n",
    "# Boolean masks for outliers\n",
    "mask_ai_small = df_ai_gz['modif_z_score_signed'] < lower_threshold\n",
    "mask_ai_large = df_ai_gz['modif_z_score_signed'] > upper_threshold\n",
    "\n",
    "# Count outliers\n",
    "len_ai_outlierdrop_small = mask_ai_small.sum()\n",
    "len_ai_outlierdrop_large = mask_ai_large.sum()\n",
    "\n",
    "# Remove outliers\n",
    "df_ai = df_ai_gz[~(mask_ai_small | mask_ai_large)].copy()\n",
    "\n",
    "# Print results\n",
    "print(f\"{len_ai_outlierdrop_small + len_ai_outlierdrop_large} outliers removed out of {len_ai_initial} rows:\")\n",
    "print(f\" - Too small: {len_ai_outlierdrop_small} rows removed\")\n",
    "print(f\" - Too large: {len_ai_outlierdrop_large} rows removed\")\n",
    "\n",
    "# Display the top 2 rows sorted by 'modif_z_score'\n",
    "df_ai.sort_values('modif_z_score', ascending=False).head(2)"
   ]
  },
  {
   "cell_type": "markdown",
   "id": "45dcc826-3653-47da-b0d4-61b1dfa3f336",
   "metadata": {},
   "source": [
    "#### Final check "
   ]
  },
  {
   "cell_type": "code",
   "execution_count": null,
   "id": "6fdac933-5bb1-4438-ae89-48d72732542c",
   "metadata": {},
   "outputs": [],
   "source": [
    "df_k[df_k['country'].isin(developed_countries)].sort_values('modif_z_score_signed', ascending=True).head(20)"
   ]
  },
  {
   "cell_type": "code",
   "execution_count": null,
   "id": "499961d8-0d59-4600-ae18-ffe14d764537",
   "metadata": {},
   "outputs": [],
   "source": [
    "df_ai.sort_values('modif_z_score', ascending=False).head(5)"
   ]
  },
  {
   "cell_type": "code",
   "execution_count": null,
   "id": "3eb9941a-4cbe-4587-b7ef-7255763caa98",
   "metadata": {},
   "outputs": [],
   "source": [
    "df_it.sort_values('modif_z_score', ascending=False).head(5)"
   ]
  },
  {
   "cell_type": "markdown",
   "id": "c762810f-6eec-41b0-9935-d6fb7ef9ae06",
   "metadata": {},
   "source": [
    "<div class=\"c\">\n",
    "Conclusion:<br>\n",
    "The commonly used modified-Z-score loses the sign-dependence, which is a crucial information here (so it will not distinguish between a too-low and a too-high salary).<br>\n",
    "Sign dependence gives significant information here, as no matter log-transformation or not, the distribution of salaries will always be closed in one-end (the lower end) and open by the higher end.<br>\n",
    "Manual inspection shows that with a symmetric modif-Z-score cutoff, the irrealistically low answers are not dropped. <br>\n",
    "This is most notable for the Kaggle surveys:<br> As the survey did not clearly specify whether the salary question is asking a yearly or a monthly value! This is an trivial yet enormous error in survey design<br>\n",
    "<br>\n",
    "To counteract this, I used a strict cutoff limit for the lower outlier for Kaggle. This was done iteratively paired with careful manual inspection.\n",
    "</div> "
   ]
  },
  {
   "cell_type": "markdown",
   "id": "423526e5-c729-4316-aa5e-d9efda5c09e0",
   "metadata": {},
   "source": [
    "# Data Quality Metrics"
   ]
  },
  {
   "cell_type": "markdown",
   "id": "717681e7-7d5b-4052-98fe-39a54eca9947",
   "metadata": {},
   "source": [
    "<div class=\"c\">\n",
    "Through the cleaning steps, several 'len_' variables were introduced which tracked the length of each survey as the cleaning step was applied.<br>\n",
    "In this chapter, these counters are collected.<br>\n",
    "<br>\n",
    "This is not done quite elegantly, but this ugly approach enables enormous flexibility in reorganizing the cleaning steps, and injecting new steps.\n",
    "</div> "
   ]
  },
  {
   "cell_type": "markdown",
   "id": "8695675f-8d54-4b05-b092-b310faee3d60",
   "metadata": {},
   "source": [
    "## Germany-It Survey"
   ]
  },
  {
   "cell_type": "code",
   "execution_count": null,
   "id": "ba98d263-67d3-4a86-8e98-2e68950ab829",
   "metadata": {},
   "outputs": [],
   "source": [
    "cleaning_steps = [\n",
    "    'Salary-nulls',\n",
    "    'Employment-nulls',\n",
    "    'Students',  \n",
    "    'Never have coded',\n",
    "    'Country-nulls',\n",
    "    'Seniority-nulls',\n",
    "    'Job-title-nulls',\n",
    "    'Outliers: Too small salary',\n",
    "    'Outliers: Too large salary'\n",
    "]"
   ]
  },
  {
   "cell_type": "code",
   "execution_count": null,
   "id": "4c11a103-a597-4646-899c-f4cf795844e1",
   "metadata": {},
   "outputs": [],
   "source": [
    "len_it_ini = sum([\n",
    "    len_it18_ini,\n",
    "    len_it19_ini,\n",
    "    len_it20_ini,\n",
    "    len_it21_ini,\n",
    "    len_it22_ini,\n",
    "    len_it23_ini\n",
    "])\n",
    "\n",
    "len_it18_salarydrop = len_it18_salarydrop1 - len_it18_salarydrop2\n",
    "len_it19_salarydrop = len_it19_salarydrop1 - len_it19_salarydrop2\n",
    "len_it20_salarydrop = len_it20_salarydrop1 - len_it20_salarydrop2\n",
    "len_it21_salarydrop = len_it21_salarydrop1 - len_it21_salarydrop2\n",
    "len_it22_salarydrop = len_it22_salarydrop1 - len_it22_salarydrop2\n",
    "len_it23_salarydrop = len_it23_salarydrop1 - len_it23_salarydrop2\n",
    "\n",
    "len_it_salarydrop = sum([\n",
    "    len_it18_salarydrop,\n",
    "    len_it19_salarydrop,\n",
    "    len_it20_salarydrop,\n",
    "    len_it21_salarydrop,\n",
    "    len_it22_salarydrop,\n",
    "    len_it23_salarydrop\n",
    "])\n",
    "\n",
    "len_it_employmentdrop  = len_it_employmentdrop1  - len_it_employmentdrop2\n",
    "len_it_studentdrop     = len_it_studentdrop1     - len_it_studentdrop2\n",
    "len_it_noncoderdrop    = 0\n",
    "len_it_countrydrop     = len_it_countrydrop1     - len_it_countrydrop2\n",
    "len_it_senioritydrop   = len_it_senioritydrop1   - len_it_senioritydrop2\n",
    "len_it_jobtitledrop    = len_it_jobtitledrop1    - len_it_jobtitledrop2\n",
    "#len_it_outlierdrop     = len_it_outlierdrop1     - len_it_outlierdrop2\n",
    "#len_it_outlierdropnorm = len_it_outlierdropnorm1 - len_it_outlierdropnorm2\n",
    "\n",
    "len_it_clean = (len(df_it))\n",
    "\n",
    "it_difference  = len_it_ini - len_it_clean\n",
    "it_cleanedaway = [\n",
    "    len_it_salarydrop,\n",
    "    len_it_employmentdrop,\n",
    "    len_it_studentdrop,   \n",
    "    len_it_noncoderdrop,\n",
    "    len_it_countrydrop,\n",
    "    len_it_senioritydrop,\n",
    "    len_it_jobtitledrop,\n",
    "    len_it_outlierdrop_small,\n",
    "    len_it_outlierdrop_large\n",
    "]"
   ]
  },
  {
   "cell_type": "code",
   "execution_count": null,
   "id": "a7028712-3e51-4b1d-8f9a-14942a71e8bf",
   "metadata": {},
   "outputs": [],
   "source": [
    "print(f'Initial survey length: {len_it_ini}')\n",
    "# Printing each variable in the list\n",
    "for idx, value in enumerate(it_cleanedaway):\n",
    "    print(f'Cleaning step {idx + 1}: {value}')\n",
    "    \n",
    "print(f'Final survey length: {len_it_clean}')\n",
    "print(f'The difference between final and initial: {it_difference}')\n",
    "print(f'Summing the individual cleaning steps: {sum(it_cleanedaway)}')"
   ]
  },
  {
   "cell_type": "markdown",
   "id": "f400ca8a-0ef4-444f-b63d-a797fbcd4bf7",
   "metadata": {},
   "source": [
    "## Kaggle"
   ]
  },
  {
   "cell_type": "code",
   "execution_count": null,
   "id": "dcf29c29-e9a3-4944-aa28-67f4256d93d3",
   "metadata": {},
   "outputs": [],
   "source": [
    "len_k_ini = sum([\n",
    "    len_k19_ini,\n",
    "    len_k20_ini,\n",
    "    len_k21_ini,\n",
    "    len_k22_ini\n",
    "])\n",
    "\n",
    "len_k19_salarydrop = len_k19_salarydrop1 - len_k19_salarydrop2\n",
    "len_k20_salarydrop = len_k20_salarydrop1 - len_k20_salarydrop2\n",
    "len_k21_salarydrop = len_k21_salarydrop1 - len_k21_salarydrop2\n",
    "len_k22_salarydrop = len_k22_salarydrop1 - len_k22_salarydrop2\n",
    "\n",
    "len_k_salarydrop = sum([\n",
    "    len_k19_salarydrop,\n",
    "    len_k20_salarydrop,\n",
    "    len_k21_salarydrop,\n",
    "    len_k22_salarydrop\n",
    "])\n",
    "\n",
    "len_k_employmentdrop  = 0\n",
    "len_k_studentdrop     = 0\n",
    "len_k_noncoderdrop    = len_k_noncoderdrop1    - len_k_noncoderdrop2\n",
    "len_k_countrydrop     = len_k_countrydrop1     - len_k_countrydrop2\n",
    "len_k_senioritydrop   = len_k_senioritydrop1   - len_k_senioritydrop2\n",
    "len_k_jobtitledrop    = len_k_jobtitledrop1    - len_k_jobtitledrop2\n",
    "#len_k_outlierdrop     = len_k_outlierdrop1     - len_k_outlierdrop2\n",
    "#len_k_outlierdropnorm = len_k_outlierdropnorm1 - len_k_outlierdropnorm2\n",
    "\n",
    "len_k_clean = (len(df_k))\n",
    "\n",
    "k_difference  = len_k_ini - len_k_clean\n",
    "k_cleanedaway = [\n",
    "    len_k_salarydrop,\n",
    "    len_k_employmentdrop,\n",
    "    len_k_studentdrop,   \n",
    "    len_k_noncoderdrop,\n",
    "    len_k_countrydrop,\n",
    "    len_k_senioritydrop,\n",
    "    len_k_jobtitledrop,\n",
    "    len_k_outlierdrop_small,\n",
    "    len_k_outlierdrop_large\n",
    "]\n",
    "\n",
    "k_salarydrops = [\n",
    "    len_k19_salarydrop,\n",
    "    len_k20_salarydrop,\n",
    "    len_k21_salarydrop,\n",
    "    len_k22_salarydrop\n",
    "]"
   ]
  },
  {
   "cell_type": "code",
   "execution_count": null,
   "id": "a82696b6-1855-484b-9231-ce2b34292c8c",
   "metadata": {},
   "outputs": [],
   "source": [
    "print(f'Initial survey length: {len_k_ini}')\n",
    "# Printing each variable in the list\n",
    "for idx, value in enumerate(k_cleanedaway):\n",
    "    print(f'Cleaning step {idx + 1}: {value}')\n",
    "    \n",
    "print(f'Final survey length: {len_k_clean}')\n",
    "print(f'The difference between final and initial: {k_difference}')\n",
    "print(f'Summing the individual cleaning steps: {sum(k_cleanedaway)}')"
   ]
  },
  {
   "cell_type": "markdown",
   "id": "98cc4092-62c0-41b7-b246-2e8480f480dc",
   "metadata": {},
   "source": [
    "## AI-Jobs.net"
   ]
  },
  {
   "cell_type": "code",
   "execution_count": null,
   "id": "8a9e68cf-aebe-4bbd-87f5-73ffea14ea4d",
   "metadata": {},
   "outputs": [],
   "source": [
    "#len_ai_ini\n",
    "len_ai_salarydrop = 0\n",
    "\n",
    "len_ai_employmentdrop  = len_ai_employmentdrop1  - len_ai_employmentdrop2\n",
    "len_ai_studentdrop     = len_ai_studentdrop1     - len_ai_studentdrop2\n",
    "len_ai_noncoderdrop    = 0\n",
    "len_ai_countrydrop     = len_ai_countrydrop1     - len_ai_countrydrop2\n",
    "len_ai_senioritydrop   = len_ai_senioritydrop1   - len_ai_senioritydrop2\n",
    "len_ai_jobtitledrop    = len_ai_jobtitledrop1    - len_ai_jobtitledrop2\n",
    "#len_ai_outlierdrop     = len_ai_outlierdrop1     - len_ai_outlierdrop2\n",
    "#len_ai_outlierdropnorm = len_ai_outlierdropnorm1 - len_ai_outlierdropnorm2\n",
    "\n",
    "len_ai_clean = (len(df_ai))\n",
    "\n",
    "ai_difference  = len_ai_ini - len_ai_clean\n",
    "ai_cleanedaway = [\n",
    "    len_ai_salarydrop,\n",
    "    len_ai_employmentdrop,\n",
    "    len_ai_studentdrop,   \n",
    "    len_ai_noncoderdrop,\n",
    "    len_ai_countrydrop,\n",
    "    len_ai_senioritydrop,\n",
    "    len_ai_jobtitledrop,\n",
    "    len_ai_outlierdrop_small,\n",
    "    len_ai_outlierdrop_large\n",
    "]"
   ]
  },
  {
   "cell_type": "code",
   "execution_count": null,
   "id": "05056b56-6d59-4d89-a5f7-8e793b561e2d",
   "metadata": {},
   "outputs": [],
   "source": [
    "print(f'Initial survey length: {len_ai_ini}')\n",
    "# Printing each variable in the list\n",
    "for idx, value in enumerate(ai_cleanedaway):\n",
    "    print(f'Cleaning step {idx + 1}: {value}')\n",
    "    \n",
    "print(f'Final survey length: {len_ai_clean}')\n",
    "print(f'The difference between final and initial: {ai_difference}')\n",
    "print(f'Summing the individual cleaning steps: {sum(ai_cleanedaway)}')"
   ]
  },
  {
   "cell_type": "markdown",
   "id": "d6427aa6-4bda-4144-bbe7-198f293a26fb",
   "metadata": {},
   "source": [
    "## Plots"
   ]
  },
  {
   "cell_type": "code",
   "execution_count": null,
   "id": "b5bb7eab-fe6d-454a-8e16-9a413cfe5ecb",
   "metadata": {},
   "outputs": [],
   "source": [
    "# Data to plot\n",
    "labels = cleaning_steps\n",
    "sizes = it_cleanedaway\n",
    "\n",
    "# Filter out zero segments\n",
    "non_zero_indices = [i for i, size in enumerate(sizes) if size > 0]\n",
    "filtered_labels = [labels[i] for i in non_zero_indices]\n",
    "filtered_sizes = [sizes[i] for i in non_zero_indices]\n",
    "\n",
    "# Create an explode list to separate slices for better readability\n",
    "explode = [0.1] * len(filtered_sizes)  # Explode all slices for visibility\n",
    "\n",
    "# Create the pie chart\n",
    "plt.figure(figsize=(4, 4))\n",
    "wedges, texts, autotexts = plt.pie(\n",
    "    filtered_sizes,\n",
    "    #explode=explode,\n",
    "    labels=filtered_labels,\n",
    "    autopct='%1.1f%%',\n",
    "    #shadow=True,\n",
    "    startangle=140,\n",
    "    pctdistance=0.8,  # Distance of percentage from the center\n",
    "    labeldistance=1.1,  # Distance of labels from the center\n",
    "    wedgeprops=dict(width=0.5, edgecolor='white', linewidth=2)  # This creates the ring effect\n",
    ")\n",
    "\n",
    "# Formatting labels and percentages\n",
    "for text in texts:\n",
    "    text.set_fontsize(12)\n",
    "for autotext in autotexts:\n",
    "    autotext.set_fontsize(10)\n",
    "    autotext.set_color('white')\n",
    "\n",
    "plt.title('Germany-IT survey: ratio of cleaned-away data')\n",
    "plt.show()\n"
   ]
  },
  {
   "cell_type": "code",
   "execution_count": null,
   "id": "a21c95b3-7a66-4d87-aec8-d0e75eaed38f",
   "metadata": {},
   "outputs": [],
   "source": [
    "# Data to plot\n",
    "labels = cleaning_steps\n",
    "sizes = ai_cleanedaway\n",
    "\n",
    "# Filter out zero segments\n",
    "non_zero_indices = [i for i, size in enumerate(sizes) if size > 0]\n",
    "filtered_labels = [labels[i] for i in non_zero_indices]\n",
    "filtered_sizes = [sizes[i] for i in non_zero_indices]\n",
    "\n",
    "# Create an explode list to separate slices for better readability\n",
    "explode = [0.1] * len(filtered_sizes)  # Explode all slices for visibility\n",
    "\n",
    "# Create the pie chart\n",
    "plt.figure(figsize=(4, 4))\n",
    "wedges, texts, autotexts = plt.pie(\n",
    "    filtered_sizes,\n",
    "    #explode=explode,\n",
    "    labels=filtered_labels,\n",
    "    autopct='%1.1f%%',\n",
    "    #shadow=True,\n",
    "    startangle=140,\n",
    "    pctdistance=0.8,  # Distance of percentage from the center\n",
    "    labeldistance=1.1,\n",
    "    wedgeprops=dict(width=0.5, edgecolor='white', linewidth=2) \n",
    ")\n",
    "\n",
    "# Formatting labels and percentages\n",
    "for text in texts:\n",
    "    text.set_fontsize(12)\n",
    "for autotext in autotexts:\n",
    "    autotext.set_fontsize(10)\n",
    "    autotext.set_color('white')\n",
    "\n",
    "plt.title('AI-Jobs.net: ratio of cleaned-away data')\n",
    "plt.show()"
   ]
  },
  {
   "cell_type": "code",
   "execution_count": null,
   "id": "aeaa2650-03bb-48aa-9a80-5e06cfb6286e",
   "metadata": {},
   "outputs": [],
   "source": [
    "# Data to plot\n",
    "labels = cleaning_steps\n",
    "sizes = k_cleanedaway\n",
    "\n",
    "# Filter out zero segments\n",
    "non_zero_indices = [i for i, size in enumerate(sizes) if size > 0]\n",
    "filtered_labels = [labels[i] for i in non_zero_indices]\n",
    "filtered_sizes = [sizes[i] for i in non_zero_indices]\n",
    "\n",
    "# Create an explode list to separate slices for better readability\n",
    "explode = [0.1] * len(filtered_sizes)  # Explode all slices for visibility\n",
    "\n",
    "# Create the pie chart\n",
    "plt.figure(figsize=(4, 4))\n",
    "wedges, texts, autotexts = plt.pie(\n",
    "    filtered_sizes,\n",
    "    #explode=explode,\n",
    "    labels=filtered_labels,\n",
    "    autopct='%1.1f%%',\n",
    "    #shadow=True,\n",
    "    startangle=45,\n",
    "    pctdistance=0.8,  # Distance of percentage from the center\n",
    "    labeldistance=1.1,  # Distance of labels from the center\n",
    "    wedgeprops=dict(width=0.5, edgecolor='white', linewidth=2) \n",
    ")\n",
    "\n",
    "# Formatting labels and percentages\n",
    "for text in texts:\n",
    "    text.set_fontsize(12)\n",
    "for autotext in autotexts:\n",
    "    autotext.set_fontsize(10)\n",
    "    autotext.set_color('white')\n",
    "\n",
    "plt.title('Kaggle: ratio of cleaned-away data')\n",
    "plt.show()"
   ]
  },
  {
   "cell_type": "code",
   "execution_count": null,
   "id": "bfbd684e-d7b9-4795-9d4c-9822b0531968",
   "metadata": {},
   "outputs": [],
   "source": [
    "cleaning_steps"
   ]
  },
  {
   "cell_type": "code",
   "execution_count": null,
   "id": "0c9e99e5-0bfd-467d-baa6-038227c80fe9",
   "metadata": {},
   "outputs": [],
   "source": [
    "import matplotlib.pyplot as plt\n",
    "from matplotlib.patches import Patch\n",
    "import numpy as np\n",
    "\n",
    "# Assuming your data is defined as follows:\n",
    "# cleaning_steps = ['Step1', 'Step2', 'Step3', 'Step4', 'Step5', 'Step6', 'Step7']\n",
    "# it_cleanedaway = [...]\n",
    "# ai_cleanedaway = [...]\n",
    "# k_cleanedaway = [...]\n",
    "\n",
    "labels = cleaning_steps\n",
    "sizes_it = it_cleanedaway\n",
    "sizes_ai = ai_cleanedaway\n",
    "sizes_k = k_cleanedaway\n",
    "\n",
    "# Define manual colors for each cleaning step\n",
    "step_colors = {\n",
    "    'Salary-nulls': '#161359',           # Blue\n",
    "    'Employment-nulls': '#2e4263',       # Orange\n",
    "    'Students': '#4095c9',               # Green\n",
    "    'Never have coded': '#5ebdba',       # Red\n",
    "    'Country-nulls': '#edc600',          # Purple\n",
    "    'Seniority-nulls': '#e0d180',        # Brown\n",
    "    'Job-title-nulls': '#a19387',        # Pink\n",
    "    'Outliers: Too small salary': '#b0350c',  # Cyan\n",
    "    'Outliers: Too large salary': '#c77f7f'   # Olive\n",
    "}\n",
    "\n",
    "def filter_data(labels, sizes):\n",
    "    non_zero_indices = [i for i, size in enumerate(sizes) if size > 0]\n",
    "    filtered_labels = [labels[i] for i in non_zero_indices]\n",
    "    filtered_sizes = [sizes[i] for i in non_zero_indices]\n",
    "    return filtered_labels, filtered_sizes\n",
    "\n",
    "# Filter data for each dataframe\n",
    "labels_it, sizes_it = filter_data(labels, sizes_it)\n",
    "labels_ai, sizes_ai = filter_data(labels, sizes_ai)\n",
    "labels_k, sizes_k = filter_data(labels, sizes_k)\n",
    "\n",
    "fig, axes = plt.subplots(1, 3, figsize=(8, 5))\n",
    "\n",
    "# Function to plot pie charts\n",
    "def plot_pie(ax, sizes, labels, title):\n",
    "    colors_list = [step_colors[label] for label in labels]\n",
    "    wedges, _ = ax.pie(\n",
    "        sizes,\n",
    "        colors=colors_list,\n",
    "        startangle=140,\n",
    "        wedgeprops=dict(width=0.5, edgecolor='white', linewidth=2)\n",
    "    )\n",
    "    ax.set_title(title)\n",
    "    # Add percentages next to the pie\n",
    "    total = sum(sizes)\n",
    "    angles = [wedge.theta2 - (wedge.theta2 - wedge.theta1) / 2. for wedge in wedges]\n",
    "    for i, angle in enumerate(angles):\n",
    "        x = np.cos(np.deg2rad(angle))\n",
    "        y = np.sin(np.deg2rad(angle))\n",
    "        ax.text(1.2 * x, 1.2 * y, f'{(sizes[i] / total) * 100:.1f}%', ha='center', va='center', fontsize=10)\n",
    "\n",
    "# Plot for IT Cleaned Away\n",
    "plot_pie(axes[0], sizes_it, labels_it, 'Germany-IT')\n",
    "\n",
    "# Plot for AI Cleaned Away\n",
    "plot_pie(axes[1], sizes_ai, labels_ai, 'AI-Jobs.net')\n",
    "\n",
    "# Plot for K Cleaned Away\n",
    "plot_pie(axes[2], sizes_k, labels_k, 'Kaggle')\n",
    "\n",
    "# Create a vertical legend\n",
    "legend_elements = [Patch(facecolor=step_colors[label], label=label) for label in labels]\n",
    "fig.legend(\n",
    "    handles=legend_elements, \n",
    "    loc='center right', \n",
    "    bbox_to_anchor=(1.15, 0.5), \n",
    "    ncol=1, \n",
    "    title=\"Cleaning Steps\"\n",
    ")\n",
    "\n",
    "# Adjust layout to make space for legend\n",
    "plt.tight_layout(rect=[0, 0, 0.9, 1])  # Leave space on the right for the legend\n",
    "\n",
    "# Set the overall title\n",
    "fig.suptitle('Ratio of Cleaned-Away Data for IT, AI, and K', fontsize=16)\n",
    "\n",
    "plt.show()"
   ]
  },
  {
   "cell_type": "code",
   "execution_count": null,
   "id": "76c75326-8ba6-4208-8463-1de1adfc70af",
   "metadata": {},
   "outputs": [],
   "source": [
    "# Data to plot\n",
    "labels = [2019,2020,2021,2022]\n",
    "sizes = k_salarydrops\n",
    "\n",
    "# Filter out zero segments\n",
    "non_zero_indices = [i for i, size in enumerate(sizes) if size > 0]\n",
    "filtered_labels = [labels[i] for i in non_zero_indices]\n",
    "filtered_sizes = [sizes[i] for i in non_zero_indices]\n",
    "\n",
    "# Create an explode list to separate slices for better readability\n",
    "explode = [0.1] * len(filtered_sizes)  # Explode all slices for visibility\n",
    "\n",
    "# Create the pie chart\n",
    "plt.figure(figsize=(4, 4))\n",
    "wedges, texts, autotexts = plt.pie(\n",
    "    filtered_sizes,\n",
    "    #explode=explode,\n",
    "    labels=filtered_labels,\n",
    "    autopct='%1.1f%%',\n",
    "    #shadow=True,\n",
    "    startangle=140,\n",
    "    pctdistance=0.8,  # Distance of percentage from the center\n",
    "    labeldistance=1.1,  # Distance of labels from the center\n",
    "    wedgeprops=dict(width=0.5, edgecolor='white', linewidth=2) \n",
    ")\n",
    "\n",
    "# Formatting labels and percentages\n",
    "for text in texts:\n",
    "    text.set_fontsize(12)\n",
    "for autotext in autotexts:\n",
    "    autotext.set_fontsize(10)\n",
    "    autotext.set_color('white')\n",
    "\n",
    "plt.title('IT Industry Drops')\n",
    "plt.show()"
   ]
  },
  {
   "cell_type": "code",
   "execution_count": null,
   "id": "22d07485-c7ca-4be0-adca-ecbdda06fa25",
   "metadata": {},
   "outputs": [],
   "source": [
    "# Data\n",
    "categories = ['Germany IT-Survey', 'Kaggle', 'Ai-Jobs']\n",
    "data_points_1 = [len_it_clean, sum(it_cleanedaway)]\n",
    "data_points_2 = [len_k_clean, sum(k_cleanedaway)]\n",
    "data_points_3 = [len_ai_clean, sum(ai_cleanedaway)]\n",
    "\n",
    "# Create the figure and axis\n",
    "fig, ax = plt.subplots(figsize=(6, 3))\n",
    "bar_width = 0.35  # Width of the bars\n",
    "\n",
    "# Colors for the stacks\n",
    "colors = ['green', 'red']\n",
    "colors = ['darkgreen', 'firebrick']\n",
    "colors = ['olive', 'maroon']\n",
    "colors = ['forestgreen', 'crimson']\n",
    "colors = ['seagreen', 'darkred']\n",
    "colors = ['teal', 'darkred']\n",
    "colors = ['seagreen', 'maroon']\n",
    "\n",
    "# Plot each bar category\n",
    "bottom = [0] * len(categories)\n",
    "for i, category in enumerate(categories):\n",
    "    for j, value in enumerate([data_points_1, data_points_2, data_points_3][i]):\n",
    "        ax.bar(category, value, bar_width, bottom=bottom[i], color=colors[j])\n",
    "        bottom[i] += value\n",
    "\n",
    "# Adding labels and title\n",
    "ax.set_ylabel('Responses')\n",
    "ax.set_title('Discarded Responses from the Surveys')\n",
    "\n",
    "# Create custom legend\n",
    "handles = [plt.Rectangle((0,0),1,1, color=color) for color in colors]\n",
    "labels = ['Remaining Data', 'Cleaned-away Data']\n",
    "ax.legend(handles, labels, loc='upper right')\n",
    "\n",
    "# Show plot\n",
    "plt.show()"
   ]
  },
  {
   "cell_type": "code",
   "execution_count": null,
   "id": "4d188524-f089-4852-98cd-3933114f4f35",
   "metadata": {},
   "outputs": [],
   "source": [
    "# Create the figure and axis with specified size\n",
    "fig, ax = plt.subplots(figsize=(4.5, 3))  # Set the figure size here\n",
    "bar_width = 0.35  # Width of the bars\n",
    "\n",
    "# Colors for the stacks\n",
    "colors = ['seagreen', 'maroon']\n",
    "\n",
    "# Plot each bar category\n",
    "bottom = [0] * len(categories)\n",
    "for i, category in enumerate(categories):\n",
    "    for j, value in enumerate([data_points_1, data_points_2, data_points_3][i]):\n",
    "        ax.bar(category, value, bar_width, bottom=bottom[i], color=colors[j])\n",
    "        bottom[i] += value\n",
    "\n",
    "# Adding labels and title\n",
    "ax.set_ylabel('Responses')\n",
    "ax.set_title('Discarded Responses from the Surveys')\n",
    "\n",
    "# Create custom legend\n",
    "handles = [plt.Rectangle((0, 0), 1, 1, color=color) for color in colors]\n",
    "labels = ['Remaining Data', 'Cleaned-away Data']\n",
    "ax.legend(handles, labels, loc='upper center', bbox_to_anchor=(0.5, -0.1), ncol=2)\n",
    "\n",
    "# Adjust layout to fit legend outside the plot\n",
    "plt.tight_layout()\n",
    "\n",
    "# Show plot\n",
    "plt.show()"
   ]
  },
  {
   "cell_type": "markdown",
   "id": "b53fc4d9-d7d5-4736-bd56-91df6638b9db",
   "metadata": {},
   "source": [
    "<div class=\"c\">\n",
    "Conclusion:<br>\n",
    "There is a significant disparity in the data quality between the three main sources of surveys.<br>\n",
    "This can be expected, as Kaggle asked a tremendous amount of questions, and by its nature is targeting the masses.<br>\n",
    "In contrast, Germany-IT survey seems to have been distributed more personally (or let's say it is not tied to an international social-network).<br>\n",
    "About AI-Jobs.net's methodology, we do not know much. It is surprisingly clean.\n",
    "</div> "
   ]
  },
  {
   "cell_type": "markdown",
   "id": "6f40621c-7fd9-4ea7-86f1-9f3da388dbc4",
   "metadata": {},
   "source": [
    "# Exporting the cleaned data"
   ]
  },
  {
   "cell_type": "code",
   "execution_count": null,
   "id": "28436721-055a-4fb2-abb7-5cb35a9e6c34",
   "metadata": {},
   "outputs": [],
   "source": [
    "import os\n",
    "\n",
    "# Dictionary of DataFrames and their corresponding filenames\n",
    "dataframes = {\n",
    "    'df_k': df_k,\n",
    "    'df_it': df_it,\n",
    "    'df_ai': df_ai\n",
    "    # Add more DataFrames and filenames as needed\n",
    "}\n",
    "# Path to the cleaned data folder\n",
    "cleaned_data_folder = '../data/cleaned/'\n",
    "\n",
    "# Ensure the folder exists\n",
    "os.makedirs(cleaned_data_folder, exist_ok=True)\n",
    "\n",
    "# Loop through the dictionary and export each DataFrame to a CSV file\n",
    "for filename, dataframe in dataframes.items():\n",
    "    full_path = os.path.join(cleaned_data_folder, f'{filename}.csv')\n",
    "    dataframe.to_csv(full_path, index=False)\n",
    "\n",
    "print(f'Individual DataFrames and combined DataFrame exported to {cleaned_data_folder}')"
   ]
  },
  {
   "cell_type": "code",
   "execution_count": null,
   "id": "a99da649-9795-4838-a476-8ba2ddb701e5",
   "metadata": {},
   "outputs": [],
   "source": [
    "# Combine DataFrames into one\n",
    "df_combined = pd.concat(dataframes.values(), ignore_index=True)\n",
    "\n",
    "# Path to the cleaned data folder\n",
    "cleaned_data_folder = '../data/cleaned/'\n",
    "\n",
    "# Ensure the folder exists\n",
    "os.makedirs(cleaned_data_folder, exist_ok=True)\n",
    "\n",
    "# Export the combined DataFrame to CSV\n",
    "combined_path = os.path.join(cleaned_data_folder, 'df_combined_tableau.csv')\n",
    "df_combined.to_csv(combined_path, index=False, encoding='utf-8')\n",
    "\n",
    "print(f'Individual DataFrames and combined DataFrame exported to {cleaned_data_folder}')"
   ]
  }
 ],
 "metadata": {
  "kernelspec": {
   "display_name": "data_analytics_01",
   "language": "python",
   "name": "data_analytics_01"
  },
  "language_info": {
   "codemirror_mode": {
    "name": "ipython",
    "version": 3
   },
   "file_extension": ".py",
   "mimetype": "text/x-python",
   "name": "python",
   "nbconvert_exporter": "python",
   "pygments_lexer": "ipython3",
   "version": "3.12.4"
  },
  "toc-autonumbering": true,
  "toc-showcode": false,
  "toc-showmarkdowntxt": false,
  "toc-showtags": false
 },
 "nbformat": 4,
 "nbformat_minor": 5
}
